{
  "nbformat": 4,
  "nbformat_minor": 0,
  "metadata": {
    "colab": {
      "name": "MNIST TFLM Example for STM32",
      "provenance": [],
      "collapsed_sections": [],
      "toc_visible": true
    },
    "kernelspec": {
      "name": "python3",
      "display_name": "Python 3"
    },
    "accelerator": "GPU"
  },
  "cells": [
    {
      "cell_type": "markdown",
      "metadata": {
        "id": "d_q-FH0dgMQq"
      },
      "source": [
        "## TFLM MNIST Demo"
      ]
    },
    {
      "cell_type": "markdown",
      "metadata": {
        "id": "DHRr67Z7cmbS"
      },
      "source": [
        "This example will perform character recognition using the MNIST dataset.\n"
      ]
    },
    {
      "cell_type": "markdown",
      "metadata": {
        "id": "vtTyCnqScIZn"
      },
      "source": [
        "### Contributors\n",
        "\n",
        "*Original Author: [Alex Hoffman](https://github.com/alxhoff)*\n",
        "\n",
        "*Modifications by: [Philipp van Kempen](https://github.com/PhilippvK)*"
      ]
    },
    {
      "cell_type": "markdown",
      "metadata": {
        "id": "Y2d1B-dMcBdE"
      },
      "source": [
        "<table class=\"tfo-notebook-buttons\" align=\"left\">\n",
        "  <td>\n",
        "    <a target=\"_blank\" href=\"https://colab.research.google.com/github/dsettu/tflite/blob/main/har_basic/har_model.ipynb\"><img src=\"https://www.tensorflow.org/images/colab_logo_32px.png\" />Run in Google Colab</a>\n",
        "  </td>\n",
        "  <td>\n",
        "    <a target=\"_blank\" href=\"https://colab.research.google.com/github/dsettu/tflite/blob/main/har_basic/har_model.ipynb\"><img src=\"https://www.tensorflow.org/images/GitHub-Mark-32px.png\" />View source on GitHub</a>\n",
        "  </td>\n",
        "</table>"
      ]
    },
    {
      "cell_type": "markdown",
      "metadata": {
        "id": "wgGKmEBqczy2"
      },
      "source": [
        "### Code"
      ]
    },
    {
      "cell_type": "markdown",
      "metadata": {
        "id": "rtVmJD1Kc44r"
      },
      "source": [
        "Getting started with TF2 and MNIST dataset..."
      ]
    },
    {
      "cell_type": "code",
      "metadata": {
        "id": "RcNx6RbVg3cc",
        "colab": {
          "base_uri": "https://localhost:8080/"
        },
        "outputId": "98ba7409-4033-43ca-9c09-7d3ce952b5c9"
      },
      "source": [
        "%tensorflow_version 2.x\n",
        "!apt-get update\n",
        "!apt-get install -y xxd\n",
        "\n",
        "#! pip uninstall -y tensorflow\n",
        "#! pip install -q tf-nightly\n",
        "! pip install -q tensorflow-model-optimization\n",
        "\n",
        "import tensorflow as tf\n",
        "from tensorflow import keras\n",
        "\n",
        "(images_train, labels_train), (images_test, labels_test) = tf.keras.datasets.mnist.load_data()"
      ],
      "execution_count": 42,
      "outputs": [
        {
          "output_type": "stream",
          "text": [
            "\r0% [Working]\r            \rHit:1 https://cloud.r-project.org/bin/linux/ubuntu bionic-cran40/ InRelease\n",
            "\r0% [Connecting to archive.ubuntu.com] [Waiting for headers] [Connecting to ppa.\r                                                                               \rIgn:2 https://developer.download.nvidia.com/compute/cuda/repos/ubuntu1804/x86_64  InRelease\n",
            "\r0% [Connecting to archive.ubuntu.com] [Waiting for headers] [Connecting to ppa.\r0% [1 InRelease gpgv 3,626 B] [Connecting to archive.ubuntu.com] [Waiting for h\r                                                                               \rIgn:3 https://developer.download.nvidia.com/compute/machine-learning/repos/ubuntu1804/x86_64  InRelease\n",
            "\r0% [1 InRelease gpgv 3,626 B] [Connecting to archive.ubuntu.com] [Waiting for h\r                                                                               \rHit:4 https://developer.download.nvidia.com/compute/cuda/repos/ubuntu1804/x86_64  Release\n",
            "\r0% [1 InRelease gpgv 3,626 B] [Connecting to archive.ubuntu.com] [Waiting for h\r                                                                               \rGet:5 http://security.ubuntu.com/ubuntu bionic-security InRelease [88.7 kB]\n",
            "Hit:6 https://developer.download.nvidia.com/compute/machine-learning/repos/ubuntu1804/x86_64  Release\n",
            "Hit:7 http://ppa.launchpad.net/c2d4u.team/c2d4u4.0+/ubuntu bionic InRelease\n",
            "Hit:9 http://archive.ubuntu.com/ubuntu bionic InRelease\n",
            "Hit:10 http://ppa.launchpad.net/graphics-drivers/ppa/ubuntu bionic InRelease\n",
            "Get:11 http://archive.ubuntu.com/ubuntu bionic-updates InRelease [88.7 kB]\n",
            "Get:13 http://archive.ubuntu.com/ubuntu bionic-backports InRelease [74.6 kB]\n",
            "Fetched 252 kB in 2s (157 kB/s)\n",
            "Reading package lists... Done\n",
            "Reading package lists... Done\n",
            "Building dependency tree       \n",
            "Reading state information... Done\n",
            "xxd is already the newest version (2:8.0.1453-1ubuntu1.4).\n",
            "0 upgraded, 0 newly installed, 0 to remove and 64 not upgraded.\n"
          ],
          "name": "stdout"
        }
      ]
    },
    {
      "cell_type": "markdown",
      "metadata": {
        "id": "4Y2hcinVg4Ws"
      },
      "source": [
        "Display single sample from the MNIST dataset. It should be noted that the colors displayed here are in **inverted colors**."
      ]
    },
    {
      "cell_type": "code",
      "metadata": {
        "id": "MnCKuVlVjRhX",
        "colab": {
          "base_uri": "https://localhost:8080/",
          "height": 299
        },
        "outputId": "3a2322ed-b369-4a43-ba1c-4ae5a8a16b0a"
      },
      "source": [
        "import matplotlib.pyplot as plt\n",
        "test_index = 12345\n",
        "print(labels_train[test_index])\n",
        "plt.imshow(images_train[test_index], cmap='Greys')"
      ],
      "execution_count": 43,
      "outputs": [
        {
          "output_type": "stream",
          "text": [
            "3\n"
          ],
          "name": "stdout"
        },
        {
          "output_type": "execute_result",
          "data": {
            "text/plain": [
              "<matplotlib.image.AxesImage at 0x7f75e60aa438>"
            ]
          },
          "metadata": {
            "tags": []
          },
          "execution_count": 43
        },
        {
          "output_type": "display_data",
          "data": {
            "image/png": "[encoded data removed]",
            "text/plain": [
              "<Figure size 432x288 with 1 Axes>"
            ]
          },
          "metadata": {
            "tags": [],
            "needs_background": "light"
          }
        }
      ]
    },
    {
      "cell_type": "markdown",
      "metadata": {
        "id": "-76bBO2rlABd"
      },
      "source": [
        "The input of the neural network needs to know the input shape that it is going to be fed"
      ]
    },
    {
      "cell_type": "code",
      "metadata": {
        "id": "gWwrc29FlEgQ",
        "colab": {
          "base_uri": "https://localhost:8080/"
        },
        "outputId": "dbb01530-b9fe-46d2-b251-0480eb8f4a85"
      },
      "source": [
        "input_shape = images_train.shape\n",
        "print(\"{} images, each with shape of {} pixels x {} pixels\".format(input_shape[0], input_shape[1], input_shape[2]))"
      ],
      "execution_count": 3,
      "outputs": [
        {
          "output_type": "stream",
          "text": [
            "60000 images, each with shape of 28 pixels x 28 pixels\n"
          ],
          "name": "stdout"
        }
      ]
    },
    {
      "cell_type": "markdown",
      "metadata": {
        "id": "zn-3cvuymAWT"
      },
      "source": [
        "The input shape for the model must be reshaped to 4D as the current shape does not show that each pixel is a 1D array where only the greyscale value (0-255) is stored. The input tensor's shape will be 3D as it will take a single-channel image. "
      ]
    },
    {
      "cell_type": "code",
      "metadata": {
        "id": "qOZnWmzUmTuI",
        "colab": {
          "base_uri": "https://localhost:8080/"
        },
        "outputId": "393e0482-0099-4089-e2fa-74850900f698"
      },
      "source": [
        "images_train = images_train.reshape(images_train.shape[0], images_train.shape[1], images_train.shape[2], 1)\n",
        "images_test = images_test.reshape(images_test.shape[0], images_test.shape[1], images_test.shape[2], 1)\n",
        "input_tensor_shape = (images_test.shape[1], images_test.shape[2], 1)\n",
        "print(\"Input shape: {}\".format(input_shape))"
      ],
      "execution_count": 4,
      "outputs": [
        {
          "output_type": "stream",
          "text": [
            "Input shape: (60000, 28, 28)\n"
          ],
          "name": "stdout"
        }
      ]
    },
    {
      "cell_type": "markdown",
      "metadata": {
        "id": "mjPMYztkm0tg"
      },
      "source": [
        "The greyscale values stores in the images' pixels are 8 bit values and need to be normalized into floats between 0-1."
      ]
    },
    {
      "cell_type": "code",
      "metadata": {
        "id": "adD13BYinHlG"
      },
      "source": [
        "images_train = images_train.astype('float32')\n",
        "images_test = images_test.astype('float32')\n",
        "images_train /= 255\n",
        "images_test /= 255"
      ],
      "execution_count": 5,
      "outputs": []
    },
    {
      "cell_type": "markdown",
      "metadata": {
        "id": "A3oXnIHunXvs"
      },
      "source": [
        "Now the convolutional NN that we will use to classify the input images taken from the touch screen will have the following layer structure\n",
        "\n",
        "1. Conv2D\n",
        "2. MaxPooling2D\n",
        "3. Flatten\n",
        "4. Dense\n",
        "5. Dropout\n",
        "11. Dense\n",
        "\n"
      ]
    },
    {
      "cell_type": "code",
      "metadata": {
        "id": "k-2aWbOirRCy"
      },
      "source": [
        "import tensorflow_model_optimization as tfmot\n",
        "\n",
        "quantize_model = tfmot.quantization.keras.quantize_model\n",
        "\n",
        "model = keras.Sequential()\n",
        "\n",
        "model.add(keras.layers.Conv2D(28, kernel_size=(3,3), input_shape=input_tensor_shape))\n",
        "model.add(keras.layers.MaxPooling2D(pool_size=(2, 2)))\n",
        "model.add(keras.layers.Flatten()) # Flattening the 2D arrays for fully connected layers\n",
        "model.add(keras.layers.Dense(128, activation=tf.nn.relu))\n",
        "model.add(keras.layers.Dropout(0.2))\n",
        "model.add(keras.layers.Dense(10,activation=tf.nn.softmax))\n",
        "\n",
        "model2 = keras.Sequential()\n",
        "\n",
        "model2.add(keras.layers.Conv2D(12, kernel_size=(3,3), input_shape=input_tensor_shape))\n",
        "model2.add(keras.layers.MaxPooling2D(pool_size=(2, 2)))\n",
        "model2.add(keras.layers.Flatten()) # Flattening the 2D arrays for fully connected layers\n",
        "model2.add(keras.layers.Dense(10,activation=tf.nn.softmax))\n",
        "\n",
        "model3 = keras.Sequential()\n",
        "\n",
        "model3.add(keras.layers.Conv2D(12, kernel_size=(3,3), strides=(2,2), input_shape=input_tensor_shape))\n",
        "model3.add(keras.layers.MaxPooling2D(pool_size=(3, 3)))\n",
        "#model3.add(keras.layers.Flatten()) # Flattening the 2D arrays for fully connected layers\n",
        "model3.add(keras.layers.Reshape((16,12,1)))\n",
        "model3.add(keras.layers.MaxPooling2D(pool_size=(3, 3)))\n",
        "\n",
        "#model3.add(keras.layers.MaxPooling1D(pool_size=6, padding='valid', data_format='channels_last'))\n",
        "model3.add(keras.layers.Flatten())\n",
        "model3.add(keras.layers.Dense(10,activation=tf.nn.softmax))\n",
        "\n",
        "model4 = keras.Sequential()\n",
        "\n",
        "model4.add(keras.layers.Conv2D(12, kernel_size=(3,3), strides=(2,2), input_shape=input_tensor_shape))\n",
        "model4.add(keras.layers.Reshape( (13, 13, 12, 1)))\n",
        "model4.add(keras.layers.MaxPooling3D(pool_size=(6, 3,3)))\n",
        "model4.add(keras.layers.Flatten()) # Flattening the 2D arrays for fully connected layers\n",
        "model4.add(keras.layers.Dense(10,activation=tf.nn.softmax))\n",
        "\n",
        "model5 = keras.Sequential()\n",
        "\n",
        "model5.add(keras.layers.Conv2D(12, kernel_size=(3,3), strides=(2,2), input_shape=input_tensor_shape))\n",
        "model5.add(keras.layers.Reshape( (338, 6, 1)))\n",
        "model5.add(keras.layers.MaxPooling2D(pool_size=(26, 3)))\n",
        "model5.add(keras.layers.Flatten()) # Flattening the 2D arrays for fully connected layers\n",
        "model5.add(keras.layers.Dense(10,activation=tf.nn.softmax))\n",
        "\n",
        "quantized_model5 = quantize_model(model5)"
      ],
      "execution_count": 6,
      "outputs": []
    },
    {
      "cell_type": "markdown",
      "metadata": {
        "id": "N5CLXe63rRPf"
      },
      "source": [
        "The Conv2D layer extracts features from the input image using filters that slide across the input image. In this case we will use 28 different filters to extract a large number of unique features that will then be used to classify each image in the later layers. Thus the output of this layer will have the shape (28, 28, 1, 28)\n",
        "\n",
        "MaxPooling2D is used to reduce the output size of the convolutional layer by reducing each 2 x 2 unique chunk of the output down in to a singular value, this reducing the output's size by a factor of 4. This will reduce our (28, 28, 1, 28) tensor down to a (7, 7, 1, 28) tensor.\n",
        "\n",
        "The Flatten layer then takes this 2D array (our image) and shapes it into a single dimension (1372).\n",
        "\n",
        "The following Dense layer reduces the input 1372 values down into 128 classes, taking the first steps in classifying the image into on of the 10 output classes (0-9). This is done using the relu activation function.\n",
        "\n",
        "The Dropout layer sets 20% of the tensor's values to 0 so as to reduce overfitting.\n",
        "\n",
        "Finally the last Dense layer reduces the output value down to the 10 classes, each representing a digit between 0 and 9. This is done using the softmax activation function which makes the outputs a set of probabilities summing to 1.\n"
      ]
    },
    {
      "cell_type": "markdown",
      "metadata": {
        "id": "NrG75fkHxdkN"
      },
      "source": [
        "Train the model"
      ]
    },
    {
      "cell_type": "code",
      "metadata": {
        "id": "RXWfgL0LxS3o",
        "colab": {
          "base_uri": "https://localhost:8080/"
        },
        "outputId": "c28fc88c-3be9-41c7-e21e-23744b20fcc8"
      },
      "source": [
        "model.compile(optimizer='adam', loss='sparse_categorical_crossentropy', metrics=['accuracy'])\n",
        "model2.compile(optimizer='adam', loss='sparse_categorical_crossentropy', metrics=['accuracy'])\n",
        "model3.compile(optimizer='adam', loss='sparse_categorical_crossentropy', metrics=['accuracy'])\n",
        "model4.compile(optimizer='adam', loss='sparse_categorical_crossentropy', metrics=['accuracy'])\n",
        "model5.compile(optimizer='adam', loss='sparse_categorical_crossentropy', metrics=['accuracy'])\n",
        "\n",
        "quantized_model5.compile(optimizer='adam',\n",
        "              loss='sparse_categorical_crossentropy',\n",
        "              metrics=['accuracy'])\n",
        "\n",
        "batch_size = 100\n",
        "epochs = 10\n",
        "\n",
        "print(\"Model 1\")\n",
        "history = model.fit(x=images_train,y=labels_train, epochs=epochs, batch_size=batch_size)\n",
        "model.summary()\n",
        "\n",
        "print(\"Model 2\")\n",
        "history2 = model2.fit(x=images_train,y=labels_train, epochs=epochs, batch_size=batch_size)\n",
        "model2.summary()\n",
        "\n",
        "print(\"Model 3\")\n",
        "history3 = model3.fit(x=images_train,y=labels_train, epochs=epochs, batch_size=batch_size)\n",
        "model3.summary()\n",
        "\n",
        "print(\"Model 4\")\n",
        "history4 = model4.fit(x=images_train,y=labels_train, epochs=epochs, batch_size=batch_size)\n",
        "model4.summary()\n",
        "\n",
        "print(\"Model 5\")\n",
        "history5 = model5.fit(x=images_train,y=labels_train, epochs=epochs, batch_size=batch_size)\n",
        "model5.summary()\n",
        "\n",
        "print(\"Model 5 Quantized\")\n",
        "history5_q = quantized_model5.fit(x=images_train,y=labels_train, epochs=epochs, batch_size=batch_size)\n",
        "quantized_model5.summary()"
      ],
      "execution_count": 7,
      "outputs": [
        {
          "output_type": "stream",
          "text": [
            "Model 1\n",
            "Epoch 1/10\n",
            "600/600 [==============================] - 2s 3ms/step - loss: 0.2521 - accuracy: 0.9252\n",
            "Epoch 2/10\n",
            "600/600 [==============================] - 1s 2ms/step - loss: 0.0961 - accuracy: 0.9710\n",
            "Epoch 3/10\n",
            "600/600 [==============================] - 1s 2ms/step - loss: 0.0654 - accuracy: 0.9801\n",
            "Epoch 4/10\n",
            "600/600 [==============================] - 1s 2ms/step - loss: 0.0483 - accuracy: 0.9851\n",
            "Epoch 5/10\n",
            "600/600 [==============================] - 1s 2ms/step - loss: 0.0389 - accuracy: 0.9883\n",
            "Epoch 6/10\n",
            "600/600 [==============================] - 1s 2ms/step - loss: 0.0322 - accuracy: 0.9896\n",
            "Epoch 7/10\n",
            "600/600 [==============================] - 1s 2ms/step - loss: 0.0260 - accuracy: 0.9914\n",
            "Epoch 8/10\n",
            "600/600 [==============================] - 1s 2ms/step - loss: 0.0239 - accuracy: 0.9921\n",
            "Epoch 9/10\n",
            "600/600 [==============================] - 1s 2ms/step - loss: 0.0189 - accuracy: 0.9936\n",
            "Epoch 10/10\n",
            "600/600 [==============================] - 1s 2ms/step - loss: 0.0187 - accuracy: 0.9938\n",
            "Model: \"sequential\"\n",
            "_________________________________________________________________\n",
            "Layer (type)                 Output Shape              Param #   \n",
            "=================================================================\n",
            "conv2d (Conv2D)              (None, 26, 26, 28)        280       \n",
            "_________________________________________________________________\n",
            "max_pooling2d (MaxPooling2D) (None, 13, 13, 28)        0         \n",
            "_________________________________________________________________\n",
            "flatten (Flatten)            (None, 4732)              0         \n",
            "_________________________________________________________________\n",
            "dense (Dense)                (None, 128)               605824    \n",
            "_________________________________________________________________\n",
            "dropout (Dropout)            (None, 128)               0         \n",
            "_________________________________________________________________\n",
            "dense_1 (Dense)              (None, 10)                1290      \n",
            "=================================================================\n",
            "Total params: 607,394\n",
            "Trainable params: 607,394\n",
            "Non-trainable params: 0\n",
            "_________________________________________________________________\n",
            "Model 2\n",
            "Epoch 1/10\n",
            "600/600 [==============================] - 1s 2ms/step - loss: 0.4089 - accuracy: 0.8898\n",
            "Epoch 2/10\n",
            "600/600 [==============================] - 1s 2ms/step - loss: 0.1936 - accuracy: 0.9452\n",
            "Epoch 3/10\n",
            "600/600 [==============================] - 1s 2ms/step - loss: 0.1426 - accuracy: 0.9596\n",
            "Epoch 4/10\n",
            "600/600 [==============================] - 1s 2ms/step - loss: 0.1146 - accuracy: 0.9676\n",
            "Epoch 5/10\n",
            "600/600 [==============================] - 1s 2ms/step - loss: 0.0977 - accuracy: 0.9726\n",
            "Epoch 6/10\n",
            "600/600 [==============================] - 1s 2ms/step - loss: 0.0865 - accuracy: 0.9750\n",
            "Epoch 7/10\n",
            "600/600 [==============================] - 1s 2ms/step - loss: 0.0779 - accuracy: 0.9777\n",
            "Epoch 8/10\n",
            "600/600 [==============================] - 1s 2ms/step - loss: 0.0714 - accuracy: 0.9793\n",
            "Epoch 9/10\n",
            "600/600 [==============================] - 1s 2ms/step - loss: 0.0657 - accuracy: 0.9810\n",
            "Epoch 10/10\n",
            "600/600 [==============================] - 1s 2ms/step - loss: 0.0614 - accuracy: 0.9819\n",
            "Model: \"sequential_1\"\n",
            "_________________________________________________________________\n",
            "Layer (type)                 Output Shape              Param #   \n",
            "=================================================================\n",
            "conv2d_1 (Conv2D)            (None, 26, 26, 12)        120       \n",
            "_________________________________________________________________\n",
            "max_pooling2d_1 (MaxPooling2 (None, 13, 13, 12)        0         \n",
            "_________________________________________________________________\n",
            "flatten_1 (Flatten)          (None, 2028)              0         \n",
            "_________________________________________________________________\n",
            "dense_2 (Dense)              (None, 10)                20290     \n",
            "=================================================================\n",
            "Total params: 20,410\n",
            "Trainable params: 20,410\n",
            "Non-trainable params: 0\n",
            "_________________________________________________________________\n",
            "Model 3\n",
            "Epoch 1/10\n",
            "600/600 [==============================] - 1s 2ms/step - loss: 1.8526 - accuracy: 0.4124\n",
            "Epoch 2/10\n",
            "600/600 [==============================] - 1s 2ms/step - loss: 0.9366 - accuracy: 0.7059\n",
            "Epoch 3/10\n",
            "600/600 [==============================] - 1s 2ms/step - loss: 0.7580 - accuracy: 0.7534\n",
            "Epoch 4/10\n",
            "600/600 [==============================] - 1s 2ms/step - loss: 0.6920 - accuracy: 0.7737\n",
            "Epoch 5/10\n",
            "600/600 [==============================] - 1s 2ms/step - loss: 0.6524 - accuracy: 0.7865\n",
            "Epoch 6/10\n",
            "600/600 [==============================] - 1s 2ms/step - loss: 0.6242 - accuracy: 0.7965\n",
            "Epoch 7/10\n",
            "600/600 [==============================] - 1s 2ms/step - loss: 0.6015 - accuracy: 0.8025\n",
            "Epoch 8/10\n",
            "600/600 [==============================] - 1s 2ms/step - loss: 0.5837 - accuracy: 0.8080\n",
            "Epoch 9/10\n",
            "600/600 [==============================] - 1s 2ms/step - loss: 0.5695 - accuracy: 0.8129\n",
            "Epoch 10/10\n",
            "600/600 [==============================] - 1s 2ms/step - loss: 0.5577 - accuracy: 0.8169\n",
            "Model: \"sequential_2\"\n",
            "_________________________________________________________________\n",
            "Layer (type)                 Output Shape              Param #   \n",
            "=================================================================\n",
            "conv2d_2 (Conv2D)            (None, 13, 13, 12)        120       \n",
            "_________________________________________________________________\n",
            "max_pooling2d_2 (MaxPooling2 (None, 4, 4, 12)          0         \n",
            "_________________________________________________________________\n",
            "reshape (Reshape)            (None, 16, 12, 1)         0         \n",
            "_________________________________________________________________\n",
            "max_pooling2d_3 (MaxPooling2 (None, 5, 4, 1)           0         \n",
            "_________________________________________________________________\n",
            "flatten_2 (Flatten)          (None, 20)                0         \n",
            "_________________________________________________________________\n",
            "dense_3 (Dense)              (None, 10)                210       \n",
            "=================================================================\n",
            "Total params: 330\n",
            "Trainable params: 330\n",
            "Non-trainable params: 0\n",
            "_________________________________________________________________\n",
            "Model 4\n",
            "Epoch 1/10\n",
            "600/600 [==============================] - 1s 2ms/step - loss: 1.7465 - accuracy: 0.4218\n",
            "Epoch 2/10\n",
            "600/600 [==============================] - 1s 2ms/step - loss: 1.1781 - accuracy: 0.6344\n",
            "Epoch 3/10\n",
            "600/600 [==============================] - 1s 2ms/step - loss: 0.9459 - accuracy: 0.7093\n",
            "Epoch 4/10\n",
            "600/600 [==============================] - 1s 2ms/step - loss: 0.8226 - accuracy: 0.7465\n",
            "Epoch 5/10\n",
            "600/600 [==============================] - 1s 2ms/step - loss: 0.7476 - accuracy: 0.7697\n",
            "Epoch 6/10\n",
            "600/600 [==============================] - 1s 2ms/step - loss: 0.6955 - accuracy: 0.7837\n",
            "Epoch 7/10\n",
            "600/600 [==============================] - 1s 2ms/step - loss: 0.6563 - accuracy: 0.7947\n",
            "Epoch 8/10\n",
            "600/600 [==============================] - 1s 2ms/step - loss: 0.6174 - accuracy: 0.8059\n",
            "Epoch 9/10\n",
            "600/600 [==============================] - 1s 2ms/step - loss: 0.5840 - accuracy: 0.8155\n",
            "Epoch 10/10\n",
            "600/600 [==============================] - 1s 2ms/step - loss: 0.5611 - accuracy: 0.8227\n",
            "Model: \"sequential_3\"\n",
            "_________________________________________________________________\n",
            "Layer (type)                 Output Shape              Param #   \n",
            "=================================================================\n",
            "conv2d_3 (Conv2D)            (None, 13, 13, 12)        120       \n",
            "_________________________________________________________________\n",
            "reshape_1 (Reshape)          (None, 13, 13, 12, 1)     0         \n",
            "_________________________________________________________________\n",
            "max_pooling3d (MaxPooling3D) (None, 2, 4, 4, 1)        0         \n",
            "_________________________________________________________________\n",
            "flatten_3 (Flatten)          (None, 32)                0         \n",
            "_________________________________________________________________\n",
            "dense_4 (Dense)              (None, 10)                330       \n",
            "=================================================================\n",
            "Total params: 450\n",
            "Trainable params: 450\n",
            "Non-trainable params: 0\n",
            "_________________________________________________________________\n",
            "Model 5\n",
            "Epoch 1/10\n",
            "600/600 [==============================] - 1s 2ms/step - loss: 1.7802 - accuracy: 0.3876\n",
            "Epoch 2/10\n",
            "600/600 [==============================] - 1s 2ms/step - loss: 0.9852 - accuracy: 0.6797\n",
            "Epoch 3/10\n",
            "600/600 [==============================] - 1s 2ms/step - loss: 0.8220 - accuracy: 0.7219\n",
            "Epoch 4/10\n",
            "600/600 [==============================] - 1s 2ms/step - loss: 0.7671 - accuracy: 0.7353\n",
            "Epoch 5/10\n",
            "600/600 [==============================] - 1s 2ms/step - loss: 0.7370 - accuracy: 0.7438\n",
            "Epoch 6/10\n",
            "600/600 [==============================] - 1s 2ms/step - loss: 0.7165 - accuracy: 0.7505\n",
            "Epoch 7/10\n",
            "600/600 [==============================] - 1s 2ms/step - loss: 0.6986 - accuracy: 0.7573\n",
            "Epoch 8/10\n",
            "600/600 [==============================] - 1s 2ms/step - loss: 0.6814 - accuracy: 0.7650\n",
            "Epoch 9/10\n",
            "600/600 [==============================] - 1s 2ms/step - loss: 0.6641 - accuracy: 0.7731\n",
            "Epoch 10/10\n",
            "600/600 [==============================] - 1s 2ms/step - loss: 0.6476 - accuracy: 0.7808\n",
            "Model: \"sequential_4\"\n",
            "_________________________________________________________________\n",
            "Layer (type)                 Output Shape              Param #   \n",
            "=================================================================\n",
            "conv2d_4 (Conv2D)            (None, 13, 13, 12)        120       \n",
            "_________________________________________________________________\n",
            "reshape_2 (Reshape)          (None, 338, 6, 1)         0         \n",
            "_________________________________________________________________\n",
            "max_pooling2d_4 (MaxPooling2 (None, 13, 2, 1)          0         \n",
            "_________________________________________________________________\n",
            "flatten_4 (Flatten)          (None, 26)                0         \n",
            "_________________________________________________________________\n",
            "dense_5 (Dense)              (None, 10)                270       \n",
            "=================================================================\n",
            "Total params: 390\n",
            "Trainable params: 390\n",
            "Non-trainable params: 0\n",
            "_________________________________________________________________\n",
            "Model 5 Quantized\n",
            "Epoch 1/10\n",
            "600/600 [==============================] - 2s 3ms/step - loss: 1.7825 - accuracy: 0.3884\n",
            "Epoch 2/10\n",
            "600/600 [==============================] - 2s 3ms/step - loss: 0.9976 - accuracy: 0.6765\n",
            "Epoch 3/10\n",
            "600/600 [==============================] - 2s 3ms/step - loss: 0.8339 - accuracy: 0.7198\n",
            "Epoch 4/10\n",
            "600/600 [==============================] - 2s 3ms/step - loss: 0.7797 - accuracy: 0.7311\n",
            "Epoch 5/10\n",
            "600/600 [==============================] - 2s 3ms/step - loss: 0.7508 - accuracy: 0.7386\n",
            "Epoch 6/10\n",
            "600/600 [==============================] - 2s 3ms/step - loss: 0.7306 - accuracy: 0.7460\n",
            "Epoch 7/10\n",
            "600/600 [==============================] - 2s 3ms/step - loss: 0.7131 - accuracy: 0.7523\n",
            "Epoch 8/10\n",
            "600/600 [==============================] - 2s 3ms/step - loss: 0.6972 - accuracy: 0.7594\n",
            "Epoch 9/10\n",
            "600/600 [==============================] - 2s 4ms/step - loss: 0.6834 - accuracy: 0.7657\n",
            "Epoch 10/10\n",
            "600/600 [==============================] - 2s 3ms/step - loss: 0.6699 - accuracy: 0.7722\n",
            "Model: \"sequential_4\"\n",
            "_________________________________________________________________\n",
            "Layer (type)                 Output Shape              Param #   \n",
            "=================================================================\n",
            "quantize_layer (QuantizeLaye (None, 28, 28, 1)         3         \n",
            "_________________________________________________________________\n",
            "quant_conv2d_4 (QuantizeWrap (None, 13, 13, 12)        147       \n",
            "_________________________________________________________________\n",
            "quant_reshape_2 (QuantizeWra (None, 338, 6, 1)         1         \n",
            "_________________________________________________________________\n",
            "quant_max_pooling2d_4 (Quant (None, 13, 2, 1)          1         \n",
            "_________________________________________________________________\n",
            "quant_flatten_4 (QuantizeWra (None, 26)                1         \n",
            "_________________________________________________________________\n",
            "quant_dense_5 (QuantizeWrapp (None, 10)                275       \n",
            "=================================================================\n",
            "Total params: 428\n",
            "Trainable params: 390\n",
            "Non-trainable params: 38\n",
            "_________________________________________________________________\n"
          ],
          "name": "stdout"
        }
      ]
    },
    {
      "cell_type": "markdown",
      "metadata": {
        "id": "fNtcEcKuxgYb"
      },
      "source": [
        "Now we can evaluate our trained model using the test data"
      ]
    },
    {
      "cell_type": "code",
      "metadata": {
        "id": "D4zrA9hNxkAC",
        "colab": {
          "base_uri": "https://localhost:8080/"
        },
        "outputId": "615f5864-4afc-4e56-bc82-02095914ef70"
      },
      "source": [
        "res = model.evaluate(images_test, labels_test)\n",
        "print(\"Model1 has an accuracy of {0:.2f}%\".format(res[1] * 100))\n",
        "\n",
        "res = model2.evaluate(images_test, labels_test)\n",
        "print(\"Model2 has an accuracy of {0:.2f}%\".format(res[1] * 100))\n",
        "\n",
        "res = model3.evaluate(images_test, labels_test)\n",
        "print(\"Model3 has an accuracy of {0:.2f}%\".format(res[1] * 100))\n",
        "\n",
        "res = model4.evaluate(images_test, labels_test)\n",
        "print(\"Model4 has an accuracy of {0:.2f}%\".format(res[1] * 100))\n",
        "\n",
        "res = model5.evaluate(images_test, labels_test)\n",
        "print(\"Model5 has an accuracy of {0:.2f}%\".format(res[1] * 100))\n",
        "\n",
        "res = quantized_model5.evaluate(images_test, labels_test)\n",
        "print(\"Quantized model5 has an accuracy of {0:.2f}%\".format(res[1] * 100))\n"
      ],
      "execution_count": 8,
      "outputs": [
        {
          "output_type": "stream",
          "text": [
            "313/313 [==============================] - 1s 2ms/step - loss: 0.0571 - accuracy: 0.9846\n",
            "Model1 has an accuracy of 98.46%\n",
            "313/313 [==============================] - 1s 2ms/step - loss: 0.0746 - accuracy: 0.9769\n",
            "Model2 has an accuracy of 97.69%\n",
            "313/313 [==============================] - 1s 2ms/step - loss: 0.5202 - accuracy: 0.8328\n",
            "Model3 has an accuracy of 83.28%\n",
            "313/313 [==============================] - 1s 2ms/step - loss: 0.5421 - accuracy: 0.8280\n",
            "Model4 has an accuracy of 82.80%\n",
            "313/313 [==============================] - 1s 2ms/step - loss: 0.6096 - accuracy: 0.7907\n",
            "Model5 has an accuracy of 79.07%\n",
            "313/313 [==============================] - 1s 2ms/step - loss: 0.6336 - accuracy: 0.7883\n",
            "Quantized model5 has an accuracy of 78.83%\n"
          ],
          "name": "stdout"
        }
      ]
    },
    {
      "cell_type": "markdown",
      "metadata": {
        "id": "jVPWoBSBeRL_"
      },
      "source": [
        "For the moment only `model2` is working in an acceptable way. The other models should be fixed in the future!"
      ]
    },
    {
      "cell_type": "code",
      "metadata": {
        "id": "LeIhxRzT3w7U"
      },
      "source": [
        "#best_model = quantized_model5\n",
        "best_model = model2"
      ],
      "execution_count": 9,
      "outputs": []
    },
    {
      "cell_type": "markdown",
      "metadata": {
        "id": "bDvb0nPEerdn"
      },
      "source": [
        "The following is a workaround which can be removed in the future!"
      ]
    },
    {
      "cell_type": "code",
      "metadata": {
        "id": "RH9A9qz6dpEm",
        "colab": {
          "base_uri": "https://localhost:8080/"
        },
        "outputId": "0d25e8f3-5223-4d63-b470-b5f2cf7a62af"
      },
      "source": [
        "best_model.save('best_model.model')"
      ],
      "execution_count": 10,
      "outputs": [
        {
          "output_type": "stream",
          "text": [
            "WARNING:tensorflow:From /usr/local/lib/python3.6/dist-packages/tensorflow/python/training/tracking/tracking.py:111: Model.state_updates (from tensorflow.python.keras.engine.training) is deprecated and will be removed in a future version.\n",
            "Instructions for updating:\n",
            "This property should not be used in TensorFlow 2.0, as updates are applied automatically.\n",
            "WARNING:tensorflow:From /usr/local/lib/python3.6/dist-packages/tensorflow/python/training/tracking/tracking.py:111: Layer.updates (from tensorflow.python.keras.engine.base_layer) is deprecated and will be removed in a future version.\n",
            "Instructions for updating:\n",
            "This property should not be used in TensorFlow 2.0, as updates are applied automatically.\n",
            "INFO:tensorflow:Assets written to: best_model.model/assets\n"
          ],
          "name": "stdout"
        }
      ]
    },
    {
      "cell_type": "markdown",
      "metadata": {
        "id": "Ytu4OjmCzMIT"
      },
      "source": [
        "Now we will need to convert and save our model into a downloadable file that will be appropriate for a microcontroller. This is done using the TensorFlow Lite Converter. The `TFLITE_BUILTINS` option tells the converter to only use TensorFlow Lite built in operations."
      ]
    },
    {
      "cell_type": "code",
      "metadata": {
        "id": "HQ8FDCOczYMb"
      },
      "source": [
        "converter = tf.lite.TFLiteConverter.from_saved_model('best_model.model')\n",
        "converter.target_spec.supported_ops = [tf.lite.OpsSet.TFLITE_BUILTINS]\n",
        "tflite_model = converter.convert()\n",
        "\n",
        "open(\"MNIST_model_no_optimizations.tflite\", \"wb\").write(tflite_model)\n",
        "!xxd -i MNIST_model_no_optimizations.tflite > MNIST_model_no_optimizations.cc\n"
      ],
      "execution_count": 11,
      "outputs": []
    },
    {
      "cell_type": "markdown",
      "metadata": {
        "id": "it6Eoe3x1B0U"
      },
      "source": [
        "Now we will be running this model on a constrained device and as such we will need to perform quantization and optimizations to reduce the size of the model. The optimizations that TensorFlow offers are detailed [here](https://www.tensorflow.org/lite/performance/model_optimization). Also see [here](https://www.tensorflow.org/model_optimization/guide/quantization/training) for more information on quanitazation aware training and [here](https://www.tensorflow.org/lite/performance/post_training_quantization) for information on post-training quantization."
      ]
    },
    {
      "cell_type": "code",
      "metadata": {
        "id": "dW9_WVtz1K5Y"
      },
      "source": [
        "converter = tf.lite.TFLiteConverter.from_saved_model('best_model.model')\n",
        "converter.target_spec.supported_ops = [tf.lite.OpsSet.TFLITE_BUILTINS]\n",
        "converter.optimizations = [tf.lite.Optimize.OPTIMIZE_FOR_SIZE]\n",
        "tflite_model = converter.convert()\n",
        "\n",
        "open(\"MNIST_optimized_for_size.tflite\", \"wb\").write(tflite_model)\n",
        "!xxd -i MNIST_optimized_for_size.tflite > MNIST_optimized_for_size.cc\n",
        "\n",
        "converter = tf.lite.TFLiteConverter.from_saved_model('best_model.model')\n",
        "converter.target_spec.supported_ops = [tf.lite.OpsSet.TFLITE_BUILTINS]\n",
        "converter.optimizations = [tf.lite.Optimize.DEFAULT]\n",
        "tflite_model = converter.convert()\n",
        "\n",
        "open(\"MNIST_default_optimizations.tflite\", \"wb\").write(tflite_model)\n",
        "!xxd -i MNIST_default_optimizations.tflite > MNIST_default_optimizations.cc"
      ],
      "execution_count": 12,
      "outputs": []
    },
    {
      "cell_type": "markdown",
      "metadata": {
        "id": "9ysFrDZq13Zx"
      },
      "source": [
        "These optimizations reduced the file size significantly but we can do better. Enforcing full integer quantization for all operations as well as ensuring all model math is quantized to 8-bit. Doing so requires a representative dataset that can be used to evaluate optimizations made by the converter. The representative dataset must be a python iterator.\n",
        "\n",
        "**Warning:**\n",
        "\n",
        "To remove all `Quantize` nodes from the graph (which currently do not support `uint8`) signed 8-bit integers have to be used for inputs and outputs!"
      ]
    },
    {
      "cell_type": "code",
      "metadata": {
        "id": "c7WgyAFXCvk9"
      },
      "source": [
        "import numpy as np\n",
        "\n",
        "def representative_dataset_gen():\n",
        "  for image in images_test:\n",
        "    array = np.array(image)\n",
        "    array = np.expand_dims(array, axis = 0)\n",
        "    yield ([array])\n",
        "\n",
        "converter = tf.lite.TFLiteConverter.from_saved_model('best_model.model')\n",
        "converter.target_spec.supported_ops = [tf.lite.OpsSet.TFLITE_BUILTINS_INT8]\n",
        "converter.optimizations = [tf.lite.Optimize.DEFAULT]\n",
        "converter.inference_input_type = tf.int8\n",
        "converter.inference_output_type = tf.int8\n",
        "converter.representative_dataset = representative_dataset_gen\n",
        "tflite_model = converter.convert()\n",
        "\n",
        "open(\"MNIST_full_quanitization.tflite\", \"wb\").write(tflite_model)\n",
        "!xxd -i MNIST_full_quanitization.tflite > MNIST_full_quanitization.cc"
      ],
      "execution_count": 14,
      "outputs": []
    },
    {
      "cell_type": "markdown",
      "metadata": {
        "id": "d5gtsHgOXe62"
      },
      "source": [
        "### Plot Confusion matrix"
      ]
    },
    {
      "cell_type": "code",
      "metadata": {
        "colab": {
          "base_uri": "https://localhost:8080/"
        },
        "id": "r5MQLbArQaqc",
        "outputId": "c3b5983f-eaac-4711-f725-19cf8ee78433"
      },
      "source": [
        "!pip install mlxtend\n",
        "from mlxtend.plotting import plot_confusion_matrix\n",
        "from sklearn.metrics import confusion_matrix\n",
        "import matplotlib"
      ],
      "execution_count": 25,
      "outputs": [
        {
          "output_type": "stream",
          "text": [
            "Requirement already satisfied: mlxtend in /usr/local/lib/python3.6/dist-packages (0.14.0)\n",
            "Requirement already satisfied: setuptools in /usr/local/lib/python3.6/dist-packages (from mlxtend) (50.3.2)\n",
            "Requirement already satisfied: numpy>=1.10.4 in /usr/local/lib/python3.6/dist-packages (from mlxtend) (1.18.5)\n",
            "Requirement already satisfied: scipy>=0.17 in /usr/local/lib/python3.6/dist-packages (from mlxtend) (1.4.1)\n",
            "Requirement already satisfied: matplotlib>=1.5.1 in /usr/local/lib/python3.6/dist-packages (from mlxtend) (3.2.2)\n",
            "Requirement already satisfied: scikit-learn>=0.18 in /usr/local/lib/python3.6/dist-packages (from mlxtend) (0.22.2.post1)\n",
            "Requirement already satisfied: pandas>=0.17.1 in /usr/local/lib/python3.6/dist-packages (from mlxtend) (1.1.4)\n",
            "Requirement already satisfied: python-dateutil>=2.1 in /usr/local/lib/python3.6/dist-packages (from matplotlib>=1.5.1->mlxtend) (2.8.1)\n",
            "Requirement already satisfied: pyparsing!=2.0.4,!=2.1.2,!=2.1.6,>=2.0.1 in /usr/local/lib/python3.6/dist-packages (from matplotlib>=1.5.1->mlxtend) (2.4.7)\n",
            "Requirement already satisfied: cycler>=0.10 in /usr/local/lib/python3.6/dist-packages (from matplotlib>=1.5.1->mlxtend) (0.10.0)\n",
            "Requirement already satisfied: kiwisolver>=1.0.1 in /usr/local/lib/python3.6/dist-packages (from matplotlib>=1.5.1->mlxtend) (1.3.1)\n",
            "Requirement already satisfied: joblib>=0.11 in /usr/local/lib/python3.6/dist-packages (from scikit-learn>=0.18->mlxtend) (0.17.0)\n",
            "Requirement already satisfied: pytz>=2017.2 in /usr/local/lib/python3.6/dist-packages (from pandas>=0.17.1->mlxtend) (2018.9)\n",
            "Requirement already satisfied: six>=1.5 in /usr/local/lib/python3.6/dist-packages (from python-dateutil>=2.1->matplotlib>=1.5.1->mlxtend) (1.15.0)\n"
          ],
          "name": "stdout"
        }
      ]
    },
    {
      "cell_type": "code",
      "metadata": {
        "colab": {
          "base_uri": "https://localhost:8080/",
          "height": 442
        },
        "id": "hqyIMnkCPYeq",
        "outputId": "9316fbf5-fa30-4302-db25-d004042c2212"
      },
      "source": [
        "# Initialize an interpreter with the model\n",
        "interpreter = tf.lite.Interpreter(\"MNIST_full_quanitization.tflite\")\n",
        "\n",
        "# Allocate memory for the model's input Tensor's\n",
        "interpreter.allocate_tensors()\n",
        "\n",
        "input_details = interpreter.get_input_details()[0]\n",
        "output_details = interpreter.get_output_details()[0]\n",
        "\n",
        "# Create arrays to store the results\n",
        "har_model_predictions = []\n",
        "i=0;\n",
        "# Inference with Tensorflow Lite model\n",
        "for image in images_test:\n",
        " \n",
        "  tf_input = image.reshape(1,28,28,1)\n",
        "  tf_input = tf_input.astype(np.float32)\n",
        "\n",
        "# Manually quantize the input from float to integer\n",
        "  scale, zero_point = input_details['quantization']\n",
        "  tflite_integer_input = tf_input / scale + zero_point\n",
        "  tflite_integer_input = tflite_integer_input.astype(input_details['dtype'])\n",
        "  interpreter.set_tensor(input_details['index'], tflite_integer_input)\n",
        "\n",
        "  if(i==0):\n",
        "    num7=tflite_integer_input\n",
        "  if(i==1):\n",
        "    num2=tflite_integer_input\n",
        "\n",
        "  i=i+1\n",
        "  interpreter.invoke()\n",
        "\n",
        "  output_details = interpreter.get_output_details()[0]\n",
        "  tflite_integer_output = interpreter.get_tensor(output_details['index'])\n",
        "  # Manually dequantize the output from integer to float\n",
        "  scale, zero_point = output_details['quantization']\n",
        "  tflite_output = tflite_integer_output.astype(np.float32)\n",
        "  tflite_output = (tflite_output - zero_point) * scale\n",
        "\n",
        "  har_model_predictions.append(tflite_output[0])\n",
        "\n",
        "# Plot Confusion matrix\n",
        "y_pred=np.argmax(har_model_predictions, axis=1)\n",
        "mat = confusion_matrix(labels_test, y_pred)\n",
        "plot_confusion_matrix(conf_mat=mat, show_normed=True, figsize=(7,7))\n",
        "plt.show()"
      ],
      "execution_count": 34,
      "outputs": [
        {
          "output_type": "display_data",
          "data": {
            "image/png": "[encoded data removed]",
            "text/plain": [
              "<Figure size 504x504 with 1 Axes>"
            ]
          },
          "metadata": {
            "tags": [],
            "needs_background": "light"
          }
        }
      ]
    },
    {
      "cell_type": "markdown",
      "metadata": {
        "id": "UtOCTKTXXj0o"
      },
      "source": [
        "## Sample data for inferencing in MCU"
      ]
    },
    {
      "cell_type": "code",
      "metadata": {
        "colab": {
          "base_uri": "https://localhost:8080/",
          "height": 282
        },
        "id": "fvJLRJZ4QpIX",
        "outputId": "60b7fa3e-4dd8-4a49-9a68-dda3c4067d9f"
      },
      "source": [
        "import numpy as np\n",
        "num7image = num7.reshape(28,28)\n",
        "num7array = np.array(num7image)\n",
        "num7array = np.expand_dims(num7array, axis = 0)\n",
        "num7array.tofile(\"file7.csv\",sep=',')\n",
        "plt.imshow(num7image, cmap='Greys')\n",
        "\n"
      ],
      "execution_count": 47,
      "outputs": [
        {
          "output_type": "execute_result",
          "data": {
            "text/plain": [
              "<matplotlib.image.AxesImage at 0x7f75a4329978>"
            ]
          },
          "metadata": {
            "tags": []
          },
          "execution_count": 47
        },
        {
          "output_type": "display_data",
          "data": {
            "image/png": "[encoded data removed]",
            "text/plain": [
              "<Figure size 432x288 with 1 Axes>"
            ]
          },
          "metadata": {
            "tags": [],
            "needs_background": "light"
          }
        }
      ]
    },
    {
      "cell_type": "code",
      "metadata": {
        "colab": {
          "base_uri": "https://localhost:8080/",
          "height": 282
        },
        "id": "Ky-uFf97X2io",
        "outputId": "d610d866-6ea3-46c9-ab06-5928d4de319d"
      },
      "source": [
        "num2image = num2.reshape(28,28)\n",
        "num2array = np.array(num2image)\n",
        "num2array = np.expand_dims(num2array, axis = 0)\n",
        "num2array.tofile(\"file2.csv\",sep=',')\n",
        "plt.imshow(num2image, cmap=\"Greys\")"
      ],
      "execution_count": 48,
      "outputs": [
        {
          "output_type": "execute_result",
          "data": {
            "text/plain": [
              "<matplotlib.image.AxesImage at 0x7f75a4306978>"
            ]
          },
          "metadata": {
            "tags": []
          },
          "execution_count": 48
        },
        {
          "output_type": "display_data",
          "data": {
            "image/png": "[encoded data removed]",
            "text/plain": [
              "<Figure size 432x288 with 1 Axes>"
            ]
          },
          "metadata": {
            "tags": [],
            "needs_background": "light"
          }
        }
      ]
    },
    {
      "cell_type": "markdown",
      "metadata": {
        "id": "7JBLhgQ-2PXr"
      },
      "source": [
        "This file needs to now be included in our microcontroller project and as such must be in a form that is easily usable on a device without a file system. xxd can be used to convert the model into a C source file where the model is stored as a byte array."
      ]
    },
    {
      "cell_type": "code",
      "metadata": {
        "id": "Encu0Li72cmB"
      },
      "source": [
        "!xxd -i MNIST_full_quanitization.tflite > MNIST_full_quanitization.cc\n",
        "#!cat MNIST_full_quanitization.cc"
      ],
      "execution_count": 49,
      "outputs": []
    },
    {
      "cell_type": "markdown",
      "metadata": {
        "id": "lvBIhOTI2u1J"
      },
      "source": [
        "This file is downloadable from the left hand menu of colab. Although this file is too large to be used as a model on a microcontroller. We will have to do some more optimizations."
      ]
    },
    {
      "cell_type": "markdown",
      "metadata": {
        "id": "rw7zP9zP80xP"
      },
      "source": [
        "Pruning is where unncessary values in weight tensors are removed, thus reducing the number of parameters needed to store the model. This is done by further training the model while intermittently running pruning code that removes unnecessary connections between the layers of the neuran network."
      ]
    },
    {
      "cell_type": "code",
      "metadata": {
        "id": "0rah2i039XJg",
        "colab": {
          "base_uri": "https://localhost:8080/"
        },
        "outputId": "f33d8309-f52d-4695-820e-b027a2fa29c1"
      },
      "source": [
        "!pip install -q tensorflow-model-optimization\n",
        "\n",
        "import numpy as np \n",
        "import os\n",
        "from tensorflow_model_optimization.sparsity import keras as sparsity\n",
        "\n",
        "end_step = np.ceil(1.0 * images_train.shape[0] / batch_size).astype(np.int32) * epochs\n",
        "print(end_step)\n",
        "\n",
        "pruning_params = {\n",
        "    'pruning_schedule': sparsity.PolynomialDecay(initial_sparsity=0.5,\n",
        "                                                 final_sparsity=0.9,\n",
        "                                                 begin_step=0,\n",
        "                                                 end_step=end_step,\n",
        "                                                 frequency=100\n",
        "                                                 )\n",
        "}\n",
        "\n",
        "new_pruned_model = sparsity.prune_low_magnitude(best_model, **pruning_params)\n",
        "new_pruned_model.summary()\n",
        "\n",
        "new_pruned_model.compile(loss='sparse_categorical_crossentropy', optimizer='adam', metrics=['accuracy'])\n",
        "\n",
        "callbacks = [sparsity.UpdatePruningStep(),sparsity.PruningSummaries(log_dir=os.path.abspath(os.getcwd()), profile_batch=0)]\n",
        "\n",
        "new_pruned_model.fit(images_train, labels_train,\n",
        "                     batch_size=batch_size,\n",
        "                     epochs=epochs,\n",
        "                     verbose=1,\n",
        "                     callbacks=callbacks)\n",
        "\n",
        "score = new_pruned_model.evaluate(images_test, labels_test, verbose=0)\n",
        "print(\"Test loss: {}\".format(score[0]))\n",
        "print(\"Test accuracy: {}\".format(score[1]))"
      ],
      "execution_count": 16,
      "outputs": [
        {
          "output_type": "stream",
          "text": [
            "6000\n",
            "WARNING:tensorflow:From /usr/local/lib/python3.6/dist-packages/tensorflow_model_optimization/python/core/sparsity/keras/pruning_wrapper.py:200: Layer.add_variable (from tensorflow.python.keras.engine.base_layer) is deprecated and will be removed in a future version.\n",
            "Instructions for updating:\n",
            "Please use `layer.add_weight` method instead.\n"
          ],
          "name": "stdout"
        },
        {
          "output_type": "stream",
          "text": [
            "WARNING:tensorflow:From /usr/local/lib/python3.6/dist-packages/tensorflow_model_optimization/python/core/sparsity/keras/pruning_wrapper.py:200: Layer.add_variable (from tensorflow.python.keras.engine.base_layer) is deprecated and will be removed in a future version.\n",
            "Instructions for updating:\n",
            "Please use `layer.add_weight` method instead.\n"
          ],
          "name": "stderr"
        },
        {
          "output_type": "stream",
          "text": [
            "Model: \"sequential_1\"\n",
            "_________________________________________________________________\n",
            "Layer (type)                 Output Shape              Param #   \n",
            "=================================================================\n",
            "prune_low_magnitude_conv2d_1 (None, 26, 26, 12)        230       \n",
            "_________________________________________________________________\n",
            "prune_low_magnitude_max_pool (None, 13, 13, 12)        1         \n",
            "_________________________________________________________________\n",
            "prune_low_magnitude_flatten_ (None, 2028)              1         \n",
            "_________________________________________________________________\n",
            "prune_low_magnitude_dense_2  (None, 10)                40572     \n",
            "=================================================================\n",
            "Total params: 40,804\n",
            "Trainable params: 20,410\n",
            "Non-trainable params: 20,394\n",
            "_________________________________________________________________\n",
            "Epoch 1/10\n",
            "  1/600 [..............................] - ETA: 0s - loss: 0.6180 - accuracy: 0.8200WARNING:tensorflow:Callbacks method `on_train_batch_begin` is slow compared to the batch time (batch time: 0.0031s vs `on_train_batch_begin` time: 0.0052s). Check your callbacks.\n"
          ],
          "name": "stdout"
        },
        {
          "output_type": "stream",
          "text": [
            "WARNING:tensorflow:Callbacks method `on_train_batch_begin` is slow compared to the batch time (batch time: 0.0031s vs `on_train_batch_begin` time: 0.0052s). Check your callbacks.\n"
          ],
          "name": "stderr"
        },
        {
          "output_type": "stream",
          "text": [
            "600/600 [==============================] - 3s 5ms/step - loss: 0.0820 - accuracy: 0.9773\n",
            "Epoch 2/10\n",
            "600/600 [==============================] - 3s 5ms/step - loss: 0.0821 - accuracy: 0.9768\n",
            "Epoch 3/10\n",
            "600/600 [==============================] - 3s 5ms/step - loss: 0.0929 - accuracy: 0.9739\n",
            "Epoch 4/10\n",
            "600/600 [==============================] - 3s 5ms/step - loss: 0.1194 - accuracy: 0.9655\n",
            "Epoch 5/10\n",
            "600/600 [==============================] - 3s 5ms/step - loss: 0.1428 - accuracy: 0.9583\n",
            "Epoch 6/10\n",
            "600/600 [==============================] - 3s 5ms/step - loss: 0.1945 - accuracy: 0.9447\n",
            "Epoch 7/10\n",
            "600/600 [==============================] - 3s 5ms/step - loss: 0.1956 - accuracy: 0.9439\n",
            "Epoch 8/10\n",
            "600/600 [==============================] - 3s 5ms/step - loss: 0.1837 - accuracy: 0.9463\n",
            "Epoch 9/10\n",
            "600/600 [==============================] - 3s 5ms/step - loss: 0.1699 - accuracy: 0.9500\n",
            "Epoch 10/10\n",
            "600/600 [==============================] - 3s 5ms/step - loss: 0.1612 - accuracy: 0.9525\n",
            "Test loss: 0.16027900576591492\n",
            "Test accuracy: 0.9541000127792358\n"
          ],
          "name": "stdout"
        }
      ]
    },
    {
      "cell_type": "markdown",
      "metadata": {
        "id": "o9ctnEnjAzKu"
      },
      "source": [
        "Now we can export the pruned model"
      ]
    },
    {
      "cell_type": "code",
      "metadata": {
        "id": "d6oh6ZXXA1BF",
        "colab": {
          "base_uri": "https://localhost:8080/"
        },
        "outputId": "d38ec7c6-7ded-4770-c05c-1c088c1c7ae9"
      },
      "source": [
        "new_pruned_model.summary()\n",
        "best_model_pruned = sparsity.strip_pruning(new_pruned_model)\n",
        "best_model_pruned.summary()"
      ],
      "execution_count": 17,
      "outputs": [
        {
          "output_type": "stream",
          "text": [
            "Model: \"sequential_1\"\n",
            "_________________________________________________________________\n",
            "Layer (type)                 Output Shape              Param #   \n",
            "=================================================================\n",
            "prune_low_magnitude_conv2d_1 (None, 26, 26, 12)        230       \n",
            "_________________________________________________________________\n",
            "prune_low_magnitude_max_pool (None, 13, 13, 12)        1         \n",
            "_________________________________________________________________\n",
            "prune_low_magnitude_flatten_ (None, 2028)              1         \n",
            "_________________________________________________________________\n",
            "prune_low_magnitude_dense_2  (None, 10)                40572     \n",
            "=================================================================\n",
            "Total params: 40,804\n",
            "Trainable params: 20,410\n",
            "Non-trainable params: 20,394\n",
            "_________________________________________________________________\n",
            "Model: \"sequential_1\"\n",
            "_________________________________________________________________\n",
            "Layer (type)                 Output Shape              Param #   \n",
            "=================================================================\n",
            "conv2d_1 (Conv2D)            (None, 26, 26, 12)        120       \n",
            "_________________________________________________________________\n",
            "max_pooling2d_1 (MaxPooling2 (None, 13, 13, 12)        0         \n",
            "_________________________________________________________________\n",
            "flatten_1 (Flatten)          (None, 2028)              0         \n",
            "_________________________________________________________________\n",
            "dense_2 (Dense)              (None, 10)                20290     \n",
            "=================================================================\n",
            "Total params: 20,410\n",
            "Trainable params: 20,410\n",
            "Non-trainable params: 0\n",
            "_________________________________________________________________\n"
          ],
          "name": "stdout"
        }
      ]
    },
    {
      "cell_type": "markdown",
      "metadata": {
        "id": "sSzcstilCDGL"
      },
      "source": [
        "We can compare each pruned weight against zero to see how many weights were pruned out of the model"
      ]
    },
    {
      "cell_type": "code",
      "metadata": {
        "id": "eKhsXQz6CKCG",
        "colab": {
          "base_uri": "https://localhost:8080/"
        },
        "outputId": "56aaaaac-76f8-43c7-92ca-a264cfd5738f"
      },
      "source": [
        "from tensorflow.keras.models import load_model\n",
        "\n",
        "import numpy as np\n",
        "\n",
        "for i, w in enumerate(best_model_pruned.get_weights()):\n",
        "    print(\"{} -- Total:{}, Zeros: {:.2f}%\".format(\n",
        "        model.weights[i].name, w.size, np.sum(w == 0) / w.size * 100 ))"
      ],
      "execution_count": 18,
      "outputs": [
        {
          "output_type": "stream",
          "text": [
            "conv2d/kernel:0 -- Total:108, Zeros: 89.81%\n",
            "conv2d/bias:0 -- Total:12, Zeros: 0.00%\n",
            "dense/kernel:0 -- Total:20280, Zeros: 90.00%\n",
            "dense/bias:0 -- Total:10, Zeros: 0.00%\n"
          ],
          "name": "stdout"
        }
      ]
    },
    {
      "cell_type": "markdown",
      "metadata": {
        "id": "XtYoMRRnChQh"
      },
      "source": [
        "Same as before we can quantize the model, convert and save"
      ]
    },
    {
      "cell_type": "code",
      "metadata": {
        "id": "AkFxO3jwCrF3",
        "colab": {
          "base_uri": "https://localhost:8080/"
        },
        "outputId": "76a41b98-2e19-4d9b-c71a-408f6a40d8e0"
      },
      "source": [
        "# Convert the model to the TensorFlow Lite format with quantization\n",
        "converter = tf.lite.TFLiteConverter.from_keras_model(best_model_pruned)\n",
        "converter.target_spec.supported_ops = [tf.lite.OpsSet.TFLITE_BUILTINS_INT8]\n",
        "converter.optimizations = [tf.lite.Optimize.DEFAULT]\n",
        "converter.inference_input_type = tf.uint8\n",
        "converter.inference_output_type = tf.uint8\n",
        "converter.representative_dataset = representative_dataset_gen\n",
        "tflite_model = converter.convert()\n",
        "\n",
        "# Save the model to disk\n",
        "open(\"MNIST_pruned.tflite\", \"wb\").write(tflite_model)\n",
        "!xxd -i MNIST_pruned.tflite > MNIST_pruned.cc"
      ],
      "execution_count": 19,
      "outputs": [
        {
          "output_type": "stream",
          "text": [
            "INFO:tensorflow:Assets written to: /tmp/tmpxyd2wp1y/assets\n"
          ],
          "name": "stdout"
        },
        {
          "output_type": "stream",
          "text": [
            "INFO:tensorflow:Assets written to: /tmp/tmpxyd2wp1y/assets\n"
          ],
          "name": "stderr"
        }
      ]
    },
    {
      "cell_type": "markdown",
      "metadata": {
        "id": "ZKmWVr-UDCLM"
      },
      "source": [
        "Puning saved us"
      ]
    },
    {
      "cell_type": "code",
      "metadata": {
        "id": "2HWDND29DD3s",
        "colab": {
          "base_uri": "https://localhost:8080/"
        },
        "outputId": "2200ab04-a64e-4096-fabe-79525fe97bb3"
      },
      "source": [
        "print(\"Quanized file size difference is: {} bytes\".format(os.path.getsize(\"MNIST_model_no_optimizations.tflite\") - os.path.getsize(\"MNIST_full_quanitization.tflite\")))\n",
        "print(\"Pruned file size difference is: {} bytes\".format(os.path.getsize(\"MNIST_full_quanitization.tflite\") - os.path.getsize(\"MNIST_pruned.tflite\")))"
      ],
      "execution_count": 20,
      "outputs": [
        {
          "output_type": "stream",
          "text": [
            "Quanized file size difference is: 60132 bytes\n",
            "Pruned file size difference is: 64 bytes\n"
          ],
          "name": "stdout"
        }
      ]
    },
    {
      "cell_type": "markdown",
      "metadata": {
        "id": "iqGkaLQ3rfvI"
      },
      "source": [
        "As the generated models are so large we need to make sure they are stored in the .rodata segment. To do so the model must be prefixed extern const such that it does not land in the .data segment and kill our ram. "
      ]
    },
    {
      "cell_type": "markdown",
      "metadata": {
        "id": "2UGVcZMkTe5P"
      },
      "source": [
        "Currently only `MNIST_full_quanitization.tflite` is relevant for deployment, comment-in the others if required."
      ]
    },
    {
      "cell_type": "code",
      "metadata": {
        "id": "0fsVhonWuvV_"
      },
      "source": [
        "!sed -i '1s/^/extern const /' MNIST_full_quanitization.cc\n",
        "!sed -i '$s/^/extern const /' MNIST_full_quanitization.cc\n",
        "#!sed -i '1s/^/extern const /' MNIST_model_no_optimizations.cc\n",
        "#!sed -i '$s/^/extern const /' MNIST_model_no_optimizations.cc\n",
        "#!sed -i '1s/^/extern const /' MNIST_default_optimizations.cc\n",
        "#!sed -i '$s/^/extern const /' MNIST_default_optimizations.cc\n",
        "#!sed -i '1s/^/extern const /' MNIST_optimized_for_size.cc\n",
        "#!sed -i '$s/^/extern const /' MNIST_optimized_for_size.cc\n",
        "#!sed -i '1s/^/extern const /' MNIST_pruned.cc\n",
        "#!sed -i '$s/^/extern const /' MNIST_pruned.cc"
      ],
      "execution_count": 21,
      "outputs": []
    },
    {
      "cell_type": "code",
      "metadata": {
        "id": "MQYV94JOUxVU"
      },
      "source": [
        ""
      ],
      "execution_count": 21,
      "outputs": []
    }
  ]
}