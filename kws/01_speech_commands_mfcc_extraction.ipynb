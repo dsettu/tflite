{
  "nbformat": 4,
  "nbformat_minor": 0,
  "metadata": {
    "kernelspec": {
      "display_name": "Python 3",
      "language": "python",
      "name": "python3"
    },
    "language_info": {
      "codemirror_mode": {
        "name": "ipython",
        "version": 3
      },
      "file_extension": ".py",
      "mimetype": "text/x-python",
      "name": "python",
      "nbconvert_exporter": "python",
      "pygments_lexer": "ipython3",
      "version": "3.7.5"
    },
    "colab": {
      "name": "01-speech-commands-mfcc-extraction.ipynb",
      "provenance": []
    }
  },
  "cells": [
    {
      "cell_type": "code",
      "metadata": {
        "colab": {
          "base_uri": "https://localhost:8080/"
        },
        "id": "MKoVrD68oiey",
        "outputId": "c46c19c9-9811-4308-eae5-f0ca4d12dff5"
      },
      "source": [
        "from os import listdir\n",
        "from os.path import isdir, join\n",
        "import librosa\n",
        "import random\n",
        "import numpy as np\n",
        "import matplotlib.pyplot as plt\n",
        "!pip install python_speech_features\n",
        "!pip install playsound\n",
        "import python_speech_features"
      ],
      "execution_count": 12,
      "outputs": [
        {
          "output_type": "stream",
          "text": [
            "Collecting python_speech_features\n",
            "  Downloading https://files.pythonhosted.org/packages/ff/d1/94c59e20a2631985fbd2124c45177abaa9e0a4eee8ba8a305aa26fc02a8e/python_speech_features-0.6.tar.gz\n",
            "Building wheels for collected packages: python-speech-features\n",
            "  Building wheel for python-speech-features (setup.py) ... \u001b[?25l\u001b[?25hdone\n",
            "  Created wheel for python-speech-features: filename=python_speech_features-0.6-cp36-none-any.whl size=5887 sha256=883abac5f2f67160ea1506cfaef5dd4ec058b3405125517dd386847b02e0272c\n",
            "  Stored in directory: /root/.cache/pip/wheels/3c/42/7c/f60e9d1b40015cd69b213ad90f7c18a9264cd745b9888134be\n",
            "Successfully built python-speech-features\n",
            "Installing collected packages: python-speech-features\n",
            "Successfully installed python-speech-features-0.6\n"
          ],
          "name": "stdout"
        }
      ]
    },
    {
      "cell_type": "markdown",
      "metadata": {
        "id": "7NWNCsURtfj9"
      },
      "source": [
        "## Download dataset\n",
        "By default the script will download the [Speech Commands dataset](https://storage.googleapis.com/download.tensorflow.org/data/speech_commands_v0.02.tar.gz)"
      ]
    },
    {
      "cell_type": "code",
      "metadata": {
        "colab": {
          "base_uri": "https://localhost:8080/"
        },
        "id": "igjP284FolEu",
        "outputId": "63454a58-eca7-4b72-f36e-0cd9675323a4"
      },
      "source": [
        "!wget -P dataset https://storage.googleapis.com/download.tensorflow.org/data/speech_commands_v0.02.tar.gz \n",
        "%cd dataset\n",
        "!sudo tar -xvf speech_commands_v0.02.tar.gz\n",
        "%cd .."
      ],
      "execution_count": 2,
      "outputs": [
        {
          "output_type": "stream",
          "text": [
            "--2020-11-29 16:11:34--  https://storage.googleapis.com/download.tensorflow.org/data/speech_commands_v0.02.tar.gz\n",
            "Resolving storage.googleapis.com (storage.googleapis.com)... 173.194.210.128, 173.194.215.128, 173.194.216.128, ...\n",
            "Connecting to storage.googleapis.com (storage.googleapis.com)|173.194.210.128|:443... connected.\n",
            "HTTP request sent, awaiting response... 200 OK\n",
            "Length: 2428923189 (2.3G) [application/gzip]\n",
            "Saving to: ‘dataset/speech_commands_v0.02.tar.gz’\n",
            "\n",
            "speech_commands_v0. 100%[===================>]   2.26G  60.7MB/s    in 19s     \n",
            "\n",
            "2020-11-29 16:11:53 (124 MB/s) - ‘dataset/speech_commands_v0.02.tar.gz’ saved [2428923189/2428923189]\n",
            "\n"
          ],
          "name": "stdout"
        }
      ]
    },
    {
      "cell_type": "code",
      "metadata": {
        "colab": {
          "base_uri": "https://localhost:8080/"
        },
        "id": "i7stC7D_oiez",
        "outputId": "28aa8910-38cc-43da-bdc3-bca4ec1191eb"
      },
      "source": [
        "# Dataset path and view possible targets\n",
        "dataset_path = 'dataset'\n",
        "for name in listdir(dataset_path):\n",
        "    if isdir(join(dataset_path, name)):\n",
        "        print(name)"
      ],
      "execution_count": 34,
      "outputs": [
        {
          "output_type": "stream",
          "text": [
            "one\n",
            "bed\n",
            "off\n",
            "three\n",
            "learn\n",
            "nine\n",
            "down\n",
            "up\n",
            "wow\n",
            "left\n",
            "on\n",
            "backward\n",
            "two\n",
            "bird\n",
            "tree\n",
            "follow\n",
            "house\n",
            "_background_noise_\n",
            "visual\n",
            "five\n",
            "eight\n",
            "seven\n",
            "marvin\n",
            "stop\n",
            "forward\n",
            "happy\n",
            "six\n",
            "four\n",
            "sheila\n",
            "dog\n",
            "yes\n",
            "zero\n",
            "no\n",
            "go\n",
            "right\n",
            "cat\n"
          ],
          "name": "stdout"
        }
      ]
    },
    {
      "cell_type": "code",
      "metadata": {
        "colab": {
          "base_uri": "https://localhost:8080/"
        },
        "id": "WJxSdiZ2oiez",
        "outputId": "868ce246-243a-4732-98a4-d7cf76303ae1"
      },
      "source": [
        "# Create an all targets list\n",
        "all_targets = [name for name in listdir(dataset_path) if isdir(join(dataset_path, name))]\n",
        "print(all_targets)"
      ],
      "execution_count": 35,
      "outputs": [
        {
          "output_type": "stream",
          "text": [
            "['one', 'bed', 'off', 'three', 'learn', 'nine', 'down', 'up', 'wow', 'left', 'on', 'backward', 'two', 'bird', 'tree', 'follow', 'house', '_background_noise_', 'visual', 'five', 'eight', 'seven', 'marvin', 'stop', 'forward', 'happy', 'six', 'four', 'sheila', 'dog', 'yes', 'zero', 'no', 'go', 'right', 'cat']\n"
          ],
          "name": "stdout"
        }
      ]
    },
    {
      "cell_type": "code",
      "metadata": {
        "colab": {
          "base_uri": "https://localhost:8080/"
        },
        "id": "ymzLRkM3oiez",
        "outputId": "88645abe-85e8-49ca-a34e-97863eb74f67"
      },
      "source": [
        "# Leave off background noise set\n",
        "all_targets.remove('_background_noise_')\n",
        "print(all_targets)"
      ],
      "execution_count": 36,
      "outputs": [
        {
          "output_type": "stream",
          "text": [
            "['one', 'bed', 'off', 'three', 'learn', 'nine', 'down', 'up', 'wow', 'left', 'on', 'backward', 'two', 'bird', 'tree', 'follow', 'house', 'visual', 'five', 'eight', 'seven', 'marvin', 'stop', 'forward', 'happy', 'six', 'four', 'sheila', 'dog', 'yes', 'zero', 'no', 'go', 'right', 'cat']\n"
          ],
          "name": "stdout"
        }
      ]
    },
    {
      "cell_type": "code",
      "metadata": {
        "colab": {
          "base_uri": "https://localhost:8080/"
        },
        "id": "t8g5Gdmqoiez",
        "outputId": "947d76a0-df88-44ae-defb-3703f6c2daad"
      },
      "source": [
        "# See how many files are in each\n",
        "num_samples = 0\n",
        "for target in all_targets:\n",
        "    print(len(listdir(join(dataset_path, target))))\n",
        "    num_samples += len(listdir(join(dataset_path, target)))\n",
        "print('Total samples:', num_samples)"
      ],
      "execution_count": 37,
      "outputs": [
        {
          "output_type": "stream",
          "text": [
            "3890\n",
            "2014\n",
            "3745\n",
            "3727\n",
            "1575\n",
            "3934\n",
            "3917\n",
            "3723\n",
            "2123\n",
            "3801\n",
            "3845\n",
            "1664\n",
            "3880\n",
            "2064\n",
            "1759\n",
            "1579\n",
            "2113\n",
            "1592\n",
            "4052\n",
            "3787\n",
            "3998\n",
            "2100\n",
            "3872\n",
            "1557\n",
            "2054\n",
            "3860\n",
            "3728\n",
            "2022\n",
            "2128\n",
            "4044\n",
            "4052\n",
            "3941\n",
            "3880\n",
            "3778\n",
            "2031\n",
            "Total samples: 105829\n"
          ],
          "name": "stdout"
        }
      ]
    },
    {
      "cell_type": "code",
      "metadata": {
        "id": "_2dOyyfQoiez"
      },
      "source": [
        "# Settings\n",
        "target_list = all_targets\n",
        "feature_sets_file = 'all_targets_mfcc_sets.npz'\n",
        "perc_keep_samples = 1.0 # 1.0 is keep all samples\n",
        "val_ratio = 0.1\n",
        "test_ratio = 0.1\n",
        "sample_rate = 8000\n",
        "num_mfcc = 16\n",
        "len_mfcc = 16"
      ],
      "execution_count": 38,
      "outputs": []
    },
    {
      "cell_type": "code",
      "metadata": {
        "colab": {
          "base_uri": "https://localhost:8080/"
        },
        "id": "_zpOLUsDoiez",
        "outputId": "9c29f026-624c-48ab-c2dc-f4a8f604f375"
      },
      "source": [
        "# Create list of filenames along with ground truth vector (y)\n",
        "filenames = []\n",
        "y = []\n",
        "for index, target in enumerate(target_list):\n",
        "    print(join(dataset_path, target))\n",
        "    filenames.append(listdir(join(dataset_path, target)))\n",
        "    y.append(np.ones(len(filenames[index])) * index)"
      ],
      "execution_count": 39,
      "outputs": [
        {
          "output_type": "stream",
          "text": [
            "dataset/one\n",
            "dataset/bed\n",
            "dataset/off\n",
            "dataset/three\n",
            "dataset/learn\n",
            "dataset/nine\n",
            "dataset/down\n",
            "dataset/up\n",
            "dataset/wow\n",
            "dataset/left\n",
            "dataset/on\n",
            "dataset/backward\n",
            "dataset/two\n",
            "dataset/bird\n",
            "dataset/tree\n",
            "dataset/follow\n",
            "dataset/house\n",
            "dataset/visual\n",
            "dataset/five\n",
            "dataset/eight\n",
            "dataset/seven\n",
            "dataset/marvin\n",
            "dataset/stop\n",
            "dataset/forward\n",
            "dataset/happy\n",
            "dataset/six\n",
            "dataset/four\n",
            "dataset/sheila\n",
            "dataset/dog\n",
            "dataset/yes\n",
            "dataset/zero\n",
            "dataset/no\n",
            "dataset/go\n",
            "dataset/right\n",
            "dataset/cat\n"
          ],
          "name": "stdout"
        }
      ]
    },
    {
      "cell_type": "code",
      "metadata": {
        "colab": {
          "base_uri": "https://localhost:8080/"
        },
        "id": "KbfYfpxBoiez",
        "outputId": "307c3e13-af36-4a28-a1f9-c8a4ece471ec"
      },
      "source": [
        "# Check ground truth Y vector\n",
        "print(y)\n",
        "for item in y:\n",
        "    print(len(item))"
      ],
      "execution_count": 40,
      "outputs": [
        {
          "output_type": "stream",
          "text": [
            "[array([0., 0., 0., ..., 0., 0., 0.]), array([1., 1., 1., ..., 1., 1., 1.]), array([2., 2., 2., ..., 2., 2., 2.]), array([3., 3., 3., ..., 3., 3., 3.]), array([4., 4., 4., ..., 4., 4., 4.]), array([5., 5., 5., ..., 5., 5., 5.]), array([6., 6., 6., ..., 6., 6., 6.]), array([7., 7., 7., ..., 7., 7., 7.]), array([8., 8., 8., ..., 8., 8., 8.]), array([9., 9., 9., ..., 9., 9., 9.]), array([10., 10., 10., ..., 10., 10., 10.]), array([11., 11., 11., ..., 11., 11., 11.]), array([12., 12., 12., ..., 12., 12., 12.]), array([13., 13., 13., ..., 13., 13., 13.]), array([14., 14., 14., ..., 14., 14., 14.]), array([15., 15., 15., ..., 15., 15., 15.]), array([16., 16., 16., ..., 16., 16., 16.]), array([17., 17., 17., ..., 17., 17., 17.]), array([18., 18., 18., ..., 18., 18., 18.]), array([19., 19., 19., ..., 19., 19., 19.]), array([20., 20., 20., ..., 20., 20., 20.]), array([21., 21., 21., ..., 21., 21., 21.]), array([22., 22., 22., ..., 22., 22., 22.]), array([23., 23., 23., ..., 23., 23., 23.]), array([24., 24., 24., ..., 24., 24., 24.]), array([25., 25., 25., ..., 25., 25., 25.]), array([26., 26., 26., ..., 26., 26., 26.]), array([27., 27., 27., ..., 27., 27., 27.]), array([28., 28., 28., ..., 28., 28., 28.]), array([29., 29., 29., ..., 29., 29., 29.]), array([30., 30., 30., ..., 30., 30., 30.]), array([31., 31., 31., ..., 31., 31., 31.]), array([32., 32., 32., ..., 32., 32., 32.]), array([33., 33., 33., ..., 33., 33., 33.]), array([34., 34., 34., ..., 34., 34., 34.])]\n",
            "3890\n",
            "2014\n",
            "3745\n",
            "3727\n",
            "1575\n",
            "3934\n",
            "3917\n",
            "3723\n",
            "2123\n",
            "3801\n",
            "3845\n",
            "1664\n",
            "3880\n",
            "2064\n",
            "1759\n",
            "1579\n",
            "2113\n",
            "1592\n",
            "4052\n",
            "3787\n",
            "3998\n",
            "2100\n",
            "3872\n",
            "1557\n",
            "2054\n",
            "3860\n",
            "3728\n",
            "2022\n",
            "2128\n",
            "4044\n",
            "4052\n",
            "3941\n",
            "3880\n",
            "3778\n",
            "2031\n"
          ],
          "name": "stdout"
        }
      ]
    },
    {
      "cell_type": "code",
      "metadata": {
        "id": "rkxGhE5loiez"
      },
      "source": [
        "# Flatten filename and y vectors\n",
        "filenames = [item for sublist in filenames for item in sublist]\n",
        "y = [item for sublist in y for item in sublist]"
      ],
      "execution_count": 41,
      "outputs": []
    },
    {
      "cell_type": "code",
      "metadata": {
        "id": "r0XE_mYwoiez"
      },
      "source": [
        "# Associate filenames with true output and shuffle\n",
        "filenames_y = list(zip(filenames, y))\n",
        "random.shuffle(filenames_y)\n",
        "filenames, y = zip(*filenames_y)"
      ],
      "execution_count": 42,
      "outputs": []
    },
    {
      "cell_type": "code",
      "metadata": {
        "colab": {
          "base_uri": "https://localhost:8080/"
        },
        "id": "XJ3yb15loiez",
        "outputId": "b8331723-da81-4af1-d844-a78fade7bd05"
      },
      "source": [
        "# Only keep the specified number of samples (shorter extraction/training)\n",
        "print(len(filenames))\n",
        "filenames = filenames[:int(len(filenames) * perc_keep_samples)]\n",
        "print(len(filenames))"
      ],
      "execution_count": 43,
      "outputs": [
        {
          "output_type": "stream",
          "text": [
            "105829\n",
            "10582\n"
          ],
          "name": "stdout"
        }
      ]
    },
    {
      "cell_type": "code",
      "metadata": {
        "id": "W1Ru3z_Foiez"
      },
      "source": [
        "# Calculate validation and test set sizes\n",
        "val_set_size = int(len(filenames) * val_ratio)\n",
        "test_set_size = int(len(filenames) * test_ratio)"
      ],
      "execution_count": 44,
      "outputs": []
    },
    {
      "cell_type": "code",
      "metadata": {
        "id": "Gxbm2X-hoiez"
      },
      "source": [
        "# Break dataset apart into train, validation, and test sets\n",
        "filenames_val = filenames[:val_set_size]\n",
        "filenames_test = filenames[val_set_size:(val_set_size + test_set_size)]\n",
        "filenames_train = filenames[(val_set_size + test_set_size):]"
      ],
      "execution_count": 45,
      "outputs": []
    },
    {
      "cell_type": "code",
      "metadata": {
        "id": "GUr-sk4roiez"
      },
      "source": [
        "# Break y apart into train, validation, and test sets\n",
        "y_orig_val = y[:val_set_size]\n",
        "y_orig_test = y[val_set_size:(val_set_size + test_set_size)]\n",
        "y_orig_train = y[(val_set_size + test_set_size):]"
      ],
      "execution_count": 47,
      "outputs": []
    },
    {
      "cell_type": "code",
      "metadata": {
        "id": "68S8W5A_oiez"
      },
      "source": [
        "# Function: Create MFCC from given path\n",
        "def calc_mfcc(path):\n",
        "    \n",
        "    # Load wavefile\n",
        "    signal, fs = librosa.load(path, sr=sample_rate)\n",
        "    \n",
        "    # Create MFCCs from sound clip\n",
        "    mfccs = python_speech_features.base.mfcc(signal, \n",
        "                                            samplerate=fs,\n",
        "                                            winlen=0.256,\n",
        "                                            winstep=0.050,\n",
        "                                            numcep=num_mfcc,\n",
        "                                            nfilt=26,\n",
        "                                            nfft=2048,\n",
        "                                            preemph=0.0,\n",
        "                                            ceplifter=0,\n",
        "                                            appendEnergy=False,\n",
        "                                            winfunc=np.hanning)\n",
        "    return mfccs.transpose()"
      ],
      "execution_count": 49,
      "outputs": []
    },
    {
      "cell_type": "code",
      "metadata": {
        "colab": {
          "base_uri": "https://localhost:8080/"
        },
        "id": "ZdqDjS1loiez",
        "outputId": "52668d5c-5b59-420d-ad17-3a4fce53ed97"
      },
      "source": [
        "# TEST: Construct test set by computing MFCC of each WAV file\n",
        "prob_cnt = 0\n",
        "x_test = []\n",
        "y_test = []\n",
        "for index, filename in enumerate(filenames_train):\n",
        "    \n",
        "    # Stop after 500\n",
        "    if index >= 500:\n",
        "        break\n",
        "    \n",
        "    # Create path from given filename and target item\n",
        "    path = join(dataset_path, target_list[int(y_orig_train[index])], \n",
        "                filename)\n",
        "    \n",
        "    # Create MFCCs\n",
        "    mfccs = calc_mfcc(path)\n",
        "    \n",
        "    if mfccs.shape[1] == len_mfcc:\n",
        "        x_test.append(mfccs)\n",
        "        y_test.append(y_orig_train[index])\n",
        "    else:\n",
        "        print('Dropped:', index, mfccs.shape)\n",
        "        prob_cnt += 1\n",
        "        "
      ],
      "execution_count": 50,
      "outputs": [
        {
          "output_type": "stream",
          "text": [
            "Dropped: 4 (16, 11)\n",
            "Dropped: 82 (16, 9)\n",
            "Dropped: 109 (16, 12)\n",
            "Dropped: 111 (16, 14)\n",
            "Dropped: 116 (16, 10)\n",
            "Dropped: 136 (16, 12)\n",
            "Dropped: 142 (16, 15)\n",
            "Dropped: 160 (16, 11)\n",
            "Dropped: 164 (16, 13)\n",
            "Dropped: 168 (16, 10)\n",
            "Dropped: 177 (16, 12)\n",
            "Dropped: 181 (16, 13)\n",
            "Dropped: 185 (16, 10)\n",
            "Dropped: 230 (16, 13)\n",
            "Dropped: 234 (16, 12)\n",
            "Dropped: 258 (16, 13)\n",
            "Dropped: 277 (16, 14)\n",
            "Dropped: 287 (16, 14)\n",
            "Dropped: 293 (16, 12)\n",
            "Dropped: 295 (16, 7)\n",
            "Dropped: 310 (16, 11)\n",
            "Dropped: 319 (16, 10)\n",
            "Dropped: 322 (16, 11)\n",
            "Dropped: 328 (16, 15)\n",
            "Dropped: 342 (16, 13)\n",
            "Dropped: 345 (16, 14)\n",
            "Dropped: 347 (16, 15)\n",
            "Dropped: 369 (16, 12)\n",
            "Dropped: 377 (16, 13)\n",
            "Dropped: 413 (16, 7)\n",
            "Dropped: 421 (16, 10)\n",
            "Dropped: 422 (16, 7)\n",
            "Dropped: 434 (16, 14)\n",
            "Dropped: 439 (16, 15)\n",
            "Dropped: 486 (16, 14)\n"
          ],
          "name": "stdout"
        }
      ]
    },
    {
      "cell_type": "code",
      "metadata": {
        "colab": {
          "base_uri": "https://localhost:8080/"
        },
        "id": "cvxJmQP5oiez",
        "outputId": "3aab41a2-5ee8-4c55-9acf-cf1ccdba24c0"
      },
      "source": [
        "print('% of problematic samples:', prob_cnt / 500)"
      ],
      "execution_count": 51,
      "outputs": [
        {
          "output_type": "stream",
          "text": [
            "% of problematic samples: 0.07\n"
          ],
          "name": "stdout"
        }
      ]
    },
    {
      "cell_type": "code",
      "metadata": {
        "colab": {
          "base_uri": "https://localhost:8080/",
          "height": 1000
        },
        "id": "KI8xJBZnoiez",
        "outputId": "eb6d2883-6ae3-4096-e223-5a5e50613cb3"
      },
      "source": [
        "# TEST: Test shorter MFCC\n",
        "from playsound import playsound\n",
        "\n",
        "idx = 13\n",
        "\n",
        "# Create path from given filename and target item\n",
        "path = join(dataset_path, target_list[int(y_orig_train[idx])], \n",
        "            filenames_train[idx])\n",
        "\n",
        "# Create MFCCs\n",
        "mfccs = calc_mfcc(path)\n",
        "print(\"MFCCs:\", mfccs)\n",
        "\n",
        "# Plot MFCC\n",
        "fig = plt.figure()\n",
        "plt.imshow(mfccs, cmap='inferno', origin='lower')\n",
        "\n",
        "# TEST: Play problem sounds\n",
        "print(target_list[int(y_orig_train[idx])])\n",
        "playsound(path)"
      ],
      "execution_count": 54,
      "outputs": [
        {
          "output_type": "stream",
          "text": [
            "MFCCs: [[-7.61898996e+01 -8.04378301e+01 -8.24536712e+01 -8.36236678e+01\n",
            "  -8.48143566e+01 -8.37793811e+01 -5.88406920e+01 -3.58300046e+01\n",
            "  -2.01690093e+01 -1.62413321e+01 -1.86872740e+01 -2.41119702e+01\n",
            "  -3.21469713e+01 -4.29840306e+01 -5.43826301e+01 -6.40481520e+01]\n",
            " [ 2.68938198e+00  3.04373524e+00  3.83744061e+00  4.72954473e+00\n",
            "   5.62096190e+00  5.19268505e+00 -1.33424603e+01 -7.70466667e+00\n",
            "   1.53008438e+00  6.43924227e+00  1.05891997e+01  1.28669581e+01\n",
            "   1.51598938e+01  1.80218116e+01  2.17131939e+01  2.07805408e+01]\n",
            " [-1.11417347e-01  1.40498554e+00  1.23689928e+00  1.48394818e+00\n",
            "   2.65152348e+00  4.81300324e+00  8.00063208e+00  5.87197661e+00\n",
            "   3.79354854e+00  2.93591755e+00  3.40689673e+00  5.49387497e+00\n",
            "   6.83543706e+00  7.34395718e+00  6.28134427e+00  6.31572587e+00]\n",
            " [ 1.75264579e-02  3.82513963e-02  2.73021731e-01  5.26696674e-01\n",
            "   1.70707666e+00  1.74959645e+00  3.01827925e+00  2.71643942e+00\n",
            "   2.21636751e-02 -2.12675786e+00 -5.14260665e+00 -7.59198769e+00\n",
            "  -8.00396691e+00 -6.94059075e+00 -4.58779959e+00 -1.73560108e+00]\n",
            " [-4.30064838e+00 -3.68287887e+00 -3.02915220e+00 -2.15039752e+00\n",
            "  -9.55537573e-01 -5.23781959e-01 -8.29097354e+00 -8.34981209e+00\n",
            "  -6.91991280e+00 -5.62610281e+00 -3.93273933e+00 -3.87299079e+00\n",
            "  -4.24641317e+00 -3.79592706e+00 -3.37019970e+00 -2.76077309e+00]\n",
            " [-2.74011165e+00 -2.27541931e+00 -1.54270343e+00 -1.53116660e+00\n",
            "  -1.15999018e+00  4.78326692e-02  1.00718157e-01 -3.01515541e+00\n",
            "  -2.20504493e+00 -2.15217739e+00 -2.22342605e+00 -8.87798446e-01\n",
            "  -3.56774526e-01  6.03046511e-02 -2.99890168e-01 -8.05116878e-01]\n",
            " [ 2.93583426e+00  2.36813197e+00  2.29747838e+00  9.70885177e-01\n",
            "  -4.76811447e-01 -1.79815361e+00  2.58054792e+00 -7.75636590e-03\n",
            "  -1.14915466e+00 -9.03933205e-01 -7.33372317e-01 -1.70257934e+00\n",
            "  -2.20314451e+00 -2.62867373e+00 -2.52446176e+00 -1.86649506e+00]\n",
            " [-4.49501738e-01  2.37024579e-01  5.98098786e-01  2.81321301e-02\n",
            "  -5.97448074e-01  1.28427038e+00  1.27263744e-01 -1.44298739e+00\n",
            "  -3.00991497e+00 -4.03106659e+00 -4.87259876e+00 -4.64071149e+00\n",
            "  -3.65678736e+00 -3.46956162e+00 -3.72923926e+00 -3.88098001e+00]\n",
            " [-1.96568852e+00 -1.24523932e+00 -7.09706871e-01 -7.11037357e-01\n",
            "  -1.14137196e+00 -1.28461541e+00 -1.00831703e+00 -1.64982323e+00\n",
            "  -1.20838648e+00 -1.01312283e+00 -9.02470602e-01 -1.76800474e+00\n",
            "  -3.38153989e+00 -3.52855715e+00 -2.62774031e+00 -2.94855716e+00]\n",
            " [-5.26758641e-01 -3.73132966e-01 -6.15856380e-01 -1.09496585e+00\n",
            "  -1.30295918e+00 -6.56532778e-01  5.47007330e-01 -1.86862574e-01\n",
            "   3.42956696e-01 -1.39399563e-02 -7.32346351e-01 -1.34509036e+00\n",
            "  -1.85042714e+00 -2.03940850e+00 -1.91373052e+00 -1.83276458e+00]\n",
            " [-1.46036867e+00 -1.50553934e+00 -1.49990045e+00 -1.69104660e+00\n",
            "  -1.67869994e+00 -1.43584388e+00  3.16391489e-01 -1.33000149e-01\n",
            "  -3.54803532e-01 -1.03131509e-01 -2.45930203e-02 -4.34662553e-01\n",
            "  -1.04647608e+00 -1.46467151e+00 -1.07055900e+00 -5.03841219e-01]\n",
            " [-9.59730782e-01 -7.46682001e-01 -7.34423425e-01 -6.62441956e-01\n",
            "  -7.72769571e-01 -1.24615570e+00 -1.02371431e+00 -1.40571371e+00\n",
            "  -1.92334502e+00 -1.70298536e+00 -9.56529230e-01 -4.35242158e-01\n",
            "  -4.72188215e-01 -6.83534227e-01 -6.68107538e-01 -7.87310853e-01]\n",
            " [-7.75458100e-01 -4.23561994e-01 -1.85432464e-01 -1.65652772e-01\n",
            "  -5.27462804e-01 -3.53141164e-01 -1.08572016e+00 -1.34327801e+00\n",
            "  -1.41257833e+00 -1.44161281e+00 -1.77689755e+00 -1.83155596e+00\n",
            "  -1.76503080e+00 -2.07787875e+00 -2.49926494e+00 -2.57058922e+00]\n",
            " [ 6.70379084e-01  4.49567338e-01  8.52112519e-02  1.16360196e-01\n",
            "  -8.11988234e-02 -5.42584811e-01 -6.47910699e-01 -2.96899798e-02\n",
            "   1.45409892e-01  2.93955495e-02  2.05371514e-01 -1.77722317e-01\n",
            "  -4.34287433e-01 -2.96837495e-01 -1.14013164e+00 -1.91951590e+00]\n",
            " [-3.49997273e-01  2.30755366e-01 -2.77874301e-01 -3.83798919e-01\n",
            "  -5.87826883e-01 -2.32522895e-01 -1.80137652e+00 -1.45344333e+00\n",
            "  -1.60531051e+00 -1.82880327e+00 -2.40390503e+00 -2.59439100e+00\n",
            "  -2.80766541e+00 -2.88211482e+00 -2.32577606e+00 -1.44144773e+00]\n",
            " [-1.01557454e+00 -2.80358114e-01 -1.54267881e-01 -7.39000865e-02\n",
            "  -4.17818508e-01 -5.37464351e-01 -3.87710432e-01 -9.54784821e-01\n",
            "  -1.23151025e+00 -9.12976253e-01 -3.65054063e-01 -4.40386407e-03\n",
            "   1.31324401e-01 -4.18364690e-01 -1.09698554e+00 -9.32457243e-01]]\n",
            "two\n"
          ],
          "name": "stdout"
        },
        {
          "output_type": "error",
          "ename": "ValueError",
          "evalue": "ignored",
          "traceback": [
            "\u001b[0;31m---------------------------------------------------------------------------\u001b[0m",
            "\u001b[0;31mValueError\u001b[0m                                Traceback (most recent call last)",
            "\u001b[0;32m<ipython-input-54-8f5c4f5f0ac2>\u001b[0m in \u001b[0;36m<module>\u001b[0;34m()\u001b[0m\n\u001b[1;32m     18\u001b[0m \u001b[0;31m# TEST: Play problem sounds\u001b[0m\u001b[0;34m\u001b[0m\u001b[0;34m\u001b[0m\u001b[0;34m\u001b[0m\u001b[0m\n\u001b[1;32m     19\u001b[0m \u001b[0mprint\u001b[0m\u001b[0;34m(\u001b[0m\u001b[0mtarget_list\u001b[0m\u001b[0;34m[\u001b[0m\u001b[0mint\u001b[0m\u001b[0;34m(\u001b[0m\u001b[0my_orig_train\u001b[0m\u001b[0;34m[\u001b[0m\u001b[0midx\u001b[0m\u001b[0;34m]\u001b[0m\u001b[0;34m)\u001b[0m\u001b[0;34m]\u001b[0m\u001b[0;34m)\u001b[0m\u001b[0;34m\u001b[0m\u001b[0;34m\u001b[0m\u001b[0m\n\u001b[0;32m---> 20\u001b[0;31m \u001b[0mplaysound\u001b[0m\u001b[0;34m(\u001b[0m\u001b[0mpath\u001b[0m\u001b[0;34m)\u001b[0m\u001b[0;34m\u001b[0m\u001b[0;34m\u001b[0m\u001b[0m\n\u001b[0m",
            "\u001b[0;32m/usr/local/lib/python3.6/dist-packages/playsound.py\u001b[0m in \u001b[0;36m_playsoundNix\u001b[0;34m(sound, block)\u001b[0m\n\u001b[1;32m     90\u001b[0m \u001b[0;34m\u001b[0m\u001b[0m\n\u001b[1;32m     91\u001b[0m     \u001b[0;32mimport\u001b[0m \u001b[0mgi\u001b[0m\u001b[0;34m\u001b[0m\u001b[0;34m\u001b[0m\u001b[0m\n\u001b[0;32m---> 92\u001b[0;31m     \u001b[0mgi\u001b[0m\u001b[0;34m.\u001b[0m\u001b[0mrequire_version\u001b[0m\u001b[0;34m(\u001b[0m\u001b[0;34m'Gst'\u001b[0m\u001b[0;34m,\u001b[0m \u001b[0;34m'1.0'\u001b[0m\u001b[0;34m)\u001b[0m\u001b[0;34m\u001b[0m\u001b[0;34m\u001b[0m\u001b[0m\n\u001b[0m\u001b[1;32m     93\u001b[0m     \u001b[0;32mfrom\u001b[0m \u001b[0mgi\u001b[0m\u001b[0;34m.\u001b[0m\u001b[0mrepository\u001b[0m \u001b[0;32mimport\u001b[0m \u001b[0mGst\u001b[0m\u001b[0;34m\u001b[0m\u001b[0;34m\u001b[0m\u001b[0m\n\u001b[1;32m     94\u001b[0m \u001b[0;34m\u001b[0m\u001b[0m\n",
            "\u001b[0;32m/usr/lib/python3/dist-packages/gi/__init__.py\u001b[0m in \u001b[0;36mrequire_version\u001b[0;34m(namespace, version)\u001b[0m\n\u001b[1;32m    128\u001b[0m     \u001b[0mavailable_versions\u001b[0m \u001b[0;34m=\u001b[0m \u001b[0mrepository\u001b[0m\u001b[0;34m.\u001b[0m\u001b[0menumerate_versions\u001b[0m\u001b[0;34m(\u001b[0m\u001b[0mnamespace\u001b[0m\u001b[0;34m)\u001b[0m\u001b[0;34m\u001b[0m\u001b[0;34m\u001b[0m\u001b[0m\n\u001b[1;32m    129\u001b[0m     \u001b[0;32mif\u001b[0m \u001b[0;32mnot\u001b[0m \u001b[0mavailable_versions\u001b[0m\u001b[0;34m:\u001b[0m\u001b[0;34m\u001b[0m\u001b[0;34m\u001b[0m\u001b[0m\n\u001b[0;32m--> 130\u001b[0;31m         \u001b[0;32mraise\u001b[0m \u001b[0mValueError\u001b[0m\u001b[0;34m(\u001b[0m\u001b[0;34m'Namespace %s not available'\u001b[0m \u001b[0;34m%\u001b[0m \u001b[0mnamespace\u001b[0m\u001b[0;34m)\u001b[0m\u001b[0;34m\u001b[0m\u001b[0;34m\u001b[0m\u001b[0m\n\u001b[0m\u001b[1;32m    131\u001b[0m \u001b[0;34m\u001b[0m\u001b[0m\n\u001b[1;32m    132\u001b[0m     \u001b[0;32mif\u001b[0m \u001b[0mversion\u001b[0m \u001b[0;32mnot\u001b[0m \u001b[0;32min\u001b[0m \u001b[0mavailable_versions\u001b[0m\u001b[0;34m:\u001b[0m\u001b[0;34m\u001b[0m\u001b[0;34m\u001b[0m\u001b[0m\n",
            "\u001b[0;31mValueError\u001b[0m: Namespace Gst not available"
          ]
        },
        {
          "output_type": "display_data",
          "data": {
            "image/png": "[encoded data removed]",
            "text/plain": [
              "<Figure size 432x288 with 1 Axes>"
            ]
          },
          "metadata": {
            "tags": [],
            "needs_background": "light"
          }
        }
      ]
    },
    {
      "cell_type": "code",
      "metadata": {
        "id": "r7TfYADBoie0"
      },
      "source": [
        "# Function: Create MFCCs, keeping only ones of desired length\n",
        "def extract_features(in_files, in_y):\n",
        "    prob_cnt = 0\n",
        "    out_x = []\n",
        "    out_y = []\n",
        "        \n",
        "    for index, filename in enumerate(in_files):\n",
        "    \n",
        "        # Create path from given filename and target item\n",
        "        path = join(dataset_path, target_list[int(in_y[index])], \n",
        "                    filename)\n",
        "        \n",
        "        # Check to make sure we're reading a .wav file\n",
        "        if not path.endswith('.wav'):\n",
        "            continue\n",
        "\n",
        "        # Create MFCCs\n",
        "        mfccs = calc_mfcc(path)\n",
        "\n",
        "        # Only keep MFCCs with given length\n",
        "        if mfccs.shape[1] == len_mfcc:\n",
        "            out_x.append(mfccs)\n",
        "            out_y.append(in_y[index])\n",
        "        else:\n",
        "            print('Dropped:', index, mfccs.shape)\n",
        "            prob_cnt += 1\n",
        "            \n",
        "    return out_x, out_y, prob_cnt"
      ],
      "execution_count": 55,
      "outputs": []
    },
    {
      "cell_type": "code",
      "metadata": {
        "colab": {
          "base_uri": "https://localhost:8080/"
        },
        "id": "FhzZg6FYoie0",
        "outputId": "5ced71ab-f054-4016-8835-6da70f3ba155"
      },
      "source": [
        "# Create train, validation, and test sets\n",
        "x_train, y_train, prob = extract_features(filenames_train, \n",
        "                                          y_orig_train)\n",
        "print('Removed percentage:', prob / len(y_orig_train))\n",
        "x_val, y_val, prob = extract_features(filenames_val, y_orig_val)\n",
        "print('Removed percentage:', prob / len(y_orig_val))\n",
        "x_test, y_test, prob = extract_features(filenames_test, y_orig_test)\n",
        "print('Removed percentage:', prob / len(y_orig_test))"
      ],
      "execution_count": null,
      "outputs": [
        {
          "output_type": "stream",
          "text": [
            "Dropped: 4 (16, 11)\n",
            "Dropped: 82 (16, 9)\n",
            "Dropped: 109 (16, 12)\n",
            "Dropped: 111 (16, 14)\n",
            "Dropped: 116 (16, 10)\n",
            "Dropped: 136 (16, 12)\n",
            "Dropped: 142 (16, 15)\n",
            "Dropped: 160 (16, 11)\n",
            "Dropped: 164 (16, 13)\n",
            "Dropped: 168 (16, 10)\n",
            "Dropped: 177 (16, 12)\n",
            "Dropped: 181 (16, 13)\n",
            "Dropped: 185 (16, 10)\n",
            "Dropped: 230 (16, 13)\n",
            "Dropped: 234 (16, 12)\n",
            "Dropped: 258 (16, 13)\n",
            "Dropped: 277 (16, 14)\n",
            "Dropped: 287 (16, 14)\n",
            "Dropped: 293 (16, 12)\n",
            "Dropped: 295 (16, 7)\n",
            "Dropped: 310 (16, 11)\n",
            "Dropped: 319 (16, 10)\n",
            "Dropped: 322 (16, 11)\n",
            "Dropped: 328 (16, 15)\n",
            "Dropped: 342 (16, 13)\n",
            "Dropped: 345 (16, 14)\n",
            "Dropped: 347 (16, 15)\n",
            "Dropped: 369 (16, 12)\n",
            "Dropped: 377 (16, 13)\n",
            "Dropped: 413 (16, 7)\n",
            "Dropped: 421 (16, 10)\n",
            "Dropped: 422 (16, 7)\n",
            "Dropped: 434 (16, 14)\n",
            "Dropped: 439 (16, 15)\n",
            "Dropped: 486 (16, 14)\n",
            "Dropped: 509 (16, 15)\n",
            "Dropped: 511 (16, 14)\n",
            "Dropped: 520 (16, 13)\n",
            "Dropped: 523 (16, 15)\n",
            "Dropped: 537 (16, 11)\n",
            "Dropped: 538 (16, 10)\n",
            "Dropped: 555 (16, 13)\n",
            "Dropped: 559 (16, 11)\n",
            "Dropped: 570 (16, 13)\n",
            "Dropped: 576 (16, 15)\n",
            "Dropped: 580 (16, 6)\n",
            "Dropped: 591 (16, 12)\n",
            "Dropped: 606 (16, 12)\n",
            "Dropped: 609 (16, 15)\n",
            "Dropped: 632 (16, 15)\n",
            "Dropped: 651 (16, 15)\n",
            "Dropped: 660 (16, 13)\n",
            "Dropped: 661 (16, 11)\n",
            "Dropped: 662 (16, 13)\n",
            "Dropped: 667 (16, 11)\n",
            "Dropped: 676 (16, 6)\n",
            "Dropped: 683 (16, 15)\n",
            "Dropped: 716 (16, 11)\n",
            "Dropped: 717 (16, 10)\n",
            "Dropped: 718 (16, 15)\n",
            "Dropped: 731 (16, 14)\n",
            "Dropped: 734 (16, 13)\n",
            "Dropped: 743 (16, 14)\n",
            "Dropped: 753 (16, 13)\n",
            "Dropped: 768 (16, 14)\n",
            "Dropped: 783 (16, 10)\n",
            "Dropped: 795 (16, 13)\n",
            "Dropped: 832 (16, 15)\n",
            "Dropped: 833 (16, 15)\n",
            "Dropped: 837 (16, 15)\n",
            "Dropped: 855 (16, 13)\n",
            "Dropped: 867 (16, 12)\n",
            "Dropped: 872 (16, 11)\n",
            "Dropped: 875 (16, 13)\n",
            "Dropped: 877 (16, 11)\n",
            "Dropped: 912 (16, 13)\n",
            "Dropped: 913 (16, 7)\n",
            "Dropped: 941 (16, 10)\n",
            "Dropped: 942 (16, 11)\n",
            "Dropped: 951 (16, 12)\n",
            "Dropped: 981 (16, 11)\n",
            "Dropped: 1006 (16, 13)\n",
            "Dropped: 1032 (16, 11)\n",
            "Dropped: 1036 (16, 10)\n",
            "Dropped: 1041 (16, 12)\n",
            "Dropped: 1046 (16, 12)\n",
            "Dropped: 1061 (16, 8)\n",
            "Dropped: 1081 (16, 10)\n",
            "Dropped: 1092 (16, 14)\n",
            "Dropped: 1094 (16, 13)\n",
            "Dropped: 1119 (16, 13)\n",
            "Dropped: 1137 (16, 11)\n",
            "Dropped: 1140 (16, 14)\n",
            "Dropped: 1141 (16, 13)\n",
            "Dropped: 1170 (16, 14)\n",
            "Dropped: 1174 (16, 14)\n",
            "Dropped: 1206 (16, 13)\n",
            "Dropped: 1213 (16, 13)\n",
            "Dropped: 1269 (16, 12)\n",
            "Dropped: 1275 (16, 13)\n",
            "Dropped: 1283 (16, 15)\n",
            "Dropped: 1300 (16, 15)\n",
            "Dropped: 1318 (16, 13)\n",
            "Dropped: 1346 (16, 15)\n",
            "Dropped: 1350 (16, 13)\n",
            "Dropped: 1374 (16, 8)\n",
            "Dropped: 1378 (16, 9)\n",
            "Dropped: 1388 (16, 12)\n",
            "Dropped: 1391 (16, 12)\n",
            "Dropped: 1397 (16, 11)\n",
            "Dropped: 1399 (16, 10)\n"
          ],
          "name": "stdout"
        }
      ]
    },
    {
      "cell_type": "code",
      "metadata": {
        "id": "tgPyTB5qoie2"
      },
      "source": [
        "# Save features and truth vector (y) sets to disk\n",
        "np.savez(feature_sets_file, \n",
        "         x_train=x_train, \n",
        "         y_train=y_train, \n",
        "         x_val=x_val, \n",
        "         y_val=y_val, \n",
        "         x_test=x_test, \n",
        "         y_test=y_test)"
      ],
      "execution_count": null,
      "outputs": []
    },
    {
      "cell_type": "code",
      "metadata": {
        "id": "AXw1kN1-oie2"
      },
      "source": [
        "# TEST: Load features\n",
        "feature_sets = np.load(feature_sets_file)\n",
        "feature_sets.files"
      ],
      "execution_count": null,
      "outputs": []
    },
    {
      "cell_type": "code",
      "metadata": {
        "id": "-i62kZqRoie2"
      },
      "source": [
        "len(feature_sets['x_train'])"
      ],
      "execution_count": null,
      "outputs": []
    },
    {
      "cell_type": "code",
      "metadata": {
        "id": "I2DYv-2soie3"
      },
      "source": [
        "print(feature_sets['y_val'])"
      ],
      "execution_count": null,
      "outputs": []
    },
    {
      "cell_type": "code",
      "metadata": {
        "id": "GcTZ-AYcoie3"
      },
      "source": [
        ""
      ],
      "execution_count": null,
      "outputs": []
    }
  ]
}