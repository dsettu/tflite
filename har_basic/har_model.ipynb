{
  "nbformat": 4,
  "nbformat_minor": 0,
  "metadata": {
    "colab": {
      "name": "har_model.ipynb",
      "provenance": [],
      "collapsed_sections": [],
      "toc_visible": true
    },
    "kernelspec": {
      "name": "python3",
      "display_name": "Python 3"
    }
  },
  "cells": [
    {
      "cell_type": "markdown",
      "metadata": {
        "id": "rklR1Qkxd5Wp"
      },
      "source": [
        "# New Section"
      ]
    },
    {
      "cell_type": "markdown",
      "metadata": {
        "id": "cDd9o3x67u8B"
      },
      "source": [
        "<table class=\"tfo-notebook-buttons\" align=\"left\">\n",
        "  <td>\n",
        "    <a target=\"_blank\" href=\"https://colab.research.google.com/github/dsettu/tflite/blob/main/har_basic/har_model.ipynb\"><img src=\"https://www.tensorflow.org/images/colab_logo_32px.png\" />Run in Google Colab</a>\n",
        "  </td>\n",
        "  <td>\n",
        "    <a target=\"_blank\" href=\"https://colab.research.google.com/github/dsettu/tflite/blob/main/har_basic/har_model.ipynb\"><img src=\"https://www.tensorflow.org/images/GitHub-Mark-32px.png\" />View source on GitHub</a>\n",
        "  </td>\n",
        "</table>"
      ]
    },
    {
      "cell_type": "code",
      "metadata": {
        "id": "fNLhK6nfGegi",
        "outputId": "be4458f6-02ad-4a40-d6f3-1d8c99a8790e",
        "colab": {
          "base_uri": "https://localhost:8080/"
        }
      },
      "source": [
        "# Keras is TensorFlow's high-level API for deep learning\n",
        "from tensorflow import keras\n",
        "import tensorflow as tf\n",
        "from tensorflow.keras import Sequential\n",
        "from tensorflow.keras.layers import Flatten, Dense, Dropout, BatchNormalization\n",
        "from tensorflow.keras.layers import Conv2D, MaxPool2D\n",
        "from tensorflow.keras.optimizers import Adam\n",
        "import pandas as pd\n",
        "import numpy as np\n",
        "import matplotlib.pyplot as plt\n",
        "import scipy.stats as stats\n",
        "from sklearn.model_selection import train_test_split\n",
        "from sklearn.preprocessing import StandardScaler, LabelEncoder\n",
        "\n",
        "import os\n",
        "import sys\n",
        "import sklearn as sk\n",
        "print(f\"Tensor Flow version: {tf.__version__}\")\n",
        "print(f\"Keras version: {tf.keras.__version__}\")\n",
        "print(f\"Python version: {sys.version}\")\n",
        "print(f\"Pandas version: {pd.__version__}\")\n",
        "print(f\"Scikit-Learn version: {sk.__version__}\")\n",
        "print(\"GPU is\", \"Available\" if tf.test.is_gpu_available() else \"Not Available\")\n"
      ],
      "execution_count": 1,
      "outputs": [
        {
          "output_type": "stream",
          "text": [
            "Tensor Flow version: 2.3.0\n",
            "Keras version: 2.4.0\n",
            "Python version: 3.6.9 (default, Oct  8 2020, 12:12:24) \n",
            "[GCC 8.4.0]\n",
            "Pandas version: 1.1.4\n",
            "Scikit-Learn version: 0.22.2.post1\n",
            "WARNING:tensorflow:From <ipython-input-1-83d76f231389>:23: is_gpu_available (from tensorflow.python.framework.test_util) is deprecated and will be removed in a future version.\n",
            "Instructions for updating:\n",
            "Use `tf.config.list_physical_devices('GPU')` instead.\n",
            "GPU is Not Available\n"
          ],
          "name": "stdout"
        }
      ]
    },
    {
      "cell_type": "code",
      "metadata": {
        "id": "Fgz8MDSV_srF"
      },
      "source": [
        "# Constants for training directories and filepaths\n",
        "DATASET =  'tflite/har_basic/dataset/WISDM_ar_v1.1/WISDM_ar_v1.1_raw.txt'\n",
        "\n",
        "# Constants for inference directories and filepaths\n",
        "import os\n",
        "MODELS_DIR = 'models'\n",
        "if not os.path.exists(MODELS_DIR):\n",
        "  os.mkdir(MODELS_DIR)\n",
        "\n",
        "MODEL_TFLITE = os.path.join(MODELS_DIR, 'model.tflite')\n",
        "MODEL_TFLITE_MICRO_C = os.path.join(MODELS_DIR, 'model.cpp')\n",
        "MODEL_TFLITE_MICRO_H = os.path.join(MODELS_DIR, 'model.h')\n",
        "\n",
        "MODEL_TFLITE_INT8 = os.path.join(MODELS_DIR, 'model_int8.tflite')\n",
        "MODEL_TFLITE_INT8_MICRO_C = os.path.join(MODELS_DIR, 'model_int8.cpp')\n",
        "MODEL_TFLITE_INT8_MICRO_H = os.path.join(MODELS_DIR, 'model_int8.h')\n",
        "\n",
        "MODEL_TFLITE_INT8_FULL = os.path.join(MODELS_DIR, 'model_int8_full.tflite')\n",
        "MODEL_TFLITE_INT8_FULL_MICRO_C = os.path.join(MODELS_DIR, 'model_int8_full.cpp')\n",
        "MODEL_TFLITE_INT8_FULL_MICRO_H = os.path.join(MODELS_DIR, 'model_int8_full.h')\n"
      ],
      "execution_count": 53,
      "outputs": []
    },
    {
      "cell_type": "code",
      "metadata": {
        "id": "TR3r4R_q-9rw"
      },
      "source": [
        "!git clone -q --depth 1 https://github.com/dsettu/tflite"
      ],
      "execution_count": 2,
      "outputs": []
    },
    {
      "cell_type": "code",
      "metadata": {
        "id": "CmSGH1QY_hfE"
      },
      "source": [
        "!rm -rf {LOGS_DIR} {MODELS_DIR}"
      ],
      "execution_count": 5,
      "outputs": []
    },
    {
      "cell_type": "markdown",
      "metadata": {
        "id": "SN1UeT--OZ4E"
      },
      "source": [
        "### Load dataset"
      ]
    },
    {
      "cell_type": "code",
      "metadata": {
        "id": "crOXINK6KQZb",
        "outputId": "f058646b-297a-4e81-f2c5-97dcbd42affc",
        "colab": {
          "base_uri": "https://localhost:8080/"
        }
      },
      "source": [
        "file = open(DATASET)\n",
        "lines = file.readlines()\n",
        "\n",
        "processedList = []\n",
        "\n",
        "for i, line in enumerate(lines):\n",
        "    try:\n",
        "        line=line.split(',')\n",
        "        last=line[5].split(';')[0]\n",
        "        last=last.strip()\n",
        "        if last == '':\n",
        "            break;\n",
        "        temp = [line[0], line[1], line[2], line[3], line[4], last]\n",
        "        processedList.append(temp)\n",
        "    except:\n",
        "        print('Error at line number ',i)\n"
      ],
      "execution_count": 10,
      "outputs": [
        {
          "output_type": "stream",
          "text": [
            "Error at line number  281873\n",
            "Error at line number  281874\n",
            "Error at line number  281875\n"
          ],
          "name": "stdout"
        }
      ]
    },
    {
      "cell_type": "markdown",
      "metadata": {
        "id": "x_Yn9d-XVdSd"
      },
      "source": [
        "### Remove user and time information"
      ]
    },
    {
      "cell_type": "code",
      "metadata": {
        "id": "uu3cmdxqOmSi",
        "outputId": "021598b4-2ebd-4962-d233-f1ccc3f8d5e7",
        "colab": {
          "base_uri": "https://localhost:8080/",
          "height": 204
        }
      },
      "source": [
        "columns = ['user', 'activity', 'time','x','y','z']\n",
        "data = pd.DataFrame(data=processedList, columns = columns)\n",
        "data.head()"
      ],
      "execution_count": 12,
      "outputs": [
        {
          "output_type": "execute_result",
          "data": {
            "text/html": [
              "<div>\n",
              "<style scoped>\n",
              "    .dataframe tbody tr th:only-of-type {\n",
              "        vertical-align: middle;\n",
              "    }\n",
              "\n",
              "    .dataframe tbody tr th {\n",
              "        vertical-align: top;\n",
              "    }\n",
              "\n",
              "    .dataframe thead th {\n",
              "        text-align: right;\n",
              "    }\n",
              "</style>\n",
              "<table border=\"1\" class=\"dataframe\">\n",
              "  <thead>\n",
              "    <tr style=\"text-align: right;\">\n",
              "      <th></th>\n",
              "      <th>user</th>\n",
              "      <th>activity</th>\n",
              "      <th>time</th>\n",
              "      <th>x</th>\n",
              "      <th>y</th>\n",
              "      <th>z</th>\n",
              "    </tr>\n",
              "  </thead>\n",
              "  <tbody>\n",
              "    <tr>\n",
              "      <th>0</th>\n",
              "      <td>33</td>\n",
              "      <td>Jogging</td>\n",
              "      <td>49105962326000</td>\n",
              "      <td>-0.6946377</td>\n",
              "      <td>12.680544</td>\n",
              "      <td>0.50395286</td>\n",
              "    </tr>\n",
              "    <tr>\n",
              "      <th>1</th>\n",
              "      <td>33</td>\n",
              "      <td>Jogging</td>\n",
              "      <td>49106062271000</td>\n",
              "      <td>5.012288</td>\n",
              "      <td>11.264028</td>\n",
              "      <td>0.95342433</td>\n",
              "    </tr>\n",
              "    <tr>\n",
              "      <th>2</th>\n",
              "      <td>33</td>\n",
              "      <td>Jogging</td>\n",
              "      <td>49106112167000</td>\n",
              "      <td>4.903325</td>\n",
              "      <td>10.882658</td>\n",
              "      <td>-0.08172209</td>\n",
              "    </tr>\n",
              "    <tr>\n",
              "      <th>3</th>\n",
              "      <td>33</td>\n",
              "      <td>Jogging</td>\n",
              "      <td>49106222305000</td>\n",
              "      <td>-0.61291564</td>\n",
              "      <td>18.496431</td>\n",
              "      <td>3.0237172</td>\n",
              "    </tr>\n",
              "    <tr>\n",
              "      <th>4</th>\n",
              "      <td>33</td>\n",
              "      <td>Jogging</td>\n",
              "      <td>49106332290000</td>\n",
              "      <td>-1.1849703</td>\n",
              "      <td>12.108489</td>\n",
              "      <td>7.205164</td>\n",
              "    </tr>\n",
              "  </tbody>\n",
              "</table>\n",
              "</div>"
            ],
            "text/plain": [
              "  user activity            time            x          y            z\n",
              "0   33  Jogging  49105962326000   -0.6946377  12.680544   0.50395286\n",
              "1   33  Jogging  49106062271000     5.012288  11.264028   0.95342433\n",
              "2   33  Jogging  49106112167000     4.903325  10.882658  -0.08172209\n",
              "3   33  Jogging  49106222305000  -0.61291564  18.496431    3.0237172\n",
              "4   33  Jogging  49106332290000   -1.1849703  12.108489     7.205164"
            ]
          },
          "metadata": {
            "tags": []
          },
          "execution_count": 12
        }
      ]
    },
    {
      "cell_type": "code",
      "metadata": {
        "id": "QUrV5MiRPb1-",
        "outputId": "da41f9a8-04b4-4022-f7b8-1f05dc6faf9a",
        "colab": {
          "base_uri": "https://localhost:8080/",
          "height": 204
        }
      },
      "source": [
        "df=data.drop(['user','time'], axis = 1).copy()\n",
        "df.head()\n"
      ],
      "execution_count": 13,
      "outputs": [
        {
          "output_type": "execute_result",
          "data": {
            "text/html": [
              "<div>\n",
              "<style scoped>\n",
              "    .dataframe tbody tr th:only-of-type {\n",
              "        vertical-align: middle;\n",
              "    }\n",
              "\n",
              "    .dataframe tbody tr th {\n",
              "        vertical-align: top;\n",
              "    }\n",
              "\n",
              "    .dataframe thead th {\n",
              "        text-align: right;\n",
              "    }\n",
              "</style>\n",
              "<table border=\"1\" class=\"dataframe\">\n",
              "  <thead>\n",
              "    <tr style=\"text-align: right;\">\n",
              "      <th></th>\n",
              "      <th>activity</th>\n",
              "      <th>x</th>\n",
              "      <th>y</th>\n",
              "      <th>z</th>\n",
              "    </tr>\n",
              "  </thead>\n",
              "  <tbody>\n",
              "    <tr>\n",
              "      <th>0</th>\n",
              "      <td>Jogging</td>\n",
              "      <td>-0.6946377</td>\n",
              "      <td>12.680544</td>\n",
              "      <td>0.50395286</td>\n",
              "    </tr>\n",
              "    <tr>\n",
              "      <th>1</th>\n",
              "      <td>Jogging</td>\n",
              "      <td>5.012288</td>\n",
              "      <td>11.264028</td>\n",
              "      <td>0.95342433</td>\n",
              "    </tr>\n",
              "    <tr>\n",
              "      <th>2</th>\n",
              "      <td>Jogging</td>\n",
              "      <td>4.903325</td>\n",
              "      <td>10.882658</td>\n",
              "      <td>-0.08172209</td>\n",
              "    </tr>\n",
              "    <tr>\n",
              "      <th>3</th>\n",
              "      <td>Jogging</td>\n",
              "      <td>-0.61291564</td>\n",
              "      <td>18.496431</td>\n",
              "      <td>3.0237172</td>\n",
              "    </tr>\n",
              "    <tr>\n",
              "      <th>4</th>\n",
              "      <td>Jogging</td>\n",
              "      <td>-1.1849703</td>\n",
              "      <td>12.108489</td>\n",
              "      <td>7.205164</td>\n",
              "    </tr>\n",
              "  </tbody>\n",
              "</table>\n",
              "</div>"
            ],
            "text/plain": [
              "  activity            x          y            z\n",
              "0  Jogging   -0.6946377  12.680544   0.50395286\n",
              "1  Jogging     5.012288  11.264028   0.95342433\n",
              "2  Jogging     4.903325  10.882658  -0.08172209\n",
              "3  Jogging  -0.61291564  18.496431    3.0237172\n",
              "4  Jogging   -1.1849703  12.108489     7.205164"
            ]
          },
          "metadata": {
            "tags": []
          },
          "execution_count": 13
        }
      ]
    },
    {
      "cell_type": "markdown",
      "metadata": {
        "id": "w0FPNt_xVrHT"
      },
      "source": [
        "### Balance the dataset equally for all activities"
      ]
    },
    {
      "cell_type": "code",
      "metadata": {
        "id": "UR_VNu9WPuP6",
        "outputId": "d34581b8-4efb-455d-e4b7-6b08f2c84bc4",
        "colab": {
          "base_uri": "https://localhost:8080/"
        }
      },
      "source": [
        "df['activity'].value_counts()"
      ],
      "execution_count": 14,
      "outputs": [
        {
          "output_type": "execute_result",
          "data": {
            "text/plain": [
              "Walking       137375\n",
              "Jogging       129392\n",
              "Upstairs       35137\n",
              "Downstairs     33358\n",
              "Sitting         4599\n",
              "Standing        3555\n",
              "Name: activity, dtype: int64"
            ]
          },
          "metadata": {
            "tags": []
          },
          "execution_count": 14
        }
      ]
    },
    {
      "cell_type": "code",
      "metadata": {
        "id": "sdYL57AjRmnm",
        "outputId": "b0962bd0-874b-41f7-8f38-d9c507e50f06",
        "colab": {
          "base_uri": "https://localhost:8080/"
        }
      },
      "source": [
        "Walking = df[df['activity']=='Walking'].head(3555).copy()\n",
        "Jogging = df[df['activity']=='Jogging'].head(3555).copy()\n",
        "Upstairs = df[df['activity']=='Upstairs'].head(3555).copy()\n",
        "Downstairs = df[df['activity']=='Downstairs'].head(3555).copy()\n",
        "Sitting = df[df['activity']=='Sitting'].head(3555).copy()\n",
        "Standing = df[df['activity']=='Standing'].head(3555).copy()\n",
        "\n",
        "balanced_data=pd.DataFrame()\n",
        "balanced_data = balanced_data.append ([Walking, Jogging, Upstairs, Downstairs, Sitting, Standing])\n",
        "balanced_data['activity'].value_counts()"
      ],
      "execution_count": 15,
      "outputs": [
        {
          "output_type": "execute_result",
          "data": {
            "text/plain": [
              "Upstairs      3555\n",
              "Jogging       3555\n",
              "Downstairs    3555\n",
              "Sitting       3555\n",
              "Standing      3555\n",
              "Walking       3555\n",
              "Name: activity, dtype: int64"
            ]
          },
          "metadata": {
            "tags": []
          },
          "execution_count": 15
        }
      ]
    },
    {
      "cell_type": "markdown",
      "metadata": {
        "id": "wAOawlVHVxMp"
      },
      "source": [
        "### Convert the X,Y,Z data to float "
      ]
    },
    {
      "cell_type": "code",
      "metadata": {
        "id": "V6sl0ilXRslW",
        "outputId": "199998a4-593c-4e02-8f80-a9ce06e260af",
        "colab": {
          "base_uri": "https://localhost:8080/"
        }
      },
      "source": [
        "balanced_data.info()"
      ],
      "execution_count": 16,
      "outputs": [
        {
          "output_type": "stream",
          "text": [
            "<class 'pandas.core.frame.DataFrame'>\n",
            "Int64Index: 21330 entries, 597 to 257322\n",
            "Data columns (total 4 columns):\n",
            " #   Column    Non-Null Count  Dtype \n",
            "---  ------    --------------  ----- \n",
            " 0   activity  21330 non-null  object\n",
            " 1   x         21330 non-null  object\n",
            " 2   y         21330 non-null  object\n",
            " 3   z         21330 non-null  object\n",
            "dtypes: object(4)\n",
            "memory usage: 833.2+ KB\n"
          ],
          "name": "stdout"
        }
      ]
    },
    {
      "cell_type": "code",
      "metadata": {
        "id": "kt0dHEsYR0l9",
        "outputId": "1bcd7f74-adbd-4a33-b16c-4c7cb2ce22a5",
        "colab": {
          "base_uri": "https://localhost:8080/"
        }
      },
      "source": [
        "balanced_data['x']=balanced_data['x'].astype('float')\n",
        "balanced_data['y']=balanced_data['y'].astype('float')\n",
        "balanced_data['z']=balanced_data['z'].astype('float')\n",
        "balanced_data.info()"
      ],
      "execution_count": 17,
      "outputs": [
        {
          "output_type": "stream",
          "text": [
            "<class 'pandas.core.frame.DataFrame'>\n",
            "Int64Index: 21330 entries, 597 to 257322\n",
            "Data columns (total 4 columns):\n",
            " #   Column    Non-Null Count  Dtype  \n",
            "---  ------    --------------  -----  \n",
            " 0   activity  21330 non-null  object \n",
            " 1   x         21330 non-null  float64\n",
            " 2   y         21330 non-null  float64\n",
            " 3   z         21330 non-null  float64\n",
            "dtypes: float64(3), object(1)\n",
            "memory usage: 833.2+ KB\n"
          ],
          "name": "stdout"
        }
      ]
    },
    {
      "cell_type": "markdown",
      "metadata": {
        "id": "__WSxxjxPjaR"
      },
      "source": [
        "### Add label to the data"
      ]
    },
    {
      "cell_type": "code",
      "metadata": {
        "id": "Q1D7dNP9WRg9",
        "outputId": "2fbeb250-b87d-4ddc-91c1-d431287097a6",
        "colab": {
          "base_uri": "https://localhost:8080/",
          "height": 204
        }
      },
      "source": [
        "balanced_data.head()"
      ],
      "execution_count": 18,
      "outputs": [
        {
          "output_type": "execute_result",
          "data": {
            "text/html": [
              "<div>\n",
              "<style scoped>\n",
              "    .dataframe tbody tr th:only-of-type {\n",
              "        vertical-align: middle;\n",
              "    }\n",
              "\n",
              "    .dataframe tbody tr th {\n",
              "        vertical-align: top;\n",
              "    }\n",
              "\n",
              "    .dataframe thead th {\n",
              "        text-align: right;\n",
              "    }\n",
              "</style>\n",
              "<table border=\"1\" class=\"dataframe\">\n",
              "  <thead>\n",
              "    <tr style=\"text-align: right;\">\n",
              "      <th></th>\n",
              "      <th>activity</th>\n",
              "      <th>x</th>\n",
              "      <th>y</th>\n",
              "      <th>z</th>\n",
              "    </tr>\n",
              "  </thead>\n",
              "  <tbody>\n",
              "    <tr>\n",
              "      <th>597</th>\n",
              "      <td>Walking</td>\n",
              "      <td>0.844462</td>\n",
              "      <td>8.008764</td>\n",
              "      <td>2.792171</td>\n",
              "    </tr>\n",
              "    <tr>\n",
              "      <th>598</th>\n",
              "      <td>Walking</td>\n",
              "      <td>1.116869</td>\n",
              "      <td>8.621680</td>\n",
              "      <td>3.786457</td>\n",
              "    </tr>\n",
              "    <tr>\n",
              "      <th>599</th>\n",
              "      <td>Walking</td>\n",
              "      <td>-0.503953</td>\n",
              "      <td>16.657684</td>\n",
              "      <td>1.307553</td>\n",
              "    </tr>\n",
              "    <tr>\n",
              "      <th>600</th>\n",
              "      <td>Walking</td>\n",
              "      <td>4.794363</td>\n",
              "      <td>10.760075</td>\n",
              "      <td>-1.184970</td>\n",
              "    </tr>\n",
              "    <tr>\n",
              "      <th>601</th>\n",
              "      <td>Walking</td>\n",
              "      <td>-0.040861</td>\n",
              "      <td>9.234595</td>\n",
              "      <td>-0.694638</td>\n",
              "    </tr>\n",
              "  </tbody>\n",
              "</table>\n",
              "</div>"
            ],
            "text/plain": [
              "    activity         x          y         z\n",
              "597  Walking  0.844462   8.008764  2.792171\n",
              "598  Walking  1.116869   8.621680  3.786457\n",
              "599  Walking -0.503953  16.657684  1.307553\n",
              "600  Walking  4.794363  10.760075 -1.184970\n",
              "601  Walking -0.040861   9.234595 -0.694638"
            ]
          },
          "metadata": {
            "tags": []
          },
          "execution_count": 18
        }
      ]
    },
    {
      "cell_type": "code",
      "metadata": {
        "id": "kIgf76SlWWCK",
        "outputId": "2e329336-897e-41ba-9a16-abe7fb5c0d0a",
        "colab": {
          "base_uri": "https://localhost:8080/",
          "height": 204
        }
      },
      "source": [
        "label=LabelEncoder()\n",
        "balanced_data['label'] = label.fit_transform(balanced_data['activity'])\n",
        "balanced_data.head()"
      ],
      "execution_count": 20,
      "outputs": [
        {
          "output_type": "execute_result",
          "data": {
            "text/html": [
              "<div>\n",
              "<style scoped>\n",
              "    .dataframe tbody tr th:only-of-type {\n",
              "        vertical-align: middle;\n",
              "    }\n",
              "\n",
              "    .dataframe tbody tr th {\n",
              "        vertical-align: top;\n",
              "    }\n",
              "\n",
              "    .dataframe thead th {\n",
              "        text-align: right;\n",
              "    }\n",
              "</style>\n",
              "<table border=\"1\" class=\"dataframe\">\n",
              "  <thead>\n",
              "    <tr style=\"text-align: right;\">\n",
              "      <th></th>\n",
              "      <th>activity</th>\n",
              "      <th>x</th>\n",
              "      <th>y</th>\n",
              "      <th>z</th>\n",
              "      <th>label</th>\n",
              "    </tr>\n",
              "  </thead>\n",
              "  <tbody>\n",
              "    <tr>\n",
              "      <th>597</th>\n",
              "      <td>Walking</td>\n",
              "      <td>0.844462</td>\n",
              "      <td>8.008764</td>\n",
              "      <td>2.792171</td>\n",
              "      <td>5</td>\n",
              "    </tr>\n",
              "    <tr>\n",
              "      <th>598</th>\n",
              "      <td>Walking</td>\n",
              "      <td>1.116869</td>\n",
              "      <td>8.621680</td>\n",
              "      <td>3.786457</td>\n",
              "      <td>5</td>\n",
              "    </tr>\n",
              "    <tr>\n",
              "      <th>599</th>\n",
              "      <td>Walking</td>\n",
              "      <td>-0.503953</td>\n",
              "      <td>16.657684</td>\n",
              "      <td>1.307553</td>\n",
              "      <td>5</td>\n",
              "    </tr>\n",
              "    <tr>\n",
              "      <th>600</th>\n",
              "      <td>Walking</td>\n",
              "      <td>4.794363</td>\n",
              "      <td>10.760075</td>\n",
              "      <td>-1.184970</td>\n",
              "      <td>5</td>\n",
              "    </tr>\n",
              "    <tr>\n",
              "      <th>601</th>\n",
              "      <td>Walking</td>\n",
              "      <td>-0.040861</td>\n",
              "      <td>9.234595</td>\n",
              "      <td>-0.694638</td>\n",
              "      <td>5</td>\n",
              "    </tr>\n",
              "  </tbody>\n",
              "</table>\n",
              "</div>"
            ],
            "text/plain": [
              "    activity         x          y         z  label\n",
              "597  Walking  0.844462   8.008764  2.792171      5\n",
              "598  Walking  1.116869   8.621680  3.786457      5\n",
              "599  Walking -0.503953  16.657684  1.307553      5\n",
              "600  Walking  4.794363  10.760075 -1.184970      5\n",
              "601  Walking -0.040861   9.234595 -0.694638      5"
            ]
          },
          "metadata": {
            "tags": []
          },
          "execution_count": 20
        }
      ]
    },
    {
      "cell_type": "code",
      "metadata": {
        "id": "yttzDY4umwLm",
        "outputId": "13d7b11d-7ea4-49f8-ccfe-24fa3838e207",
        "colab": {
          "base_uri": "https://localhost:8080/"
        }
      },
      "source": [
        "label.classes_"
      ],
      "execution_count": 21,
      "outputs": [
        {
          "output_type": "execute_result",
          "data": {
            "text/plain": [
              "array(['Downstairs', 'Jogging', 'Sitting', 'Standing', 'Upstairs',\n",
              "       'Walking'], dtype=object)"
            ]
          },
          "metadata": {
            "tags": []
          },
          "execution_count": 21
        }
      ]
    },
    {
      "cell_type": "markdown",
      "metadata": {
        "id": "o0vS77T-WlcD"
      },
      "source": [
        "### Normalize the input data"
      ]
    },
    {
      "cell_type": "code",
      "metadata": {
        "id": "a-Cz5AVzWae6",
        "outputId": "6a0d7e34-4b32-4bb1-e907-b5528302b50c",
        "colab": {
          "base_uri": "https://localhost:8080/",
          "height": 204
        }
      },
      "source": [
        "x = balanced_data[['x','y','z']]\n",
        "y = balanced_data['label']\n",
        "\n",
        "scaler = StandardScaler()\n",
        "X = scaler.fit_transform(x)\n",
        "\n",
        "scaled_X = pd.DataFrame(data=X, columns = ['x','y','z'])\n",
        "scaled_X['label']=y.values\n",
        "\n",
        "scaled_X.head()"
      ],
      "execution_count": 22,
      "outputs": [
        {
          "output_type": "execute_result",
          "data": {
            "text/html": [
              "<div>\n",
              "<style scoped>\n",
              "    .dataframe tbody tr th:only-of-type {\n",
              "        vertical-align: middle;\n",
              "    }\n",
              "\n",
              "    .dataframe tbody tr th {\n",
              "        vertical-align: top;\n",
              "    }\n",
              "\n",
              "    .dataframe thead th {\n",
              "        text-align: right;\n",
              "    }\n",
              "</style>\n",
              "<table border=\"1\" class=\"dataframe\">\n",
              "  <thead>\n",
              "    <tr style=\"text-align: right;\">\n",
              "      <th></th>\n",
              "      <th>x</th>\n",
              "      <th>y</th>\n",
              "      <th>z</th>\n",
              "      <th>label</th>\n",
              "    </tr>\n",
              "  </thead>\n",
              "  <tbody>\n",
              "    <tr>\n",
              "      <th>0</th>\n",
              "      <td>0.000503</td>\n",
              "      <td>-0.099190</td>\n",
              "      <td>0.337933</td>\n",
              "      <td>5</td>\n",
              "    </tr>\n",
              "    <tr>\n",
              "      <th>1</th>\n",
              "      <td>0.073590</td>\n",
              "      <td>0.020386</td>\n",
              "      <td>0.633446</td>\n",
              "      <td>5</td>\n",
              "    </tr>\n",
              "    <tr>\n",
              "      <th>2</th>\n",
              "      <td>-0.361275</td>\n",
              "      <td>1.588160</td>\n",
              "      <td>-0.103312</td>\n",
              "      <td>5</td>\n",
              "    </tr>\n",
              "    <tr>\n",
              "      <th>3</th>\n",
              "      <td>1.060258</td>\n",
              "      <td>0.437573</td>\n",
              "      <td>-0.844119</td>\n",
              "      <td>5</td>\n",
              "    </tr>\n",
              "    <tr>\n",
              "      <th>4</th>\n",
              "      <td>-0.237028</td>\n",
              "      <td>0.139962</td>\n",
              "      <td>-0.698386</td>\n",
              "      <td>5</td>\n",
              "    </tr>\n",
              "  </tbody>\n",
              "</table>\n",
              "</div>"
            ],
            "text/plain": [
              "          x         y         z  label\n",
              "0  0.000503 -0.099190  0.337933      5\n",
              "1  0.073590  0.020386  0.633446      5\n",
              "2 -0.361275  1.588160 -0.103312      5\n",
              "3  1.060258  0.437573 -0.844119      5\n",
              "4 -0.237028  0.139962 -0.698386      5"
            ]
          },
          "metadata": {
            "tags": []
          },
          "execution_count": 22
        }
      ]
    },
    {
      "cell_type": "markdown",
      "metadata": {
        "id": "CBCtdCqzXCr5"
      },
      "source": [
        "### Convert to frames (80 samples of X, Y, Z)"
      ]
    },
    {
      "cell_type": "code",
      "metadata": {
        "id": "yss9-q4xXA0l"
      },
      "source": [
        "Fs = 20\n",
        "frame_size = Fs*4  # 80 samples\n",
        "hop_size = Fs*2    # 40 samples\n",
        "\n",
        "def get_frames(df, framesize, hop_size):\n",
        "    N_FEATURES = 3\n",
        "    \n",
        "    frames = []\n",
        "    labels = []\n",
        "    \n",
        "    for i in range (0, len(df) - frame_size, hop_size):\n",
        "        x = df['x'].values[i:i+frame_size]\n",
        "        y = df['y'].values[i:i+frame_size]\n",
        "        z = df['z'].values[i:i+frame_size]\n",
        "        \n",
        "        # Retrive the most often used label in this segment\n",
        "        label = stats.mode(df['label'][i:i+frame_size])[0][0]\n",
        "        frames.append([x,y,z])\n",
        "        labels.append(label)\n",
        "        \n",
        "    # Bring the segments into a better shape\n",
        "    frames = np.asarray(frames).reshape(-1,frame_size, N_FEATURES)\n",
        "    labels = np.asarray(labels)\n",
        "    \n",
        "    return frames, labels\n",
        "\n",
        "\n",
        "X, y = get_frames(scaled_X, frame_size, hop_size)"
      ],
      "execution_count": 23,
      "outputs": []
    },
    {
      "cell_type": "markdown",
      "metadata": {
        "id": "gQ502gj4XUn9"
      },
      "source": [
        "### Split data set for training and validation. Reshape it to use with CNN model"
      ]
    },
    {
      "cell_type": "code",
      "metadata": {
        "id": "JnL0KLDXXbIu",
        "outputId": "576b8e30-334b-4450-dd7e-5f69abb7fef0",
        "colab": {
          "base_uri": "https://localhost:8080/"
        }
      },
      "source": [
        "X_train, X_test, y_train, y_test = train_test_split(X, y, test_size=0.2, random_state=0, stratify=y)\n",
        "X_train.shape, X_test.shape"
      ],
      "execution_count": 24,
      "outputs": [
        {
          "output_type": "execute_result",
          "data": {
            "text/plain": [
              "((425, 80, 3), (107, 80, 3))"
            ]
          },
          "metadata": {
            "tags": []
          },
          "execution_count": 24
        }
      ]
    },
    {
      "cell_type": "code",
      "metadata": {
        "id": "fQAXnOPwYH4A",
        "outputId": "f9769ba5-2a2c-4a1d-b2d4-daeb6016c693",
        "colab": {
          "base_uri": "https://localhost:8080/"
        }
      },
      "source": [
        "X_train = X_train.reshape(425,80,3,1)\n",
        "X_test = X_test.reshape(107,80,3,1)\n",
        "X_train.shape, X_test.shape"
      ],
      "execution_count": 25,
      "outputs": [
        {
          "output_type": "execute_result",
          "data": {
            "text/plain": [
              "((425, 80, 3, 1), (107, 80, 3, 1))"
            ]
          },
          "metadata": {
            "tags": []
          },
          "execution_count": 25
        }
      ]
    },
    {
      "cell_type": "markdown",
      "metadata": {
        "id": "dTt2GsrqYc7U"
      },
      "source": [
        "### Create CNN Model"
      ]
    },
    {
      "cell_type": "code",
      "metadata": {
        "id": "2hGfCqtmYhXZ",
        "outputId": "dab48381-324e-4e00-8c69-f60ffbdb58dc",
        "colab": {
          "base_uri": "https://localhost:8080/"
        }
      },
      "source": [
        "model = Sequential()\n",
        "model.add(Conv2D(16,kernel_size=(2,2), padding='valid', activation = 'relu', input_shape=(80,3,1)))\n",
        "model.add(Dropout(0.1))\n",
        "\n",
        "model.add(Conv2D(32,kernel_size=(2,2), padding='valid', activation = 'relu'))\n",
        "model.add(Dropout(0.2))\n",
        "\n",
        "model.add(Flatten())\n",
        "\n",
        "model.add(Dense(64, activation = 'relu'))\n",
        "model.add(Dropout(0.5))\n",
        "\n",
        "model.add(Dense(6,activation='softmax'))\n",
        "model.summary()\n"
      ],
      "execution_count": 27,
      "outputs": [
        {
          "output_type": "stream",
          "text": [
            "Model: \"sequential_1\"\n",
            "_________________________________________________________________\n",
            "Layer (type)                 Output Shape              Param #   \n",
            "=================================================================\n",
            "conv2d_2 (Conv2D)            (None, 79, 2, 16)         80        \n",
            "_________________________________________________________________\n",
            "dropout_3 (Dropout)          (None, 79, 2, 16)         0         \n",
            "_________________________________________________________________\n",
            "conv2d_3 (Conv2D)            (None, 78, 1, 32)         2080      \n",
            "_________________________________________________________________\n",
            "dropout_4 (Dropout)          (None, 78, 1, 32)         0         \n",
            "_________________________________________________________________\n",
            "flatten_1 (Flatten)          (None, 2496)              0         \n",
            "_________________________________________________________________\n",
            "dense_2 (Dense)              (None, 64)                159808    \n",
            "_________________________________________________________________\n",
            "dropout_5 (Dropout)          (None, 64)                0         \n",
            "_________________________________________________________________\n",
            "dense_3 (Dense)              (None, 6)                 390       \n",
            "=================================================================\n",
            "Total params: 162,358\n",
            "Trainable params: 162,358\n",
            "Non-trainable params: 0\n",
            "_________________________________________________________________\n"
          ],
          "name": "stdout"
        }
      ]
    },
    {
      "cell_type": "markdown",
      "metadata": {
        "id": "LddaY5i2YmCH"
      },
      "source": [
        "### Train Model"
      ]
    },
    {
      "cell_type": "code",
      "metadata": {
        "id": "ALDKSmwkYoBB",
        "outputId": "a9a47e4d-715c-424a-e0a0-e04645567092",
        "colab": {
          "base_uri": "https://localhost:8080/"
        }
      },
      "source": [
        "model.compile(optimizer=Adam(learning_rate=0.001), loss = 'sparse_categorical_crossentropy', metrics = ['accuracy'])\n",
        "history = model.fit(X_train, y_train, epochs =10, validation_data = (X_test, y_test), verbose=1)"
      ],
      "execution_count": 28,
      "outputs": [
        {
          "output_type": "stream",
          "text": [
            "Epoch 1/10\n",
            "14/14 [==============================] - 0s 19ms/step - loss: 1.6715 - accuracy: 0.2400 - val_loss: 1.4308 - val_accuracy: 0.3645\n",
            "Epoch 2/10\n",
            "14/14 [==============================] - 0s 10ms/step - loss: 1.3646 - accuracy: 0.4235 - val_loss: 1.0937 - val_accuracy: 0.6542\n",
            "Epoch 3/10\n",
            "14/14 [==============================] - 0s 10ms/step - loss: 1.1050 - accuracy: 0.5835 - val_loss: 0.8148 - val_accuracy: 0.8037\n",
            "Epoch 4/10\n",
            "14/14 [==============================] - 0s 11ms/step - loss: 0.7914 - accuracy: 0.7224 - val_loss: 0.5986 - val_accuracy: 0.8318\n",
            "Epoch 5/10\n",
            "14/14 [==============================] - 0s 10ms/step - loss: 0.6591 - accuracy: 0.7694 - val_loss: 0.4146 - val_accuracy: 0.8785\n",
            "Epoch 6/10\n",
            "14/14 [==============================] - 0s 10ms/step - loss: 0.5452 - accuracy: 0.7906 - val_loss: 0.3438 - val_accuracy: 0.8972\n",
            "Epoch 7/10\n",
            "14/14 [==============================] - 0s 10ms/step - loss: 0.4515 - accuracy: 0.8259 - val_loss: 0.3140 - val_accuracy: 0.9159\n",
            "Epoch 8/10\n",
            "14/14 [==============================] - 0s 10ms/step - loss: 0.3740 - accuracy: 0.8682 - val_loss: 0.2889 - val_accuracy: 0.8879\n",
            "Epoch 9/10\n",
            "14/14 [==============================] - 0s 10ms/step - loss: 0.3042 - accuracy: 0.8988 - val_loss: 0.2717 - val_accuracy: 0.8879\n",
            "Epoch 10/10\n",
            "14/14 [==============================] - 0s 10ms/step - loss: 0.2960 - accuracy: 0.8965 - val_loss: 0.2572 - val_accuracy: 0.9065\n"
          ],
          "name": "stdout"
        }
      ]
    },
    {
      "cell_type": "markdown",
      "metadata": {
        "id": "AdxARg7PYtcM"
      },
      "source": [
        "### Plot Learning Curve"
      ]
    },
    {
      "cell_type": "code",
      "metadata": {
        "id": "EE4jELRCYsge",
        "outputId": "b2958d01-d350-4212-8892-e149973ec028",
        "colab": {
          "base_uri": "https://localhost:8080/",
          "height": 573
        }
      },
      "source": [
        "def plot_learningCurve(history, epochs):\n",
        "    # Plot training & validation accuracy values\n",
        "    epoch_range = range(1, epochs+1)\n",
        "    plt.plot(epoch_range, history.history['accuracy'])\n",
        "    plt.plot(epoch_range, history.history['val_accuracy'])\n",
        "    plt.title('Model accuracy')\n",
        "    plt.ylabel('Accuracy')\n",
        "    plt.xlabel('Epoch')\n",
        "    plt.legend(['Train', 'Val'], loc='upper left')\n",
        "    plt.show()\n",
        "    \n",
        "    # Plot training & validation loss values\n",
        "    plt.plot(epoch_range, history.history['loss'])\n",
        "    plt.plot(epoch_range, history.history['val_loss'])\n",
        "    plt.title('Model loss')\n",
        "    plt.ylabel('Loss')\n",
        "    plt.xlabel('Epoch')\n",
        "    plt.legend(['Train', 'Val'], loc='upper left')\n",
        "    plt.show()\n",
        "\n",
        "plot_learningCurve(history, 10)"
      ],
      "execution_count": 29,
      "outputs": [
        {
          "output_type": "display_data",
          "data": {
            "image/png": "[encoded data removed]",
            "text/plain": [
              "<Figure size 432x288 with 1 Axes>"
            ]
          },
          "metadata": {
            "tags": [],
            "needs_background": "light"
          }
        },
        {
          "output_type": "display_data",
          "data": {
            "image/png": "[encoded data removed]",
            "text/plain": [
              "<Figure size 432x288 with 1 Axes>"
            ]
          },
          "metadata": {
            "tags": [],
            "needs_background": "light"
          }
        }
      ]
    },
    {
      "cell_type": "markdown",
      "metadata": {
        "id": "RtzcYtXrY0ak"
      },
      "source": [
        "### Plot Confusion Matrix"
      ]
    },
    {
      "cell_type": "code",
      "metadata": {
        "id": "uJwnRRPeZYk3",
        "outputId": "df65d92c-6225-4e75-f75a-02e0d4ef2940",
        "colab": {
          "base_uri": "https://localhost:8080/"
        }
      },
      "source": [
        "!pip install mlxtend"
      ],
      "execution_count": 30,
      "outputs": [
        {
          "output_type": "stream",
          "text": [
            "Requirement already satisfied: mlxtend in /usr/local/lib/python3.6/dist-packages (0.14.0)\n",
            "Requirement already satisfied: numpy>=1.10.4 in /usr/local/lib/python3.6/dist-packages (from mlxtend) (1.18.5)\n",
            "Requirement already satisfied: pandas>=0.17.1 in /usr/local/lib/python3.6/dist-packages (from mlxtend) (1.1.4)\n",
            "Requirement already satisfied: setuptools in /usr/local/lib/python3.6/dist-packages (from mlxtend) (50.3.2)\n",
            "Requirement already satisfied: scikit-learn>=0.18 in /usr/local/lib/python3.6/dist-packages (from mlxtend) (0.22.2.post1)\n",
            "Requirement already satisfied: matplotlib>=1.5.1 in /usr/local/lib/python3.6/dist-packages (from mlxtend) (3.2.2)\n",
            "Requirement already satisfied: scipy>=0.17 in /usr/local/lib/python3.6/dist-packages (from mlxtend) (1.4.1)\n",
            "Requirement already satisfied: pytz>=2017.2 in /usr/local/lib/python3.6/dist-packages (from pandas>=0.17.1->mlxtend) (2018.9)\n",
            "Requirement already satisfied: python-dateutil>=2.7.3 in /usr/local/lib/python3.6/dist-packages (from pandas>=0.17.1->mlxtend) (2.8.1)\n",
            "Requirement already satisfied: joblib>=0.11 in /usr/local/lib/python3.6/dist-packages (from scikit-learn>=0.18->mlxtend) (0.17.0)\n",
            "Requirement already satisfied: pyparsing!=2.0.4,!=2.1.2,!=2.1.6,>=2.0.1 in /usr/local/lib/python3.6/dist-packages (from matplotlib>=1.5.1->mlxtend) (2.4.7)\n",
            "Requirement already satisfied: cycler>=0.10 in /usr/local/lib/python3.6/dist-packages (from matplotlib>=1.5.1->mlxtend) (0.10.0)\n",
            "Requirement already satisfied: kiwisolver>=1.0.1 in /usr/local/lib/python3.6/dist-packages (from matplotlib>=1.5.1->mlxtend) (1.3.1)\n",
            "Requirement already satisfied: six>=1.5 in /usr/local/lib/python3.6/dist-packages (from python-dateutil>=2.7.3->pandas>=0.17.1->mlxtend) (1.15.0)\n"
          ],
          "name": "stdout"
        }
      ]
    },
    {
      "cell_type": "code",
      "metadata": {
        "id": "7XoPpG8XxFdu",
        "outputId": "ab474d8b-e26c-4b3a-f3fe-1ee97b3d0806",
        "colab": {
          "base_uri": "https://localhost:8080/",
          "height": 476
        }
      },
      "source": [
        "from mlxtend.plotting import plot_confusion_matrix\n",
        "from sklearn.metrics import confusion_matrix\n",
        "import matplotlib\n",
        "\n",
        "y_pred = np.argmax(model.predict(X_test), axis=-1) \n",
        "mat = confusion_matrix(y_test, y_pred)\n",
        "plot_confusion_matrix(conf_mat=mat, show_normed=True, figsize=(7,7))"
      ],
      "execution_count": 31,
      "outputs": [
        {
          "output_type": "execute_result",
          "data": {
            "text/plain": [
              "(<Figure size 504x504 with 1 Axes>,\n",
              " <matplotlib.axes._subplots.AxesSubplot at 0x7f14dbb766a0>)"
            ]
          },
          "metadata": {
            "tags": []
          },
          "execution_count": 31
        },
        {
          "output_type": "display_data",
          "data": {
            "image/png": "[encoded data removed]",
            "text/plain": [
              "<Figure size 504x504 with 1 Axes>"
            ]
          },
          "metadata": {
            "tags": [],
            "needs_background": "light"
          }
        }
      ]
    },
    {
      "cell_type": "markdown",
      "metadata": {
        "id": "Eupik6ZWI92t"
      },
      "source": [
        "### Convert to a TensorFlow Lite model - without quantization\n"
      ]
    },
    {
      "cell_type": "code",
      "metadata": {
        "id": "kCubOsi0JDXT",
        "outputId": "053368b0-d0f0-4e57-8bef-b28b5278e609",
        "colab": {
          "base_uri": "https://localhost:8080/"
        }
      },
      "source": [
        "converter = tf.lite.TFLiteConverter.from_keras_model(model)\n",
        "tflite_model = converter.convert()\n",
        "\n",
        "modelfile = \"/content/drive/My Drive/tfModel/har_model.tflite\"\n",
        "open(MODEL_TFLITE, \"wb\").write(tflite_model)\n"
      ],
      "execution_count": 33,
      "outputs": [
        {
          "output_type": "stream",
          "text": [
            "WARNING:tensorflow:From /usr/local/lib/python3.6/dist-packages/tensorflow/python/training/tracking/tracking.py:111: Model.state_updates (from tensorflow.python.keras.engine.training) is deprecated and will be removed in a future version.\n",
            "Instructions for updating:\n",
            "This property should not be used in TensorFlow 2.0, as updates are applied automatically.\n",
            "WARNING:tensorflow:From /usr/local/lib/python3.6/dist-packages/tensorflow/python/training/tracking/tracking.py:111: Layer.updates (from tensorflow.python.keras.engine.base_layer) is deprecated and will be removed in a future version.\n",
            "Instructions for updating:\n",
            "This property should not be used in TensorFlow 2.0, as updates are applied automatically.\n",
            "INFO:tensorflow:Assets written to: /tmp/tmpipic6zlm/assets\n"
          ],
          "name": "stdout"
        },
        {
          "output_type": "execute_result",
          "data": {
            "text/plain": [
              "652100"
            ]
          },
          "metadata": {
            "tags": []
          },
          "execution_count": 33
        }
      ]
    },
    {
      "cell_type": "code",
      "metadata": {
        "id": "L5zI8lLksMGp",
        "outputId": "df3c9aab-6fff-4dee-f91a-83cab0d5236a",
        "colab": {
          "base_uri": "https://localhost:8080/",
          "height": 476
        }
      },
      "source": [
        "# Initialize an interpreter with the model\n",
        "interpreter = tf.lite.Interpreter(MODEL_TFLITE)\n",
        "\n",
        "# Allocate memory for the model's input Tensor's\n",
        "interpreter.allocate_tensors()\n",
        "\n",
        "input_index = interpreter.get_input_details()[0][\"index\"]\n",
        "output_index = interpreter.get_output_details()[0][\"index\"]\n",
        "\n",
        "\n",
        "# Create arrays to store the results\n",
        "har_model_predictions = []\n",
        "\n",
        "# Inference with Tensorflow Lite model\n",
        "for i in range(len(X_test)):\n",
        "  input = X_test[i].reshape(1,80,3,1)\n",
        "  input = input.astype(np.float32)\n",
        "\n",
        "  x_value_tensor = tf.convert_to_tensor(input, dtype=tf.float32)\n",
        "  interpreter.set_tensor(input_index, x_value_tensor)\n",
        "  interpreter.invoke()\n",
        "  har_model_predictions.append(interpreter.get_tensor(output_index)[0])\n",
        "\n",
        "# Plot Confusion matrix\n",
        "y_pred=np.argmax(har_model_predictions, axis=1)\n",
        "mat = confusion_matrix(y_test, y_pred)\n",
        "plot_confusion_matrix(conf_mat=mat, show_normed=True, figsize=(7,7))"
      ],
      "execution_count": 35,
      "outputs": [
        {
          "output_type": "execute_result",
          "data": {
            "text/plain": [
              "(<Figure size 504x504 with 1 Axes>,\n",
              " <matplotlib.axes._subplots.AxesSubplot at 0x7f14d8b56d68>)"
            ]
          },
          "metadata": {
            "tags": []
          },
          "execution_count": 35
        },
        {
          "output_type": "display_data",
          "data": {
            "image/png": "[encoded data removed]",
            "text/plain": [
              "<Figure size 504x504 with 1 Axes>"
            ]
          },
          "metadata": {
            "tags": [],
            "needs_background": "light"
          }
        }
      ]
    },
    {
      "cell_type": "markdown",
      "metadata": {
        "id": "1xbEIRtLzyA_"
      },
      "source": [
        "### Convert to a TensorFlow Lite model - using float fallback quantization"
      ]
    },
    {
      "cell_type": "code",
      "metadata": {
        "id": "VKa6L4SK0Ga_",
        "outputId": "5001548a-f097-4a55-d209-3d7013b08663",
        "colab": {
          "base_uri": "https://localhost:8080/"
        }
      },
      "source": [
        "def representative_dataset_gen():\n",
        "    for i in range(len(X_train)):\n",
        "      input = X_train[i].reshape(1,80,3,1)\n",
        "      input = input.astype(np.float32)\n",
        "      yield [input]\n",
        "converter = tf.lite.TFLiteConverter.from_keras_model(model)\n",
        "# This enables quantization\n",
        "converter.optimizations = [tf.lite.Optimize.DEFAULT]\n",
        "# This sets the representative dataset for quantization\n",
        "converter.representative_dataset = representative_dataset_gen\n",
        "\n",
        "tflite_model_int8 = converter.convert()\n",
        "\n",
        "open(MODEL_TFLITE_INT8, \"wb\").write(tflite_model_int8)"
      ],
      "execution_count": 43,
      "outputs": [
        {
          "output_type": "stream",
          "text": [
            "INFO:tensorflow:Assets written to: /tmp/tmp23pan8ot/assets\n"
          ],
          "name": "stdout"
        },
        {
          "output_type": "stream",
          "text": [
            "INFO:tensorflow:Assets written to: /tmp/tmp23pan8ot/assets\n"
          ],
          "name": "stderr"
        },
        {
          "output_type": "execute_result",
          "data": {
            "text/plain": [
              "168080"
            ]
          },
          "metadata": {
            "tags": []
          },
          "execution_count": 43
        }
      ]
    },
    {
      "cell_type": "code",
      "metadata": {
        "id": "jD6V4earskla",
        "outputId": "9f7b8fb1-66cd-4e21-d539-1a843434aae8",
        "colab": {
          "base_uri": "https://localhost:8080/",
          "height": 476
        }
      },
      "source": [
        "# Initialize an interpreter with the model\n",
        "interpreter = tf.lite.Interpreter(MODEL_TFLITE_INT8)\n",
        "\n",
        "# Allocate memory for the model's input Tensor's\n",
        "interpreter.allocate_tensors()\n",
        "\n",
        "input_index = interpreter.get_input_details()[0][\"index\"]\n",
        "output_index = interpreter.get_output_details()[0][\"index\"]\n",
        "\n",
        "\n",
        "# Create arrays to store the results\n",
        "har_model_predictions = []\n",
        "\n",
        "# Inference with Tensorflow Lite model\n",
        "for i in range(len(X_test)):\n",
        "  input = X_test[i].reshape(1,80,3,1)\n",
        "  input = input.astype(np.float32)\n",
        "\n",
        "  #x_value_tensor = tf.convert_to_tensor(input, dtype=tf.float32)\n",
        "  interpreter.set_tensor(input_index, input)\n",
        "  interpreter.invoke()\n",
        "  har_model_predictions.append(interpreter.get_tensor(output_index)[0])\n",
        "\n",
        "# Plot Confusion matrix\n",
        "y_pred=np.argmax(har_model_predictions, axis=1)\n",
        "mat = confusion_matrix(y_test, y_pred)\n",
        "plot_confusion_matrix(conf_mat=mat, show_normed=True, figsize=(7,7))"
      ],
      "execution_count": 37,
      "outputs": [
        {
          "output_type": "execute_result",
          "data": {
            "text/plain": [
              "(<Figure size 504x504 with 1 Axes>,\n",
              " <matplotlib.axes._subplots.AxesSubplot at 0x7f14dd05b780>)"
            ]
          },
          "metadata": {
            "tags": []
          },
          "execution_count": 37
        },
        {
          "output_type": "display_data",
          "data": {
            "image/png": "[encoded data removed]",
            "text/plain": [
              "<Figure size 504x504 with 1 Axes>"
            ]
          },
          "metadata": {
            "tags": [],
            "needs_background": "light"
          }
        }
      ]
    },
    {
      "cell_type": "markdown",
      "metadata": {
        "id": "vjE_ej1BEpy9"
      },
      "source": [
        "### Convert to a TensorFlow Lite model - using integer-only quantization"
      ]
    },
    {
      "cell_type": "code",
      "metadata": {
        "id": "qRhBtJerExNL",
        "outputId": "89a38eb8-131a-4060-da98-a22ef2530a9c",
        "colab": {
          "base_uri": "https://localhost:8080/"
        }
      },
      "source": [
        "def representative_dataset_gen():\n",
        "    for i in range(len(X_train)):\n",
        "      input = X_train[i].reshape(1,80,3,1)\n",
        "      input = input.astype(np.float32)\n",
        "      yield [input]\n",
        "\n",
        "converter=tf.lite.TFLiteConverter.from_keras_model(model)\n",
        "# This enables quantization\n",
        "converter.optimizations = [tf.lite.Optimize.DEFAULT]\n",
        "# This sets the representative dataset for quantization\n",
        "converter.representative_dataset = representative_dataset_gen\n",
        "\n",
        "# This ensures that if any ops can't be quantized, the converter throws an error\n",
        "converter.target_spec.supported_ops = [tf.lite.OpsSet.TFLITE_BUILTINS_INT8]\n",
        "# For full integer quantization, though supported types defaults to int8 only, \n",
        "# we explicitly declare it for clarity.\n",
        "converter.target_spec.supported_types = [tf.int8]\n",
        "# Set the input and output tensors to uint8 (APIs added in r2.3)\n",
        "converter.inference_input_type = tf.int8  # or tf.uint8\n",
        "converter.inference_output_type = tf.int8  # or tf.uint8\n",
        "# Provide a representative dataset to ensure we quantize correctly.\n",
        "tflite_model_int8_full = converter.convert()\n",
        "\n",
        "open(MODEL_TFLITE_INT8_FULL, \"wb\").write(tflite_model_int8_full)"
      ],
      "execution_count": 44,
      "outputs": [
        {
          "output_type": "stream",
          "text": [
            "INFO:tensorflow:Assets written to: /tmp/tmpoh6w53yv/assets\n"
          ],
          "name": "stdout"
        },
        {
          "output_type": "stream",
          "text": [
            "INFO:tensorflow:Assets written to: /tmp/tmpoh6w53yv/assets\n"
          ],
          "name": "stderr"
        },
        {
          "output_type": "execute_result",
          "data": {
            "text/plain": [
              "167824"
            ]
          },
          "metadata": {
            "tags": []
          },
          "execution_count": 44
        }
      ]
    },
    {
      "cell_type": "code",
      "metadata": {
        "id": "XfvdUWAytSFI",
        "outputId": "db458af5-1b9f-451e-9d8d-0095bd5050c7",
        "colab": {
          "base_uri": "https://localhost:8080/",
          "height": 476
        }
      },
      "source": [
        "# Initialize an interpreter with the model\n",
        "interpreter = tf.lite.Interpreter(MODEL_TFLITE_INT8_FULL)\n",
        "\n",
        "# Allocate memory for the model's input Tensor's\n",
        "interpreter.allocate_tensors()\n",
        "\n",
        "input_details = interpreter.get_input_details()[0]\n",
        "output_details = interpreter.get_output_details()[0]\n",
        "\n",
        "# Create arrays to store the results\n",
        "har_model_predictions = []\n",
        "\n",
        "# Inference with Tensorflow Lite model\n",
        "for i in range(len(X_test)):\n",
        "  tf_input = X_test[i].reshape(1,80,3,1)\n",
        "  tf_input = tf_input.astype(np.float32)\n",
        "\n",
        "# Manually quantize the input from float to integer\n",
        "  scale, zero_point = input_details['quantization']\n",
        "  tflite_integer_input = tf_input / scale + zero_point\n",
        "  tflite_integer_input = tflite_integer_input.astype(input_details['dtype'])\n",
        "  interpreter.set_tensor(input_details['index'], tflite_integer_input)\n",
        "\n",
        "  interpreter.invoke()\n",
        "\n",
        "  output_details = interpreter.get_output_details()[0]\n",
        "  tflite_integer_output = interpreter.get_tensor(output_details['index'])\n",
        "  # Manually dequantize the output from integer to float\n",
        "  scale, zero_point = output_details['quantization']\n",
        "  tflite_output = tflite_integer_output.astype(np.float32)\n",
        "  tflite_output = (tflite_output - zero_point) * scale\n",
        "\n",
        "  har_model_predictions.append(tflite_output[0])\n",
        "\n",
        "# Plot Confusion matrix\n",
        "y_pred=np.argmax(har_model_predictions, axis=1)\n",
        "mat = confusion_matrix(y_test, y_pred)\n",
        "plot_confusion_matrix(conf_mat=mat, show_normed=True, figsize=(7,7))"
      ],
      "execution_count": 45,
      "outputs": [
        {
          "output_type": "execute_result",
          "data": {
            "text/plain": [
              "(<Figure size 504x504 with 1 Axes>,\n",
              " <matplotlib.axes._subplots.AxesSubplot at 0x7f14d8de61d0>)"
            ]
          },
          "metadata": {
            "tags": []
          },
          "execution_count": 45
        },
        {
          "output_type": "display_data",
          "data": {
            "image/png": "[encoded data removed]",
            "text/plain": [
              "<Figure size 504x504 with 1 Axes>"
            ]
          },
          "metadata": {
            "tags": [],
            "needs_background": "light"
          }
        }
      ]
    },
    {
      "cell_type": "markdown",
      "metadata": {
        "id": "wBwLKlq_KIEQ"
      },
      "source": [
        "### Generate C file"
      ]
    },
    {
      "cell_type": "code",
      "metadata": {
        "id": "XKt2YT9VKLcM"
      },
      "source": [
        "from tensorflow.lite.python.util import convert_bytes_to_c_source\n",
        "source_text, header_text = convert_bytes_to_c_source(tflite_model,  \"model\")\n",
        "\n",
        "with  open(MODEL_TFLITE_MICRO_H,  'w')  as  file:\n",
        "    file.write(header_text)\n",
        "\n",
        "with  open(MODEL_TFLITE_MICRO_C,  'w')  as  file:\n",
        "    file.write(source_text)"
      ],
      "execution_count": 50,
      "outputs": []
    },
    {
      "cell_type": "code",
      "metadata": {
        "id": "IuE8MbI8p5Uk"
      },
      "source": [
        "from tensorflow.lite.python.util import convert_bytes_to_c_source\n",
        "source_text, header_text = convert_bytes_to_c_source(tflite_model_int8,  \"model_int8\")\n",
        "\n",
        "with  open(MODEL_TFLITE_INT8_MICRO_H,  'w')  as  file:\n",
        "    file.write(header_text)\n",
        "\n",
        "with  open(MODEL_TFLITE_INT8_MICRO_C,  'w')  as  file:\n",
        "    file.write(source_text)"
      ],
      "execution_count": 51,
      "outputs": []
    },
    {
      "cell_type": "code",
      "metadata": {
        "id": "TIiM4xohp1B2"
      },
      "source": [
        "from tensorflow.lite.python.util import convert_bytes_to_c_source\n",
        "source_text, header_text = convert_bytes_to_c_source(tflite_model_int8_full,  \"model_int8_full\")\n",
        "\n",
        "with  open(MODEL_TFLITE_INT8_FULL_MICRO_H,  'w')  as  file:\n",
        "    file.write(header_text)\n",
        "\n",
        "with  open(MODEL_TFLITE_INT8_FULL_MICRO_C,  'w')  as  file:\n",
        "    file.write(source_text)"
      ],
      "execution_count": 54,
      "outputs": []
    }
  ]
}