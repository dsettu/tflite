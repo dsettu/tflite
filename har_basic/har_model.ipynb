{
  "nbformat": 4,
  "nbformat_minor": 0,
  "metadata": {
    "colab": {
      "name": "har_model.ipynb",
      "provenance": [],
      "collapsed_sections": [],
      "toc_visible": true
    },
    "kernelspec": {
      "name": "python3",
      "display_name": "Python 3"
    }
  },
  "cells": [
    {
      "cell_type": "markdown",
      "metadata": {
        "id": "rklR1Qkxd5Wp"
      },
      "source": [
        "## Train Human Activity Recognition Model\n",
        "This is based on [Human Activity Recognition](https://github.com/laxmimerit/Human-Activity-Recognition-Using-Accelerometer-Data-and-CNN) using accelerometer data. We added scripts to convert the model to TensorFlow Lite format to run the model on Microcontroller with TenserFlow Lite run time engine. \n",
        "- Convert without quantization\n",
        "- Convert using float fallback quantization\n",
        "- Convert using integer only quantization\n"
      ]
    },
    {
      "cell_type": "markdown",
      "metadata": {
        "id": "cDd9o3x67u8B"
      },
      "source": [
        "<table class=\"tfo-notebook-buttons\" align=\"left\">\n",
        "  <td>\n",
        "    <a target=\"_blank\" href=\"https://colab.research.google.com/github/dsettu/tflite/blob/main/har_basic/har_model.ipynb\"><img src=\"https://www.tensorflow.org/images/colab_logo_32px.png\" />Run in Google Colab</a>\n",
        "  </td>\n",
        "  <td>\n",
        "    <a target=\"_blank\" href=\"https://colab.research.google.com/github/dsettu/tflite/blob/main/har_basic/har_model.ipynb\"><img src=\"https://www.tensorflow.org/images/GitHub-Mark-32px.png\" />View source on GitHub</a>\n",
        "  </td>\n",
        "</table>"
      ]
    },
    {
      "cell_type": "markdown",
      "metadata": {
        "id": "0z4C8lECHjIU"
      },
      "source": [
        "## Setup Environments"
      ]
    },
    {
      "cell_type": "code",
      "metadata": {
        "id": "fNLhK6nfGegi",
        "outputId": "ed1f0658-ac9c-4f29-a1cf-0b092031b295",
        "colab": {
          "base_uri": "https://localhost:8080/"
        }
      },
      "source": [
        "# Keras is TensorFlow's high-level API for deep learning\n",
        "from tensorflow import keras\n",
        "import tensorflow as tf\n",
        "from tensorflow.keras import Sequential\n",
        "from tensorflow.keras.layers import Flatten, Dense, Dropout, BatchNormalization\n",
        "from tensorflow.keras.layers import Conv2D, MaxPool2D\n",
        "from tensorflow.keras.optimizers import Adam\n",
        "import pandas as pd\n",
        "import numpy as np\n",
        "import matplotlib.pyplot as plt\n",
        "import scipy.stats as stats\n",
        "from sklearn.model_selection import train_test_split\n",
        "from sklearn.preprocessing import StandardScaler, LabelEncoder\n",
        "\n",
        "import os\n",
        "import sys\n",
        "import sklearn as sk\n",
        "print(f\"Tensor Flow version: {tf.__version__}\")\n",
        "print(f\"Keras version: {tf.keras.__version__}\")\n",
        "print(f\"Python version: {sys.version}\")\n",
        "print(f\"Pandas version: {pd.__version__}\")\n",
        "print(f\"Scikit-Learn version: {sk.__version__}\")\n",
        "print(\"GPU is\", \"Available\" if tf.test.is_gpu_available() else \"Not Available\")\n"
      ],
      "execution_count": null,
      "outputs": [
        {
          "output_type": "stream",
          "text": [
            "Tensor Flow version: 2.3.0\n",
            "Keras version: 2.4.0\n",
            "Python version: 3.6.9 (default, Oct  8 2020, 12:12:24) \n",
            "[GCC 8.4.0]\n",
            "Pandas version: 1.1.4\n",
            "Scikit-Learn version: 0.22.2.post1\n",
            "GPU is Not Available\n"
          ],
          "name": "stdout"
        }
      ]
    },
    {
      "cell_type": "code",
      "metadata": {
        "id": "Fgz8MDSV_srF"
      },
      "source": [
        "# Constants for training directories and filepaths\n",
        "DATASET =  'tflite/har_basic/dataset/WISDM_ar_v1.1/WISDM_ar_v1.1_raw.txt'\n",
        "\n",
        "# Constants for inference directories and filepaths\n",
        "import os\n",
        "MODELS_DIR = 'models'\n",
        "TFLITE_DIR = 'tflite'\n",
        "\n",
        "!rm -rf {TFLITE_DIR} {MODELS_DIR}\n",
        "\n",
        "if not os.path.exists(MODELS_DIR):\n",
        "  os.mkdir(MODELS_DIR)\n",
        "\n",
        "!git clone -q --depth 1 https://github.com/dsettu/tflite\n",
        "\n",
        "MODEL_TFLITE = os.path.join(MODELS_DIR, 'model.tflite')\n",
        "MODEL_TFLITE_MICRO_C = os.path.join(MODELS_DIR, 'model.cpp')\n",
        "MODEL_TFLITE_MICRO_H = os.path.join(MODELS_DIR, 'model.h')\n",
        "\n",
        "MODEL_TFLITE_INT8 = os.path.join(MODELS_DIR, 'model_int8.tflite')\n",
        "MODEL_TFLITE_INT8_MICRO_C = os.path.join(MODELS_DIR, 'model_int8.cpp')\n",
        "MODEL_TFLITE_INT8_MICRO_H = os.path.join(MODELS_DIR, 'model_int8.h')\n",
        "\n",
        "MODEL_TFLITE_INT8_FULL = os.path.join(MODELS_DIR, 'model_int8_full.tflite')\n",
        "MODEL_TFLITE_INT8_FULL_MICRO_C = os.path.join(MODELS_DIR, 'model_int8_full.cpp')\n",
        "MODEL_TFLITE_INT8_FULL_MICRO_H = os.path.join(MODELS_DIR, 'model_int8_full.h')\n"
      ],
      "execution_count": null,
      "outputs": []
    },
    {
      "cell_type": "markdown",
      "metadata": {
        "id": "SN1UeT--OZ4E"
      },
      "source": [
        "### Load dataset\n",
        "- Remove missing and invalid data input\n"
      ]
    },
    {
      "cell_type": "code",
      "metadata": {
        "id": "crOXINK6KQZb",
        "outputId": "5a5feca4-4f46-4549-fffb-5cfd91635062",
        "colab": {
          "base_uri": "https://localhost:8080/"
        }
      },
      "source": [
        "file = open(DATASET)\n",
        "lines = file.readlines()\n",
        "\n",
        "processedList = []\n",
        "\n",
        "for i, line in enumerate(lines):\n",
        "    try:\n",
        "        line=line.split(',')\n",
        "        last=line[5].split(';')[0]\n",
        "        last=last.strip()\n",
        "        if last == '':\n",
        "            print('Missing data at line number ',i)\n",
        "            continue;\n",
        "        temp = [line[0], line[1], line[2], line[3], line[4], last]\n",
        "        processedList.append(temp)\n",
        "    except:\n",
        "        print('Error at line number ',i)"
      ],
      "execution_count": null,
      "outputs": [
        {
          "output_type": "stream",
          "text": [
            "Error at line number  281873\n",
            "Error at line number  281874\n",
            "Error at line number  281875\n",
            "Missing data at line number  343419\n",
            "Error at line number  537501\n",
            "Error at line number  832901\n",
            "Error at line number  1098209\n"
          ],
          "name": "stdout"
        }
      ]
    },
    {
      "cell_type": "markdown",
      "metadata": {
        "id": "x_Yn9d-XVdSd"
      },
      "source": [
        "### Remove user and time information"
      ]
    },
    {
      "cell_type": "code",
      "metadata": {
        "id": "uu3cmdxqOmSi",
        "outputId": "6d5de069-ed53-433f-dec9-9ace1fc1dc98",
        "colab": {
          "base_uri": "https://localhost:8080/",
          "height": 221
        }
      },
      "source": [
        "columns = ['user', 'activity', 'time','x','y','z']\n",
        "data = pd.DataFrame(data=processedList, columns = columns)\n",
        "print(\"Number of rows:\", len(data.index))\n",
        "data.head()\n"
      ],
      "execution_count": null,
      "outputs": [
        {
          "output_type": "stream",
          "text": [
            "Number of rows: 1098203\n"
          ],
          "name": "stdout"
        },
        {
          "output_type": "execute_result",
          "data": {
            "text/html": [
              "<div>\n",
              "<style scoped>\n",
              "    .dataframe tbody tr th:only-of-type {\n",
              "        vertical-align: middle;\n",
              "    }\n",
              "\n",
              "    .dataframe tbody tr th {\n",
              "        vertical-align: top;\n",
              "    }\n",
              "\n",
              "    .dataframe thead th {\n",
              "        text-align: right;\n",
              "    }\n",
              "</style>\n",
              "<table border=\"1\" class=\"dataframe\">\n",
              "  <thead>\n",
              "    <tr style=\"text-align: right;\">\n",
              "      <th></th>\n",
              "      <th>user</th>\n",
              "      <th>activity</th>\n",
              "      <th>time</th>\n",
              "      <th>x</th>\n",
              "      <th>y</th>\n",
              "      <th>z</th>\n",
              "    </tr>\n",
              "  </thead>\n",
              "  <tbody>\n",
              "    <tr>\n",
              "      <th>0</th>\n",
              "      <td>33</td>\n",
              "      <td>Jogging</td>\n",
              "      <td>49105962326000</td>\n",
              "      <td>-0.6946377</td>\n",
              "      <td>12.680544</td>\n",
              "      <td>0.50395286</td>\n",
              "    </tr>\n",
              "    <tr>\n",
              "      <th>1</th>\n",
              "      <td>33</td>\n",
              "      <td>Jogging</td>\n",
              "      <td>49106062271000</td>\n",
              "      <td>5.012288</td>\n",
              "      <td>11.264028</td>\n",
              "      <td>0.95342433</td>\n",
              "    </tr>\n",
              "    <tr>\n",
              "      <th>2</th>\n",
              "      <td>33</td>\n",
              "      <td>Jogging</td>\n",
              "      <td>49106112167000</td>\n",
              "      <td>4.903325</td>\n",
              "      <td>10.882658</td>\n",
              "      <td>-0.08172209</td>\n",
              "    </tr>\n",
              "    <tr>\n",
              "      <th>3</th>\n",
              "      <td>33</td>\n",
              "      <td>Jogging</td>\n",
              "      <td>49106222305000</td>\n",
              "      <td>-0.61291564</td>\n",
              "      <td>18.496431</td>\n",
              "      <td>3.0237172</td>\n",
              "    </tr>\n",
              "    <tr>\n",
              "      <th>4</th>\n",
              "      <td>33</td>\n",
              "      <td>Jogging</td>\n",
              "      <td>49106332290000</td>\n",
              "      <td>-1.1849703</td>\n",
              "      <td>12.108489</td>\n",
              "      <td>7.205164</td>\n",
              "    </tr>\n",
              "  </tbody>\n",
              "</table>\n",
              "</div>"
            ],
            "text/plain": [
              "  user activity            time            x          y            z\n",
              "0   33  Jogging  49105962326000   -0.6946377  12.680544   0.50395286\n",
              "1   33  Jogging  49106062271000     5.012288  11.264028   0.95342433\n",
              "2   33  Jogging  49106112167000     4.903325  10.882658  -0.08172209\n",
              "3   33  Jogging  49106222305000  -0.61291564  18.496431    3.0237172\n",
              "4   33  Jogging  49106332290000   -1.1849703  12.108489     7.205164"
            ]
          },
          "metadata": {
            "tags": []
          },
          "execution_count": 241
        }
      ]
    },
    {
      "cell_type": "code",
      "metadata": {
        "id": "QUrV5MiRPb1-",
        "outputId": "ba60eb54-5986-47ed-aefe-defc76a20c1d",
        "colab": {
          "base_uri": "https://localhost:8080/",
          "height": 204
        }
      },
      "source": [
        "df=data.drop(['user','time'], axis = 1).copy()\n",
        "df.head()"
      ],
      "execution_count": null,
      "outputs": [
        {
          "output_type": "execute_result",
          "data": {
            "text/html": [
              "<div>\n",
              "<style scoped>\n",
              "    .dataframe tbody tr th:only-of-type {\n",
              "        vertical-align: middle;\n",
              "    }\n",
              "\n",
              "    .dataframe tbody tr th {\n",
              "        vertical-align: top;\n",
              "    }\n",
              "\n",
              "    .dataframe thead th {\n",
              "        text-align: right;\n",
              "    }\n",
              "</style>\n",
              "<table border=\"1\" class=\"dataframe\">\n",
              "  <thead>\n",
              "    <tr style=\"text-align: right;\">\n",
              "      <th></th>\n",
              "      <th>activity</th>\n",
              "      <th>x</th>\n",
              "      <th>y</th>\n",
              "      <th>z</th>\n",
              "    </tr>\n",
              "  </thead>\n",
              "  <tbody>\n",
              "    <tr>\n",
              "      <th>0</th>\n",
              "      <td>Jogging</td>\n",
              "      <td>-0.6946377</td>\n",
              "      <td>12.680544</td>\n",
              "      <td>0.50395286</td>\n",
              "    </tr>\n",
              "    <tr>\n",
              "      <th>1</th>\n",
              "      <td>Jogging</td>\n",
              "      <td>5.012288</td>\n",
              "      <td>11.264028</td>\n",
              "      <td>0.95342433</td>\n",
              "    </tr>\n",
              "    <tr>\n",
              "      <th>2</th>\n",
              "      <td>Jogging</td>\n",
              "      <td>4.903325</td>\n",
              "      <td>10.882658</td>\n",
              "      <td>-0.08172209</td>\n",
              "    </tr>\n",
              "    <tr>\n",
              "      <th>3</th>\n",
              "      <td>Jogging</td>\n",
              "      <td>-0.61291564</td>\n",
              "      <td>18.496431</td>\n",
              "      <td>3.0237172</td>\n",
              "    </tr>\n",
              "    <tr>\n",
              "      <th>4</th>\n",
              "      <td>Jogging</td>\n",
              "      <td>-1.1849703</td>\n",
              "      <td>12.108489</td>\n",
              "      <td>7.205164</td>\n",
              "    </tr>\n",
              "  </tbody>\n",
              "</table>\n",
              "</div>"
            ],
            "text/plain": [
              "  activity            x          y            z\n",
              "0  Jogging   -0.6946377  12.680544   0.50395286\n",
              "1  Jogging     5.012288  11.264028   0.95342433\n",
              "2  Jogging     4.903325  10.882658  -0.08172209\n",
              "3  Jogging  -0.61291564  18.496431    3.0237172\n",
              "4  Jogging   -1.1849703  12.108489     7.205164"
            ]
          },
          "metadata": {
            "tags": []
          },
          "execution_count": 242
        }
      ]
    },
    {
      "cell_type": "code",
      "metadata": {
        "id": "h-z0DDlJpgzb",
        "outputId": "d40b2894-aa79-4341-95b6-cb84aeb8b7ee",
        "colab": {
          "base_uri": "https://localhost:8080/"
        }
      },
      "source": [
        "df.shape"
      ],
      "execution_count": null,
      "outputs": [
        {
          "output_type": "execute_result",
          "data": {
            "text/plain": [
              "(1098203, 4)"
            ]
          },
          "metadata": {
            "tags": []
          },
          "execution_count": 243
        }
      ]
    },
    {
      "cell_type": "markdown",
      "metadata": {
        "id": "w0FPNt_xVrHT"
      },
      "source": [
        "### Balance the dataset equally for all activities"
      ]
    },
    {
      "cell_type": "code",
      "metadata": {
        "id": "UR_VNu9WPuP6",
        "outputId": "e2979b2a-397f-4bd1-e56f-e1db7d7e8a4a",
        "colab": {
          "base_uri": "https://localhost:8080/"
        }
      },
      "source": [
        "df['activity'].value_counts()"
      ],
      "execution_count": null,
      "outputs": [
        {
          "output_type": "execute_result",
          "data": {
            "text/plain": [
              "Walking       424397\n",
              "Jogging       342176\n",
              "Upstairs      122869\n",
              "Downstairs    100427\n",
              "Sitting        59939\n",
              "Standing       48395\n",
              "Name: activity, dtype: int64"
            ]
          },
          "metadata": {
            "tags": []
          },
          "execution_count": 244
        }
      ]
    },
    {
      "cell_type": "code",
      "metadata": {
        "id": "sdYL57AjRmnm",
        "outputId": "3b70dbb3-3f80-45b7-986e-7bb2c082c519",
        "colab": {
          "base_uri": "https://localhost:8080/"
        }
      },
      "source": [
        "Walking = df[df['activity']=='Walking'].head(48395).copy()\n",
        "Jogging = df[df['activity']=='Jogging'].head(48395).copy()\n",
        "Upstairs = df[df['activity']=='Upstairs'].head(48395).copy()\n",
        "Downstairs = df[df['activity']=='Downstairs'].head(48395).copy()\n",
        "Sitting = df[df['activity']=='Sitting'].head(48395).copy()\n",
        "Standing = df[df['activity']=='Standing'].head(48395).copy()\n",
        "\n",
        "balanced_data=pd.DataFrame()\n",
        "balanced_data = balanced_data.append ([Walking, Jogging, Upstairs, Downstairs, Sitting, Standing])\n",
        "balanced_data['activity'].value_counts()"
      ],
      "execution_count": null,
      "outputs": [
        {
          "output_type": "execute_result",
          "data": {
            "text/plain": [
              "Standing      48395\n",
              "Downstairs    48395\n",
              "Upstairs      48395\n",
              "Sitting       48395\n",
              "Walking       48395\n",
              "Jogging       48395\n",
              "Name: activity, dtype: int64"
            ]
          },
          "metadata": {
            "tags": []
          },
          "execution_count": 245
        }
      ]
    },
    {
      "cell_type": "code",
      "metadata": {
        "id": "8MkI9Lc2sB5Q",
        "outputId": "6e9eeb63-f916-448c-8b7f-f6390fcec713",
        "colab": {
          "base_uri": "https://localhost:8080/"
        }
      },
      "source": [
        "balanced_data.shape"
      ],
      "execution_count": null,
      "outputs": [
        {
          "output_type": "execute_result",
          "data": {
            "text/plain": [
              "(290370, 4)"
            ]
          },
          "metadata": {
            "tags": []
          },
          "execution_count": 246
        }
      ]
    },
    {
      "cell_type": "markdown",
      "metadata": {
        "id": "wAOawlVHVxMp"
      },
      "source": [
        "### Convert the X,Y,Z data to float "
      ]
    },
    {
      "cell_type": "code",
      "metadata": {
        "id": "V6sl0ilXRslW",
        "outputId": "4dd91c14-8bf9-4b61-e4fe-d9f486632708",
        "colab": {
          "base_uri": "https://localhost:8080/"
        }
      },
      "source": [
        "balanced_data.info()"
      ],
      "execution_count": null,
      "outputs": [
        {
          "output_type": "stream",
          "text": [
            "<class 'pandas.core.frame.DataFrame'>\n",
            "Int64Index: 290370 entries, 597 to 1095668\n",
            "Data columns (total 4 columns):\n",
            " #   Column    Non-Null Count   Dtype \n",
            "---  ------    --------------   ----- \n",
            " 0   activity  290370 non-null  object\n",
            " 1   x         290370 non-null  object\n",
            " 2   y         290370 non-null  object\n",
            " 3   z         290370 non-null  object\n",
            "dtypes: object(4)\n",
            "memory usage: 11.1+ MB\n"
          ],
          "name": "stdout"
        }
      ]
    },
    {
      "cell_type": "code",
      "metadata": {
        "id": "kt0dHEsYR0l9",
        "outputId": "0be29210-d9ff-424e-a0f1-94d3b9660cd5",
        "colab": {
          "base_uri": "https://localhost:8080/"
        }
      },
      "source": [
        "balanced_data['x']=balanced_data['x'].astype('float')\n",
        "balanced_data['y']=balanced_data['y'].astype('float')\n",
        "balanced_data['z']=balanced_data['z'].astype('float')\n",
        "balanced_data.info()"
      ],
      "execution_count": null,
      "outputs": [
        {
          "output_type": "stream",
          "text": [
            "<class 'pandas.core.frame.DataFrame'>\n",
            "Int64Index: 290370 entries, 597 to 1095668\n",
            "Data columns (total 4 columns):\n",
            " #   Column    Non-Null Count   Dtype  \n",
            "---  ------    --------------   -----  \n",
            " 0   activity  290370 non-null  object \n",
            " 1   x         290370 non-null  float64\n",
            " 2   y         290370 non-null  float64\n",
            " 3   z         290370 non-null  float64\n",
            "dtypes: float64(3), object(1)\n",
            "memory usage: 11.1+ MB\n"
          ],
          "name": "stdout"
        }
      ]
    },
    {
      "cell_type": "markdown",
      "metadata": {
        "id": "__WSxxjxPjaR"
      },
      "source": [
        "### Add label to the data"
      ]
    },
    {
      "cell_type": "code",
      "metadata": {
        "id": "Q1D7dNP9WRg9",
        "outputId": "7be3ade6-986c-4b8e-cb73-df25f4946539",
        "colab": {
          "base_uri": "https://localhost:8080/",
          "height": 204
        }
      },
      "source": [
        "balanced_data.head()"
      ],
      "execution_count": null,
      "outputs": [
        {
          "output_type": "execute_result",
          "data": {
            "text/html": [
              "<div>\n",
              "<style scoped>\n",
              "    .dataframe tbody tr th:only-of-type {\n",
              "        vertical-align: middle;\n",
              "    }\n",
              "\n",
              "    .dataframe tbody tr th {\n",
              "        vertical-align: top;\n",
              "    }\n",
              "\n",
              "    .dataframe thead th {\n",
              "        text-align: right;\n",
              "    }\n",
              "</style>\n",
              "<table border=\"1\" class=\"dataframe\">\n",
              "  <thead>\n",
              "    <tr style=\"text-align: right;\">\n",
              "      <th></th>\n",
              "      <th>activity</th>\n",
              "      <th>x</th>\n",
              "      <th>y</th>\n",
              "      <th>z</th>\n",
              "    </tr>\n",
              "  </thead>\n",
              "  <tbody>\n",
              "    <tr>\n",
              "      <th>597</th>\n",
              "      <td>Walking</td>\n",
              "      <td>0.844462</td>\n",
              "      <td>8.008764</td>\n",
              "      <td>2.792171</td>\n",
              "    </tr>\n",
              "    <tr>\n",
              "      <th>598</th>\n",
              "      <td>Walking</td>\n",
              "      <td>1.116869</td>\n",
              "      <td>8.621680</td>\n",
              "      <td>3.786457</td>\n",
              "    </tr>\n",
              "    <tr>\n",
              "      <th>599</th>\n",
              "      <td>Walking</td>\n",
              "      <td>-0.503953</td>\n",
              "      <td>16.657684</td>\n",
              "      <td>1.307553</td>\n",
              "    </tr>\n",
              "    <tr>\n",
              "      <th>600</th>\n",
              "      <td>Walking</td>\n",
              "      <td>4.794363</td>\n",
              "      <td>10.760075</td>\n",
              "      <td>-1.184970</td>\n",
              "    </tr>\n",
              "    <tr>\n",
              "      <th>601</th>\n",
              "      <td>Walking</td>\n",
              "      <td>-0.040861</td>\n",
              "      <td>9.234595</td>\n",
              "      <td>-0.694638</td>\n",
              "    </tr>\n",
              "  </tbody>\n",
              "</table>\n",
              "</div>"
            ],
            "text/plain": [
              "    activity         x          y         z\n",
              "597  Walking  0.844462   8.008764  2.792171\n",
              "598  Walking  1.116869   8.621680  3.786457\n",
              "599  Walking -0.503953  16.657684  1.307553\n",
              "600  Walking  4.794363  10.760075 -1.184970\n",
              "601  Walking -0.040861   9.234595 -0.694638"
            ]
          },
          "metadata": {
            "tags": []
          },
          "execution_count": 249
        }
      ]
    },
    {
      "cell_type": "code",
      "metadata": {
        "id": "kIgf76SlWWCK",
        "outputId": "47e556f2-a676-4dc5-ad4b-80deba20a600",
        "colab": {
          "base_uri": "https://localhost:8080/",
          "height": 204
        }
      },
      "source": [
        "label=LabelEncoder()\n",
        "balanced_data['label'] = label.fit_transform(balanced_data['activity'])\n",
        "balanced_data.head()"
      ],
      "execution_count": null,
      "outputs": [
        {
          "output_type": "execute_result",
          "data": {
            "text/html": [
              "<div>\n",
              "<style scoped>\n",
              "    .dataframe tbody tr th:only-of-type {\n",
              "        vertical-align: middle;\n",
              "    }\n",
              "\n",
              "    .dataframe tbody tr th {\n",
              "        vertical-align: top;\n",
              "    }\n",
              "\n",
              "    .dataframe thead th {\n",
              "        text-align: right;\n",
              "    }\n",
              "</style>\n",
              "<table border=\"1\" class=\"dataframe\">\n",
              "  <thead>\n",
              "    <tr style=\"text-align: right;\">\n",
              "      <th></th>\n",
              "      <th>activity</th>\n",
              "      <th>x</th>\n",
              "      <th>y</th>\n",
              "      <th>z</th>\n",
              "      <th>label</th>\n",
              "    </tr>\n",
              "  </thead>\n",
              "  <tbody>\n",
              "    <tr>\n",
              "      <th>597</th>\n",
              "      <td>Walking</td>\n",
              "      <td>0.844462</td>\n",
              "      <td>8.008764</td>\n",
              "      <td>2.792171</td>\n",
              "      <td>5</td>\n",
              "    </tr>\n",
              "    <tr>\n",
              "      <th>598</th>\n",
              "      <td>Walking</td>\n",
              "      <td>1.116869</td>\n",
              "      <td>8.621680</td>\n",
              "      <td>3.786457</td>\n",
              "      <td>5</td>\n",
              "    </tr>\n",
              "    <tr>\n",
              "      <th>599</th>\n",
              "      <td>Walking</td>\n",
              "      <td>-0.503953</td>\n",
              "      <td>16.657684</td>\n",
              "      <td>1.307553</td>\n",
              "      <td>5</td>\n",
              "    </tr>\n",
              "    <tr>\n",
              "      <th>600</th>\n",
              "      <td>Walking</td>\n",
              "      <td>4.794363</td>\n",
              "      <td>10.760075</td>\n",
              "      <td>-1.184970</td>\n",
              "      <td>5</td>\n",
              "    </tr>\n",
              "    <tr>\n",
              "      <th>601</th>\n",
              "      <td>Walking</td>\n",
              "      <td>-0.040861</td>\n",
              "      <td>9.234595</td>\n",
              "      <td>-0.694638</td>\n",
              "      <td>5</td>\n",
              "    </tr>\n",
              "  </tbody>\n",
              "</table>\n",
              "</div>"
            ],
            "text/plain": [
              "    activity         x          y         z  label\n",
              "597  Walking  0.844462   8.008764  2.792171      5\n",
              "598  Walking  1.116869   8.621680  3.786457      5\n",
              "599  Walking -0.503953  16.657684  1.307553      5\n",
              "600  Walking  4.794363  10.760075 -1.184970      5\n",
              "601  Walking -0.040861   9.234595 -0.694638      5"
            ]
          },
          "metadata": {
            "tags": []
          },
          "execution_count": 250
        }
      ]
    },
    {
      "cell_type": "code",
      "metadata": {
        "id": "yttzDY4umwLm",
        "outputId": "08fb241e-c7c8-492e-c8d0-8bb5efd89b5b",
        "colab": {
          "base_uri": "https://localhost:8080/"
        }
      },
      "source": [
        "label.classes_"
      ],
      "execution_count": null,
      "outputs": [
        {
          "output_type": "execute_result",
          "data": {
            "text/plain": [
              "array(['Downstairs', 'Jogging', 'Sitting', 'Standing', 'Upstairs',\n",
              "       'Walking'], dtype=object)"
            ]
          },
          "metadata": {
            "tags": []
          },
          "execution_count": 251
        }
      ]
    },
    {
      "cell_type": "markdown",
      "metadata": {
        "id": "o0vS77T-WlcD"
      },
      "source": [
        "### Normalize the input data"
      ]
    },
    {
      "cell_type": "code",
      "metadata": {
        "id": "a-Cz5AVzWae6",
        "outputId": "2ff5ecf7-48c4-4827-c393-bb8a3553c02d",
        "colab": {
          "base_uri": "https://localhost:8080/",
          "height": 204
        }
      },
      "source": [
        "x = balanced_data[['x','y','z']]\n",
        "y = balanced_data['label']\n",
        "\n",
        "scaler = StandardScaler()\n",
        "X = scaler.fit_transform(x)\n",
        "\n",
        "scaled_X = pd.DataFrame(data=X, columns = ['x','y','z'])\n",
        "scaled_X['label']=y.values\n",
        "\n",
        "scaled_X.head()"
      ],
      "execution_count": null,
      "outputs": [
        {
          "output_type": "execute_result",
          "data": {
            "text/html": [
              "<div>\n",
              "<style scoped>\n",
              "    .dataframe tbody tr th:only-of-type {\n",
              "        vertical-align: middle;\n",
              "    }\n",
              "\n",
              "    .dataframe tbody tr th {\n",
              "        vertical-align: top;\n",
              "    }\n",
              "\n",
              "    .dataframe thead th {\n",
              "        text-align: right;\n",
              "    }\n",
              "</style>\n",
              "<table border=\"1\" class=\"dataframe\">\n",
              "  <thead>\n",
              "    <tr style=\"text-align: right;\">\n",
              "      <th></th>\n",
              "      <th>x</th>\n",
              "      <th>y</th>\n",
              "      <th>z</th>\n",
              "      <th>label</th>\n",
              "    </tr>\n",
              "  </thead>\n",
              "  <tbody>\n",
              "    <tr>\n",
              "      <th>0</th>\n",
              "      <td>-0.034489</td>\n",
              "      <td>0.076967</td>\n",
              "      <td>0.266487</td>\n",
              "      <td>5</td>\n",
              "    </tr>\n",
              "    <tr>\n",
              "      <th>1</th>\n",
              "      <td>0.017285</td>\n",
              "      <td>0.187547</td>\n",
              "      <td>0.495750</td>\n",
              "      <td>5</td>\n",
              "    </tr>\n",
              "    <tr>\n",
              "      <th>2</th>\n",
              "      <td>-0.290769</td>\n",
              "      <td>1.637371</td>\n",
              "      <td>-0.075839</td>\n",
              "      <td>5</td>\n",
              "    </tr>\n",
              "    <tr>\n",
              "      <th>3</th>\n",
              "      <td>0.716230</td>\n",
              "      <td>0.573348</td>\n",
              "      <td>-0.650569</td>\n",
              "      <td>5</td>\n",
              "    </tr>\n",
              "    <tr>\n",
              "      <th>4</th>\n",
              "      <td>-0.202754</td>\n",
              "      <td>0.298127</td>\n",
              "      <td>-0.537507</td>\n",
              "      <td>5</td>\n",
              "    </tr>\n",
              "  </tbody>\n",
              "</table>\n",
              "</div>"
            ],
            "text/plain": [
              "          x         y         z  label\n",
              "0 -0.034489  0.076967  0.266487      5\n",
              "1  0.017285  0.187547  0.495750      5\n",
              "2 -0.290769  1.637371 -0.075839      5\n",
              "3  0.716230  0.573348 -0.650569      5\n",
              "4 -0.202754  0.298127 -0.537507      5"
            ]
          },
          "metadata": {
            "tags": []
          },
          "execution_count": 252
        }
      ]
    },
    {
      "cell_type": "markdown",
      "metadata": {
        "id": "CBCtdCqzXCr5"
      },
      "source": [
        "### Convert to frames (80 samples of X, Y, Z)\n",
        "- Input data is sampled at 20Hz (1 sample every 50ms)\n"
      ]
    },
    {
      "cell_type": "code",
      "metadata": {
        "id": "yss9-q4xXA0l"
      },
      "source": [
        "Fs = 20            # 20 samples every 1 second\n",
        "frame_size = Fs*4  # 4 seconds - 80 samples\n",
        "hop_size = Fs*2    # 2 seconds - 40 samples\n",
        "\n",
        "def get_frames(df, framesize, hop_size):\n",
        "    N_FEATURES = 3\n",
        "    \n",
        "    frames = []\n",
        "    labels = []\n",
        "    \n",
        "    for i in range (0, len(df) - frame_size, hop_size):\n",
        "        x = df['x'].values[i:i+frame_size]\n",
        "        y = df['y'].values[i:i+frame_size]\n",
        "        z = df['z'].values[i:i+frame_size]\n",
        "        \n",
        "        # Retrive the most often used label in this segment\n",
        "        label = stats.mode(df['label'][i:i+frame_size])[0][0]\n",
        "        frames.append([x,y,z])\n",
        "        labels.append(label)\n",
        "        \n",
        "    # Bring the segments into a better shape\n",
        "    frames = np.asarray(frames).reshape(-1,frame_size, N_FEATURES)\n",
        "    labels = np.asarray(labels)\n",
        "    \n",
        "    return frames, labels\n",
        "\n",
        "\n",
        "X, y = get_frames(scaled_X, frame_size, hop_size)"
      ],
      "execution_count": null,
      "outputs": []
    },
    {
      "cell_type": "markdown",
      "metadata": {
        "id": "gQ502gj4XUn9"
      },
      "source": [
        "### Split data set for training and validation. Reshape it to use with CNN model"
      ]
    },
    {
      "cell_type": "code",
      "metadata": {
        "id": "JnL0KLDXXbIu",
        "outputId": "ee39b8bc-c0cf-4e47-bf04-85b420bac4a0",
        "colab": {
          "base_uri": "https://localhost:8080/"
        }
      },
      "source": [
        "X_train, X_test, y_train, y_test = train_test_split(X, y, test_size=0.2, random_state=0, stratify=y)\n",
        "X_train.shape, X_test.shape"
      ],
      "execution_count": null,
      "outputs": [
        {
          "output_type": "execute_result",
          "data": {
            "text/plain": [
              "((5806, 80, 3), (1452, 80, 3))"
            ]
          },
          "metadata": {
            "tags": []
          },
          "execution_count": 254
        }
      ]
    },
    {
      "cell_type": "code",
      "metadata": {
        "id": "fQAXnOPwYH4A",
        "outputId": "15baa301-4748-447e-893e-48b29ddfb87e",
        "colab": {
          "base_uri": "https://localhost:8080/"
        }
      },
      "source": [
        "X_train = X_train.reshape(5806,80,3,1)\n",
        "X_test = X_test.reshape(1452,80,3,1)\n",
        "X_train.shape, X_test.shape"
      ],
      "execution_count": null,
      "outputs": [
        {
          "output_type": "execute_result",
          "data": {
            "text/plain": [
              "((5806, 80, 3, 1), (1452, 80, 3, 1))"
            ]
          },
          "metadata": {
            "tags": []
          },
          "execution_count": 255
        }
      ]
    },
    {
      "cell_type": "markdown",
      "metadata": {
        "id": "dTt2GsrqYc7U"
      },
      "source": [
        "### Create CNN Model"
      ]
    },
    {
      "cell_type": "code",
      "metadata": {
        "id": "2hGfCqtmYhXZ",
        "outputId": "244ffdef-6c71-46ef-c989-19f288426270",
        "colab": {
          "base_uri": "https://localhost:8080/"
        }
      },
      "source": [
        "model = Sequential()\n",
        "model.add(Conv2D(16,kernel_size=(2,2), padding='valid', activation = 'relu', input_shape=(80,3,1)))\n",
        "model.add(Dropout(0.1))\n",
        "\n",
        "model.add(Conv2D(32,kernel_size=(2,2), padding='valid', activation = 'relu'))\n",
        "model.add(Dropout(0.2))\n",
        "\n",
        "model.add(Flatten())\n",
        "\n",
        "model.add(Dense(64, activation = 'relu'))\n",
        "model.add(Dropout(0.5))\n",
        "\n",
        "model.add(Dense(6,activation='softmax'))\n",
        "model.summary()\n"
      ],
      "execution_count": null,
      "outputs": [
        {
          "output_type": "stream",
          "text": [
            "Model: \"sequential_8\"\n",
            "_________________________________________________________________\n",
            "Layer (type)                 Output Shape              Param #   \n",
            "=================================================================\n",
            "conv2d_16 (Conv2D)           (None, 79, 2, 16)         80        \n",
            "_________________________________________________________________\n",
            "dropout_24 (Dropout)         (None, 79, 2, 16)         0         \n",
            "_________________________________________________________________\n",
            "conv2d_17 (Conv2D)           (None, 78, 1, 32)         2080      \n",
            "_________________________________________________________________\n",
            "dropout_25 (Dropout)         (None, 78, 1, 32)         0         \n",
            "_________________________________________________________________\n",
            "flatten_8 (Flatten)          (None, 2496)              0         \n",
            "_________________________________________________________________\n",
            "dense_16 (Dense)             (None, 64)                159808    \n",
            "_________________________________________________________________\n",
            "dropout_26 (Dropout)         (None, 64)                0         \n",
            "_________________________________________________________________\n",
            "dense_17 (Dense)             (None, 6)                 390       \n",
            "=================================================================\n",
            "Total params: 162,358\n",
            "Trainable params: 162,358\n",
            "Non-trainable params: 0\n",
            "_________________________________________________________________\n"
          ],
          "name": "stdout"
        }
      ]
    },
    {
      "cell_type": "markdown",
      "metadata": {
        "id": "LddaY5i2YmCH"
      },
      "source": [
        "### Train Model"
      ]
    },
    {
      "cell_type": "code",
      "metadata": {
        "id": "ALDKSmwkYoBB",
        "outputId": "438967d1-5880-42aa-e560-cb980997d68c",
        "colab": {
          "base_uri": "https://localhost:8080/"
        }
      },
      "source": [
        "model.compile(optimizer=Adam(learning_rate=0.001), loss = 'sparse_categorical_crossentropy', metrics = ['accuracy'])\n",
        "history = model.fit(X_train, y_train, epochs =10, validation_data = (X_test, y_test), verbose=1)"
      ],
      "execution_count": null,
      "outputs": [
        {
          "output_type": "stream",
          "text": [
            "Epoch 1/10\n",
            "182/182 [==============================] - 2s 11ms/step - loss: 0.8976 - accuracy: 0.6314 - val_loss: 0.5136 - val_accuracy: 0.7831\n",
            "Epoch 2/10\n",
            "182/182 [==============================] - 2s 10ms/step - loss: 0.5577 - accuracy: 0.7668 - val_loss: 0.4289 - val_accuracy: 0.8278\n",
            "Epoch 3/10\n",
            "182/182 [==============================] - 2s 10ms/step - loss: 0.4526 - accuracy: 0.8164 - val_loss: 0.3442 - val_accuracy: 0.8747\n",
            "Epoch 4/10\n",
            "182/182 [==============================] - 2s 10ms/step - loss: 0.3757 - accuracy: 0.8481 - val_loss: 0.2975 - val_accuracy: 0.8960\n",
            "Epoch 5/10\n",
            "182/182 [==============================] - 2s 10ms/step - loss: 0.3268 - accuracy: 0.8657 - val_loss: 0.2801 - val_accuracy: 0.9008\n",
            "Epoch 6/10\n",
            "182/182 [==============================] - 2s 10ms/step - loss: 0.2989 - accuracy: 0.8770 - val_loss: 0.2352 - val_accuracy: 0.9201\n",
            "Epoch 7/10\n",
            "182/182 [==============================] - 2s 10ms/step - loss: 0.2632 - accuracy: 0.8968 - val_loss: 0.2310 - val_accuracy: 0.9180\n",
            "Epoch 8/10\n",
            "182/182 [==============================] - 2s 10ms/step - loss: 0.2467 - accuracy: 0.9018 - val_loss: 0.2069 - val_accuracy: 0.9332\n",
            "Epoch 9/10\n",
            "182/182 [==============================] - 2s 10ms/step - loss: 0.2292 - accuracy: 0.9082 - val_loss: 0.1936 - val_accuracy: 0.9387\n",
            "Epoch 10/10\n",
            "182/182 [==============================] - 2s 10ms/step - loss: 0.2105 - accuracy: 0.9168 - val_loss: 0.1876 - val_accuracy: 0.9394\n"
          ],
          "name": "stdout"
        }
      ]
    },
    {
      "cell_type": "markdown",
      "metadata": {
        "id": "AdxARg7PYtcM"
      },
      "source": [
        "### Plot Learning Curve"
      ]
    },
    {
      "cell_type": "code",
      "metadata": {
        "id": "EE4jELRCYsge",
        "outputId": "34204e07-8347-47ba-f22b-a562e72453c1",
        "colab": {
          "base_uri": "https://localhost:8080/",
          "height": 573
        }
      },
      "source": [
        "def plot_learningCurve(history, epochs):\n",
        "    # Plot training & validation accuracy values\n",
        "    epoch_range = range(1, epochs+1)\n",
        "    plt.plot(epoch_range, history.history['accuracy'])\n",
        "    plt.plot(epoch_range, history.history['val_accuracy'])\n",
        "    plt.title('Model accuracy')\n",
        "    plt.ylabel('Accuracy')\n",
        "    plt.xlabel('Epoch')\n",
        "    plt.legend(['Train', 'Val'], loc='upper left')\n",
        "    plt.show()\n",
        "    \n",
        "    # Plot training & validation loss values\n",
        "    plt.plot(epoch_range, history.history['loss'])\n",
        "    plt.plot(epoch_range, history.history['val_loss'])\n",
        "    plt.title('Model loss')\n",
        "    plt.ylabel('Loss')\n",
        "    plt.xlabel('Epoch')\n",
        "    plt.legend(['Train', 'Val'], loc='upper left')\n",
        "    plt.show()\n",
        "\n",
        "plot_learningCurve(history, 10)"
      ],
      "execution_count": null,
      "outputs": [
        {
          "output_type": "display_data",
          "data": {
            "image/png": "[encoded data removed]",
            "text/plain": [
              "<Figure size 432x288 with 1 Axes>"
            ]
          },
          "metadata": {
            "tags": [],
            "needs_background": "light"
          }
        },
        {
          "output_type": "display_data",
          "data": {
            "image/png": "[encoded data removed]",
            "text/plain": [
              "<Figure size 432x288 with 1 Axes>"
            ]
          },
          "metadata": {
            "tags": [],
            "needs_background": "light"
          }
        }
      ]
    },
    {
      "cell_type": "markdown",
      "metadata": {
        "id": "RtzcYtXrY0ak"
      },
      "source": [
        "### Plot Confusion Matrix"
      ]
    },
    {
      "cell_type": "code",
      "metadata": {
        "id": "uJwnRRPeZYk3",
        "outputId": "c3bf4963-2eed-4c83-b5e5-9f938ffadeb4",
        "colab": {
          "base_uri": "https://localhost:8080/"
        }
      },
      "source": [
        "!pip install mlxtend"
      ],
      "execution_count": null,
      "outputs": [
        {
          "output_type": "stream",
          "text": [
            "Requirement already satisfied: mlxtend in /usr/local/lib/python3.6/dist-packages (0.14.0)\n",
            "Requirement already satisfied: pandas>=0.17.1 in /usr/local/lib/python3.6/dist-packages (from mlxtend) (1.1.4)\n",
            "Requirement already satisfied: scikit-learn>=0.18 in /usr/local/lib/python3.6/dist-packages (from mlxtend) (0.22.2.post1)\n",
            "Requirement already satisfied: scipy>=0.17 in /usr/local/lib/python3.6/dist-packages (from mlxtend) (1.4.1)\n",
            "Requirement already satisfied: setuptools in /usr/local/lib/python3.6/dist-packages (from mlxtend) (50.3.2)\n",
            "Requirement already satisfied: matplotlib>=1.5.1 in /usr/local/lib/python3.6/dist-packages (from mlxtend) (3.2.2)\n",
            "Requirement already satisfied: numpy>=1.10.4 in /usr/local/lib/python3.6/dist-packages (from mlxtend) (1.18.5)\n",
            "Requirement already satisfied: python-dateutil>=2.7.3 in /usr/local/lib/python3.6/dist-packages (from pandas>=0.17.1->mlxtend) (2.8.1)\n",
            "Requirement already satisfied: pytz>=2017.2 in /usr/local/lib/python3.6/dist-packages (from pandas>=0.17.1->mlxtend) (2018.9)\n",
            "Requirement already satisfied: joblib>=0.11 in /usr/local/lib/python3.6/dist-packages (from scikit-learn>=0.18->mlxtend) (0.17.0)\n",
            "Requirement already satisfied: pyparsing!=2.0.4,!=2.1.2,!=2.1.6,>=2.0.1 in /usr/local/lib/python3.6/dist-packages (from matplotlib>=1.5.1->mlxtend) (2.4.7)\n",
            "Requirement already satisfied: cycler>=0.10 in /usr/local/lib/python3.6/dist-packages (from matplotlib>=1.5.1->mlxtend) (0.10.0)\n",
            "Requirement already satisfied: kiwisolver>=1.0.1 in /usr/local/lib/python3.6/dist-packages (from matplotlib>=1.5.1->mlxtend) (1.3.1)\n",
            "Requirement already satisfied: six>=1.5 in /usr/local/lib/python3.6/dist-packages (from python-dateutil>=2.7.3->pandas>=0.17.1->mlxtend) (1.15.0)\n"
          ],
          "name": "stdout"
        }
      ]
    },
    {
      "cell_type": "code",
      "metadata": {
        "id": "7XoPpG8XxFdu",
        "outputId": "63b8be40-1aba-42f0-c891-7de26c5e8add",
        "colab": {
          "base_uri": "https://localhost:8080/",
          "height": 476
        }
      },
      "source": [
        "from mlxtend.plotting import plot_confusion_matrix\n",
        "from sklearn.metrics import confusion_matrix\n",
        "import matplotlib\n",
        "\n",
        "y_pred = np.argmax(model.predict(X_test), axis=-1) \n",
        "mat = confusion_matrix(y_test, y_pred)\n",
        "plot_confusion_matrix(conf_mat=mat, show_normed=True, figsize=(7,7))"
      ],
      "execution_count": null,
      "outputs": [
        {
          "output_type": "execute_result",
          "data": {
            "text/plain": [
              "(<Figure size 504x504 with 1 Axes>,\n",
              " <matplotlib.axes._subplots.AxesSubplot at 0x7fed95b273c8>)"
            ]
          },
          "metadata": {
            "tags": []
          },
          "execution_count": 260
        },
        {
          "output_type": "display_data",
          "data": {
            "image/png": "[encoded data removed]",
            "text/plain": [
              "<Figure size 504x504 with 1 Axes>"
            ]
          },
          "metadata": {
            "tags": [],
            "needs_background": "light"
          }
        }
      ]
    },
    {
      "cell_type": "markdown",
      "metadata": {
        "id": "Eupik6ZWI92t"
      },
      "source": [
        "### Convert to a TensorFlow Lite model - without quantization\n"
      ]
    },
    {
      "cell_type": "code",
      "metadata": {
        "id": "kCubOsi0JDXT",
        "outputId": "fb09ff3d-ac39-4588-de9c-d3d686aff6c3",
        "colab": {
          "base_uri": "https://localhost:8080/"
        }
      },
      "source": [
        "converter = tf.lite.TFLiteConverter.from_keras_model(model)\n",
        "tflite_model = converter.convert()\n",
        "\n",
        "open(MODEL_TFLITE, \"wb\").write(tflite_model)\n"
      ],
      "execution_count": null,
      "outputs": [
        {
          "output_type": "stream",
          "text": [
            "INFO:tensorflow:Assets written to: /tmp/tmp7icvikfv/assets\n"
          ],
          "name": "stdout"
        },
        {
          "output_type": "stream",
          "text": [
            "INFO:tensorflow:Assets written to: /tmp/tmp7icvikfv/assets\n"
          ],
          "name": "stderr"
        },
        {
          "output_type": "execute_result",
          "data": {
            "text/plain": [
              "652120"
            ]
          },
          "metadata": {
            "tags": []
          },
          "execution_count": 261
        }
      ]
    },
    {
      "cell_type": "code",
      "metadata": {
        "id": "L5zI8lLksMGp",
        "outputId": "91138d79-fc64-45c5-d917-2e54dcdb0b7f",
        "colab": {
          "base_uri": "https://localhost:8080/",
          "height": 476
        }
      },
      "source": [
        "# Initialize an interpreter with the model\n",
        "interpreter = tf.lite.Interpreter(MODEL_TFLITE)\n",
        "\n",
        "# Allocate memory for the model's input Tensor's\n",
        "interpreter.allocate_tensors()\n",
        "\n",
        "input_index = interpreter.get_input_details()[0][\"index\"]\n",
        "output_index = interpreter.get_output_details()[0][\"index\"]\n",
        "\n",
        "\n",
        "# Create arrays to store the results\n",
        "har_model_predictions = []\n",
        "\n",
        "# Inference with Tensorflow Lite model\n",
        "for i in range(len(X_test)):\n",
        "  input = X_test[i].reshape(1,80,3,1)\n",
        "  input = input.astype(np.float32)\n",
        "\n",
        "  x_value_tensor = tf.convert_to_tensor(input, dtype=tf.float32)\n",
        "  interpreter.set_tensor(input_index, x_value_tensor)\n",
        "  interpreter.invoke()\n",
        "  har_model_predictions.append(interpreter.get_tensor(output_index)[0])\n",
        "\n",
        "# Plot Confusion matrix\n",
        "y_pred=np.argmax(har_model_predictions, axis=1)\n",
        "mat = confusion_matrix(y_test, y_pred)\n",
        "plot_confusion_matrix(conf_mat=mat, show_normed=True, figsize=(7,7))"
      ],
      "execution_count": null,
      "outputs": [
        {
          "output_type": "execute_result",
          "data": {
            "text/plain": [
              "(<Figure size 504x504 with 1 Axes>,\n",
              " <matplotlib.axes._subplots.AxesSubplot at 0x7fed95a41c88>)"
            ]
          },
          "metadata": {
            "tags": []
          },
          "execution_count": 262
        },
        {
          "output_type": "display_data",
          "data": {
            "image/png": "[encoded data removed]",
            "text/plain": [
              "<Figure size 504x504 with 1 Axes>"
            ]
          },
          "metadata": {
            "tags": [],
            "needs_background": "light"
          }
        }
      ]
    },
    {
      "cell_type": "markdown",
      "metadata": {
        "id": "1xbEIRtLzyA_"
      },
      "source": [
        "### Convert to a TensorFlow Lite model - using float fallback quantization"
      ]
    },
    {
      "cell_type": "code",
      "metadata": {
        "id": "VKa6L4SK0Ga_",
        "outputId": "07ce77db-6f2f-444d-852c-159f6b90f7c2",
        "colab": {
          "base_uri": "https://localhost:8080/"
        }
      },
      "source": [
        "def representative_dataset_gen():\n",
        "    for i in range(len(X_train)):\n",
        "      input = X_train[i].reshape(1,80,3,1)\n",
        "      input = input.astype(np.float32)\n",
        "      yield [input]\n",
        "converter = tf.lite.TFLiteConverter.from_keras_model(model)\n",
        "# This enables quantization\n",
        "converter.optimizations = [tf.lite.Optimize.DEFAULT]\n",
        "# This sets the representative dataset for quantization\n",
        "converter.representative_dataset = representative_dataset_gen\n",
        "\n",
        "tflite_model_int8 = converter.convert()\n",
        "\n",
        "open(MODEL_TFLITE_INT8, \"wb\").write(tflite_model_int8)"
      ],
      "execution_count": null,
      "outputs": [
        {
          "output_type": "stream",
          "text": [
            "INFO:tensorflow:Assets written to: /tmp/tmpnxzijaio/assets\n"
          ],
          "name": "stdout"
        },
        {
          "output_type": "stream",
          "text": [
            "INFO:tensorflow:Assets written to: /tmp/tmpnxzijaio/assets\n"
          ],
          "name": "stderr"
        },
        {
          "output_type": "execute_result",
          "data": {
            "text/plain": [
              "168096"
            ]
          },
          "metadata": {
            "tags": []
          },
          "execution_count": 263
        }
      ]
    },
    {
      "cell_type": "code",
      "metadata": {
        "id": "jD6V4earskla",
        "outputId": "1371c911-84e5-4027-a905-4f01b07afb0e",
        "colab": {
          "base_uri": "https://localhost:8080/",
          "height": 476
        }
      },
      "source": [
        "# Initialize an interpreter with the model\n",
        "interpreter = tf.lite.Interpreter(MODEL_TFLITE_INT8)\n",
        "\n",
        "# Allocate memory for the model's input Tensor's\n",
        "interpreter.allocate_tensors()\n",
        "\n",
        "input_index = interpreter.get_input_details()[0][\"index\"]\n",
        "output_index = interpreter.get_output_details()[0][\"index\"]\n",
        "\n",
        "\n",
        "# Create arrays to store the results\n",
        "har_model_predictions = []\n",
        "\n",
        "# Inference with Tensorflow Lite model\n",
        "for i in range(len(X_test)):\n",
        "  input = X_test[i].reshape(1,80,3,1)\n",
        "  input = input.astype(np.float32)\n",
        "\n",
        "  #x_value_tensor = tf.convert_to_tensor(input, dtype=tf.float32)\n",
        "  interpreter.set_tensor(input_index, input)\n",
        "  interpreter.invoke()\n",
        "  har_model_predictions.append(interpreter.get_tensor(output_index)[0])\n",
        "\n",
        "# Plot Confusion matrix\n",
        "y_pred=np.argmax(har_model_predictions, axis=1)\n",
        "mat = confusion_matrix(y_test, y_pred)\n",
        "plot_confusion_matrix(conf_mat=mat, show_normed=True, figsize=(7,7))"
      ],
      "execution_count": null,
      "outputs": [
        {
          "output_type": "execute_result",
          "data": {
            "text/plain": [
              "(<Figure size 504x504 with 1 Axes>,\n",
              " <matplotlib.axes._subplots.AxesSubplot at 0x7fed9490fcf8>)"
            ]
          },
          "metadata": {
            "tags": []
          },
          "execution_count": 264
        },
        {
          "output_type": "display_data",
          "data": {
            "image/png": "[encoded data removed]",
            "text/plain": [
              "<Figure size 504x504 with 1 Axes>"
            ]
          },
          "metadata": {
            "tags": [],
            "needs_background": "light"
          }
        }
      ]
    },
    {
      "cell_type": "markdown",
      "metadata": {
        "id": "vjE_ej1BEpy9"
      },
      "source": [
        "### Convert to a TensorFlow Lite model - using integer-only quantization"
      ]
    },
    {
      "cell_type": "code",
      "metadata": {
        "id": "qRhBtJerExNL",
        "outputId": "3375bb15-cd23-4ba4-c87e-2c6d4b6ab7d4",
        "colab": {
          "base_uri": "https://localhost:8080/"
        }
      },
      "source": [
        "def representative_dataset_gen():\n",
        "    for i in range(len(X_train)):\n",
        "      input = X_train[i].reshape(1,80,3,1)\n",
        "      input = input.astype(np.float32)\n",
        "      yield [input]\n",
        "\n",
        "converter=tf.lite.TFLiteConverter.from_keras_model(model)\n",
        "# This enables quantization\n",
        "converter.optimizations = [tf.lite.Optimize.DEFAULT]\n",
        "# This sets the representative dataset for quantization\n",
        "converter.representative_dataset = representative_dataset_gen\n",
        "\n",
        "# This ensures that if any ops can't be quantized, the converter throws an error\n",
        "converter.target_spec.supported_ops = [tf.lite.OpsSet.TFLITE_BUILTINS_INT8]\n",
        "# For full integer quantization, though supported types defaults to int8 only, \n",
        "# we explicitly declare it for clarity.\n",
        "converter.target_spec.supported_types = [tf.int8]\n",
        "# Set the input and output tensors to uint8 (APIs added in r2.3)\n",
        "converter.inference_input_type = tf.int8  # or tf.uint8\n",
        "converter.inference_output_type = tf.int8  # or tf.uint8\n",
        "# Provide a representative dataset to ensure we quantize correctly.\n",
        "tflite_model_int8_full = converter.convert()\n",
        "\n",
        "open(MODEL_TFLITE_INT8_FULL, \"wb\").write(tflite_model_int8_full)"
      ],
      "execution_count": null,
      "outputs": [
        {
          "output_type": "stream",
          "text": [
            "INFO:tensorflow:Assets written to: /tmp/tmp_jk1rwrk/assets\n"
          ],
          "name": "stdout"
        },
        {
          "output_type": "stream",
          "text": [
            "INFO:tensorflow:Assets written to: /tmp/tmp_jk1rwrk/assets\n"
          ],
          "name": "stderr"
        },
        {
          "output_type": "execute_result",
          "data": {
            "text/plain": [
              "167840"
            ]
          },
          "metadata": {
            "tags": []
          },
          "execution_count": 265
        }
      ]
    },
    {
      "cell_type": "code",
      "metadata": {
        "id": "XfvdUWAytSFI",
        "outputId": "afa9c92a-b177-435c-ff98-08b2a4763387",
        "colab": {
          "base_uri": "https://localhost:8080/",
          "height": 442
        }
      },
      "source": [
        "# Initialize an interpreter with the model\n",
        "interpreter = tf.lite.Interpreter(MODEL_TFLITE_INT8_FULL)\n",
        "\n",
        "# Allocate memory for the model's input Tensor's\n",
        "interpreter.allocate_tensors()\n",
        "\n",
        "input_details = interpreter.get_input_details()[0]\n",
        "output_details = interpreter.get_output_details()[0]\n",
        "\n",
        "# Create arrays to store the results\n",
        "har_model_predictions = []\n",
        "\n",
        "# Inference with Tensorflow Lite model\n",
        "for i in range(len(X_test)):\n",
        "  tf_input = X_test[i].reshape(1,80,3,1)\n",
        "  tf_input = tf_input.astype(np.float32)\n",
        "\n",
        "# Manually quantize the input from float to integer\n",
        "  scale, zero_point = input_details['quantization']\n",
        "  tflite_integer_input = tf_input / scale + zero_point\n",
        "  tflite_integer_input = tflite_integer_input.astype(input_details['dtype'])\n",
        "  interpreter.set_tensor(input_details['index'], tflite_integer_input)\n",
        "\n",
        "  interpreter.invoke()\n",
        "\n",
        "  output_details = interpreter.get_output_details()[0]\n",
        "  tflite_integer_output = interpreter.get_tensor(output_details['index'])\n",
        "  # Manually dequantize the output from integer to float\n",
        "  scale, zero_point = output_details['quantization']\n",
        "  tflite_output = tflite_integer_output.astype(np.float32)\n",
        "  tflite_output = (tflite_output - zero_point) * scale\n",
        "\n",
        "  har_model_predictions.append(tflite_output[0])\n",
        "\n",
        "# Plot Confusion matrix\n",
        "y_pred=np.argmax(har_model_predictions, axis=1)\n",
        "mat = confusion_matrix(y_test, y_pred)\n",
        "plot_confusion_matrix(conf_mat=mat, show_normed=True, figsize=(7,7))\n",
        "plt.show()"
      ],
      "execution_count": null,
      "outputs": [
        {
          "output_type": "display_data",
          "data": {
            "image/png": "[encoded data removed]",
            "text/plain": [
              "<Figure size 504x504 with 1 Axes>"
            ]
          },
          "metadata": {
            "tags": [],
            "needs_background": "light"
          }
        }
      ]
    },
    {
      "cell_type": "markdown",
      "metadata": {
        "id": "wBwLKlq_KIEQ"
      },
      "source": [
        "### Generate C file"
      ]
    },
    {
      "cell_type": "code",
      "metadata": {
        "id": "XKt2YT9VKLcM"
      },
      "source": [
        "from tensorflow.lite.python.util import convert_bytes_to_c_source\n",
        "source_text, header_text = convert_bytes_to_c_source(tflite_model,  \"har_model\")\n",
        "\n",
        "with  open(MODEL_TFLITE_MICRO_H,  'w')  as  file:\n",
        "    file.write(header_text)\n",
        "\n",
        "with  open(MODEL_TFLITE_MICRO_C,  'w')  as  file:\n",
        "    file.write(source_text)"
      ],
      "execution_count": null,
      "outputs": []
    },
    {
      "cell_type": "code",
      "metadata": {
        "id": "IuE8MbI8p5Uk"
      },
      "source": [
        "from tensorflow.lite.python.util import convert_bytes_to_c_source\n",
        "source_text, header_text = convert_bytes_to_c_source(tflite_model_int8,  \"har_model\")\n",
        "\n",
        "with  open(MODEL_TFLITE_INT8_MICRO_H,  'w')  as  file:\n",
        "    file.write(header_text)\n",
        "\n",
        "with  open(MODEL_TFLITE_INT8_MICRO_C,  'w')  as  file:\n",
        "    file.write(source_text)"
      ],
      "execution_count": null,
      "outputs": []
    },
    {
      "cell_type": "code",
      "metadata": {
        "id": "TIiM4xohp1B2"
      },
      "source": [
        "from tensorflow.lite.python.util import convert_bytes_to_c_source\n",
        "source_text, header_text = convert_bytes_to_c_source(tflite_model_int8_full,  \"har_model\")\n",
        "\n",
        "with  open(MODEL_TFLITE_INT8_FULL_MICRO_H,  'w')  as  file:\n",
        "    file.write(header_text)\n",
        "\n",
        "with  open(MODEL_TFLITE_INT8_FULL_MICRO_C,  'w')  as  file:\n",
        "    file.write(source_text)"
      ],
      "execution_count": null,
      "outputs": []
    }
  ]
}