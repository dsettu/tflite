{
  "nbformat": 4,
  "nbformat_minor": 0,
  "metadata": {
    "kernelspec": {
      "display_name": "Python 3.7 (tf)",
      "language": "python",
      "name": "tf"
    },
    "language_info": {
      "codemirror_mode": {
        "name": "ipython",
        "version": 3
      },
      "file_extension": ".py",
      "mimetype": "text/x-python",
      "name": "python",
      "nbconvert_exporter": "python",
      "pygments_lexer": "ipython3",
      "version": "3.7.9"
    },
    "varInspector": {
      "cols": {
        "lenName": 16,
        "lenType": 16,
        "lenVar": 40
      },
      "kernels_config": {
        "python": {
          "delete_cmd_postfix": "",
          "delete_cmd_prefix": "del ",
          "library": "var_list.py",
          "varRefreshCmd": "print(var_dic_list())"
        },
        "r": {
          "delete_cmd_postfix": ") ",
          "delete_cmd_prefix": "rm(",
          "library": "var_list.r",
          "varRefreshCmd": "cat(var_dic_list()) "
        }
      },
      "types_to_exclude": [
        "module",
        "function",
        "builtin_function_or_method",
        "instance",
        "_Feature"
      ],
      "window_display": false
    },
    "colab": {
      "name": "CNN_HAR_KERAS.ipynb",
      "provenance": [],
      "collapsed_sections": [],
      "toc_visible": true
    }
  },
  "cells": [
    {
      "cell_type": "markdown",
      "metadata": {
        "id": "81qCrMUGJBI4"
      },
      "source": [
        "## Train Human Activity Recognition Model"
      ]
    },
    {
      "cell_type": "markdown",
      "metadata": {
        "id": "uZX1zQRO9LXL"
      },
      "source": [
        "<table class=\"tfo-notebook-buttons\" align=\"left\">\n",
        "  <td>\n",
        "    <a target=\"_blank\" href=\"https://colab.research.google.com/github/dsettu/tflite/blob/main/har_ign/CNN_HAR_KERAS.ipynb\"><img src=\"https://www.tensorflow.org/images/colab_logo_32px.png\" />Run in Google Colab</a>\n",
        "  </td>\n",
        "  <td>\n",
        "    <a target=\"_blank\" href=\"https://colab.research.google.com/github/dsettu/tflite/blob/main/har_ign/CNN_HAR_KERAS.ipynb\"><img src=\"https://www.tensorflow.org/images/GitHub-Mark-32px.png\" />View source on GitHub</a>\n",
        "  </td>\n",
        "</table>\n",
        "\n",
        "\n"
      ]
    },
    {
      "cell_type": "markdown",
      "metadata": {
        "id": "yMI30XNHI0KE"
      },
      "source": [
        "## Step1 : Import necessary dependencies\n",
        "Following section imports all the required dependencies. This also sets seeds for random number generators in Numpy and Tensorflow environments to make the results reproducibile."
      ]
    },
    {
      "cell_type": "code",
      "metadata": {
        "id": "iG_adC5XKHjA"
      },
      "source": [
        "# Constants for training directories and filepaths\n",
        "DATASET =  'tflite/har_ign/dataset/WISDM_ar_v1.1/WISDM_ar_v1.1_raw.txt'\n",
        "\n",
        "import sys\n",
        "# We add this path so we can import the speech processing modules.\n",
        "sys.path.append(\"/content/tflite/har_ign/\")\n",
        "\n",
        "# Constants for inference directories and filepaths\n",
        "import os\n",
        "MODELS_DIR = 'models'\n",
        "TFLITE_DIR = 'tflite'\n",
        "\n",
        "!rm -rf {TFLITE_DIR} {MODELS_DIR} \n",
        "\n",
        "if not os.path.exists(MODELS_DIR):\n",
        "  os.mkdir(MODELS_DIR)\n",
        "\n",
        "!git clone -q --depth 1 https://github.com/dsettu/tflite\n",
        "\n",
        "MODEL_TF = os.path.join(MODELS_DIR, 'model.h5')\n",
        "MODEL_TFLITE = os.path.join(MODELS_DIR, 'model.tflite')\n",
        "MODEL_TFLITE_MICRO_C = os.path.join(MODELS_DIR, 'model.cpp')\n",
        "MODEL_TFLITE_MICRO_H = os.path.join(MODELS_DIR, 'model.h')\n"
      ],
      "execution_count": 18,
      "outputs": []
    },
    {
      "cell_type": "code",
      "metadata": {
        "id": "IjC28itiI0KF"
      },
      "source": [
        "import importlib.util\n",
        "import sys\n",
        "import numpy as np\n",
        "import pandas as pd \n",
        "\n",
        "np.random.seed(611)\n",
        "\n",
        "import argparse, os, logging, warnings\n",
        "from os.path import isfile, join\n",
        "from datetime import datetime\n",
        "\n",
        "# private libraries\n",
        "from PrepareDataset import DataHelper\n",
        "from HARNN import ANNModelHandler\n",
        "\n",
        "# for using callbacks to save the model during training and comparing the results at every epoch\n",
        "from keras.callbacks import ModelCheckpoint\n",
        "\n",
        "# disabling annoying warnings originating from Tensorflow\n",
        "logging.getLogger('tensorflow').disabled = True\n",
        "\n",
        "import tensorflow as tf\n",
        "tf.compat.v1.set_random_seed(611)\n",
        "\n",
        "# disabling annoying warnings originating from python\n",
        "warnings.simplefilter(\"ignore\")"
      ],
      "execution_count": 19,
      "outputs": []
    },
    {
      "cell_type": "markdown",
      "metadata": {
        "id": "JyvZFKUxI0KP"
      },
      "source": [
        "## Step2: Set environment variables\n",
        "Following section sets some user variables which will later be used for:\n",
        "\n",
        "* preparing the dataset.\n",
        "* preparing the neural networks.\n",
        "* training the neural networks.\n",
        "* validating the neural network."
      ]
    },
    {
      "cell_type": "code",
      "metadata": {
        "id": "MNfsTx5mI0KR"
      },
      "source": [
        "# data variables\n",
        "dataset = 'WISDM'\n",
        "merge = True\n",
        "segmentLength = 24\n",
        "stepSize = 24\n",
        "dataDir = 'tflite/har_ign/dataset/ai_logged_data'\n",
        "preprocessing = True\n",
        "\n",
        "# neural network variables\n",
        "modelName = 'IGN'\n",
        "\n",
        "# training variables\n",
        "trainTestSplit = 0.6\n",
        "trainValidationSplit = 0.7\n",
        "nEpochs = 20\n",
        "learningRate = 0.0005\n",
        "decay = 1e-6\n",
        "batchSize = 64\n",
        "verbosity = 1\n",
        "nrSamplesPostValid = 2"
      ],
      "execution_count": 20,
      "outputs": []
    },
    {
      "cell_type": "markdown",
      "metadata": {
        "id": "z85wOjLPI0KX"
      },
      "source": [
        "## Step3: Result directory\n",
        "Each run can have different variables and to compare the results of different choices, such as different segment size for the window for data, different overlap settings etc, we need to save the results. Following section creates a result directory to save results for the current run. The name of the directory has following format. `Mmm_dd_yyyy_hh_mm_ss_dataset_model_seqLen_stepSize_epochs_results`, and example name for directory can be `Oct_24_2019_14_31_20_WISDM_IGN_24_16_20_results`, which shows the process was started at October 24, 2019, at 14:31:20, the dataset used was WISDM, with segment size = 24, segment step = 16, and Nr of epochs = 20."
      ]
    },
    {
      "cell_type": "code",
      "metadata": {
        "id": "kQ5WJKf2I0KY"
      },
      "source": [
        "# if not already exist create a parent directory for results.\n",
        "if not os.path.exists( './results/'):\n",
        "    os.mkdir( './results/' )\n",
        "resultDirName = 'results/{}/'.format(datetime.now().strftime( \"%Y_%b_%d_%H_%M_%S\" ) )\n",
        "os.mkdir( resultDirName )\n",
        "infoString = 'runTime : {}\\nDatabase : {}\\nNetwork : {}\\nSeqLength : {}\\nStepSize : {}\\nEpochs : {}\\n'.format( datetime.now().strftime(\"%Y-%b-%d at %H:%M:%S\"), dataset, modelName, segmentLength, stepSize, nEpochs )\n",
        "with open( resultDirName + 'info.txt', 'w' ) as text_file:\n",
        "    text_file.write( infoString )"
      ],
      "execution_count": 21,
      "outputs": []
    },
    {
      "cell_type": "code",
      "metadata": {
        "id": "CpifpdBrHLtK",
        "outputId": "c8b92b4c-4902-4f7a-dc65-d016dc0f6219",
        "colab": {
          "base_uri": "https://localhost:8080/"
        }
      },
      "source": [
        "print(resultDirName)"
      ],
      "execution_count": 22,
      "outputs": [
        {
          "output_type": "stream",
          "text": [
            "results/2020_Nov_05_12_17_34/\n"
          ],
          "name": "stdout"
        }
      ]
    },
    {
      "cell_type": "markdown",
      "metadata": {
        "id": "IIud0_o4I0Kb"
      },
      "source": [
        "## Step4: Create a `DataHelper` object\n",
        "The script in the following section creates a `DataHelper` object to preprocess, segment and split the dataset as well as to create one-hot-code labeling for the outputs to make the data training and testing ready using the choices set by the user in **Step2**."
      ]
    },
    {
      "cell_type": "code",
      "metadata": {
        "id": "UbKv03HpI0Kc"
      },
      "source": [
        "myDataHelper = DataHelper( dataset = dataset, loggedDataDir = dataDir, merge = merge,\n",
        "                            modelName = modelName, seqLength = segmentLength, seqStep = stepSize,\n",
        "                            preprocessing = preprocessing, trainTestSplit = trainTestSplit,\n",
        "                            trainValidSplit = trainValidationSplit, resultDir = resultDirName )"
      ],
      "execution_count": 23,
      "outputs": []
    },
    {
      "cell_type": "markdown",
      "metadata": {
        "id": "q7pgPOvPI0Kg"
      },
      "source": [
        "## Step5: Prepare the dataset\n",
        "Following section prepares the dataset and create six tensors namely `TrainX`, `TrainY`, `ValidationX`, `ValidationY`, `TestX`, `TestY`. Each of the variables with trailing `X` are the inputs with shape `[_, segmentLength, 3, 1 ]`and each of the variables with trailing `Y` are corresponding outputs with shape `[ _, NrClasses ]`. `NrClasses` for `WISDM` can be `4` or `6` and for `AST` is `5`."
      ]
    },
    {
      "cell_type": "code",
      "metadata": {
        "id": "vB5ORFxXI0Kg",
        "outputId": "226e8dd5-66e4-42e0-e421-a600061276d4",
        "colab": {
          "base_uri": "https://localhost:8080/"
        }
      },
      "source": [
        "TrainX, TrainY, ValidationX, ValidationY, TestX, TestY = myDataHelper.prepare_data()"
      ],
      "execution_count": 24,
      "outputs": [
        {
          "output_type": "stream",
          "text": [
            "Segments built :   1%|          | 279/27456 [00:00<00:09, 2788.33 segments/s]"
          ],
          "name": "stderr"
        },
        {
          "output_type": "stream",
          "text": [
            "Segmenting Train data\n"
          ],
          "name": "stdout"
        },
        {
          "output_type": "stream",
          "text": [
            "Segments built : 100%|██████████| 27456/27456 [00:20<00:00, 1333.16 segments/s]\n",
            "Segments built :   2%|▏         | 377/18304 [00:00<00:04, 3769.53 segments/s]"
          ],
          "name": "stderr"
        },
        {
          "output_type": "stream",
          "text": [
            "Segmenting Test data\n"
          ],
          "name": "stdout"
        },
        {
          "output_type": "stream",
          "text": [
            "Segments built : 100%|██████████| 18304/18304 [00:10<00:00, 1725.00 segments/s]\n",
            "Segments built : 100%|██████████| 61/61 [00:00<00:00, 3008.37 segments/s]\n",
            "Segments built : 100%|██████████| 41/41 [00:00<00:00, 2579.37 segments/s]"
          ],
          "name": "stderr"
        },
        {
          "output_type": "stream",
          "text": [
            "Segmentation finished!\n",
            "preparing data file from all the files in directory  tflite/har_ign/dataset/ai_logged_data\n",
            "parsing data from  IoT01-MemsAnn_03_Oct_19_10h_01m_12s.csv\n",
            "parsing data from  IoT01-MemsAnn_03_Oct_19_10h_01m_26s.csv\n",
            "parsing data from  IoT01-MemsAnn_03_Oct_19_10h_00m_36s.csv\n",
            "parsing data from  IoT01-MemsAnn_03_Oct_19_09h_59m_42s.csv\n",
            "parsing data from  IoT01-MemsAnn_03_Oct_19_09h_58m_09s.csv\n",
            "parsing data from  IoT01-MemsAnn_03_Oct_19_09h_58m_33s.csv\n",
            "Segmenting the AI logged Train data\n",
            "Segmenting the AI logged Test data\n",
            "Segmentation finished!\n"
          ],
          "name": "stdout"
        },
        {
          "output_type": "stream",
          "text": [
            "\n"
          ],
          "name": "stderr"
        }
      ]
    },
    {
      "cell_type": "markdown",
      "metadata": {
        "id": "PYyZVWSOI0Kk"
      },
      "source": [
        "## Step6: Create a `ANNModelHandler` object\n",
        "The script in the following section creates a `ANNModelHandler` object to create, train and validate the <u>A</u>rtificial <u>N</u>eural <u>N</u>etwork (ANN) using the variables created in **Step2**."
      ]
    },
    {
      "cell_type": "code",
      "metadata": {
        "id": "QVy6hW0hI0Kl"
      },
      "source": [
        "myHarHandler = ANNModelHandler( modelName = modelName, classes = myDataHelper.classes, resultDir = resultDirName,\n",
        "                              inputShape = TrainX.shape, outputShape = TrainY.shape, learningRate = learningRate,\n",
        "                              decayRate = decay, nEpochs = nEpochs, batchSize = batchSize,\n",
        "                              modelFileName = 'har_' + modelName, verbosity = verbosity )"
      ],
      "execution_count": 25,
      "outputs": []
    },
    {
      "cell_type": "markdown",
      "metadata": {
        "id": "bWeyeyqGI0Kq"
      },
      "source": [
        "## Step6: Create a ANN model\n",
        "Following script creates the ANN and prints its summary to show the architecture and nr of parameters for ANN."
      ]
    },
    {
      "cell_type": "code",
      "metadata": {
        "id": "Nv7qMMIhI0Kr",
        "outputId": "5e4d59ce-fb06-4dd3-eb75-b8562dfdf916",
        "colab": {
          "base_uri": "https://localhost:8080/"
        }
      },
      "source": [
        "harModel = myHarHandler.build_model()\n",
        "harModel.summary()"
      ],
      "execution_count": 26,
      "outputs": [
        {
          "output_type": "stream",
          "text": [
            "Model: \"sequential_1\"\n",
            "_________________________________________________________________\n",
            "Layer (type)                 Output Shape              Param #   \n",
            "=================================================================\n",
            "conv2d_1 (Conv2D)            (None, 9, 3, 24)          408       \n",
            "_________________________________________________________________\n",
            "max_pooling2d_1 (MaxPooling2 (None, 3, 3, 24)          0         \n",
            "_________________________________________________________________\n",
            "flatten_1 (Flatten)          (None, 216)               0         \n",
            "_________________________________________________________________\n",
            "dense_2 (Dense)              (None, 12)                2604      \n",
            "_________________________________________________________________\n",
            "dropout_1 (Dropout)          (None, 12)                0         \n",
            "_________________________________________________________________\n",
            "dense_3 (Dense)              (None, 4)                 52        \n",
            "=================================================================\n",
            "Total params: 3,064\n",
            "Trainable params: 3,064\n",
            "Non-trainable params: 0\n",
            "_________________________________________________________________\n"
          ],
          "name": "stdout"
        }
      ]
    },
    {
      "cell_type": "markdown",
      "metadata": {
        "id": "rrgaTm5JI0Kv"
      },
      "source": [
        "## Step7: Create a Checkpoint for ANN training\n",
        "The following script creates a check point for the training process of ANN to save the neural network as `h5` file. The settings are used in a way that the validation accuracy `val_acc` is maximized."
      ]
    },
    {
      "cell_type": "code",
      "metadata": {
        "id": "AEJfdzssI0Kw"
      },
      "source": [
        "harModelCheckPoint = ModelCheckpoint( filepath = join(resultDirName, 'har_' + modelName + '.h5'),\n",
        "                                     monitor = 'val_acc', verbose = 0, save_best_only = True, mode = 'max' )"
      ],
      "execution_count": 27,
      "outputs": []
    },
    {
      "cell_type": "markdown",
      "metadata": {
        "id": "moef8F7BI0Kz"
      },
      "source": [
        "## Step7 : Train the created neural network\n",
        "The following script trains the created neural network with the provided checkpoint and created datasets."
      ]
    },
    {
      "cell_type": "code",
      "metadata": {
        "id": "cmL6UefpI0Kz",
        "outputId": "2de92860-ec2a-44cd-bbcb-fb1c4ff8cbcb",
        "colab": {
          "base_uri": "https://localhost:8080/",
          "height": 1000
        }
      },
      "source": [
        "harModel = myHarHandler.train_model( harModel, TrainX, TrainY, ValidationX, ValidationY, harModelCheckPoint )"
      ],
      "execution_count": 28,
      "outputs": [
        {
          "output_type": "stream",
          "text": [
            "Epoch 1/20\n",
            "302/302 [==============================] - 1s 4ms/step - loss: 1.2508 - acc: 0.4693 - val_loss: 0.7405 - val_acc: 0.7044\n",
            "Epoch 2/20\n",
            "302/302 [==============================] - 1s 3ms/step - loss: 0.7945 - acc: 0.6791 - val_loss: 0.5789 - val_acc: 0.7903\n",
            "Epoch 3/20\n",
            "302/302 [==============================] - 1s 3ms/step - loss: 0.6297 - acc: 0.7571 - val_loss: 0.4716 - val_acc: 0.8168\n",
            "Epoch 4/20\n",
            "302/302 [==============================] - 1s 3ms/step - loss: 0.5380 - acc: 0.7854 - val_loss: 0.4111 - val_acc: 0.8429\n",
            "Epoch 5/20\n",
            "302/302 [==============================] - 1s 3ms/step - loss: 0.4877 - acc: 0.8068 - val_loss: 0.3794 - val_acc: 0.8625\n",
            "Epoch 6/20\n",
            "302/302 [==============================] - 1s 3ms/step - loss: 0.4491 - acc: 0.8281 - val_loss: 0.3515 - val_acc: 0.8719\n",
            "Epoch 7/20\n",
            "302/302 [==============================] - 1s 3ms/step - loss: 0.4241 - acc: 0.8404 - val_loss: 0.3346 - val_acc: 0.8817\n",
            "Epoch 8/20\n",
            "302/302 [==============================] - 1s 3ms/step - loss: 0.4083 - acc: 0.8464 - val_loss: 0.3212 - val_acc: 0.8917\n",
            "Epoch 9/20\n",
            "302/302 [==============================] - 1s 3ms/step - loss: 0.3906 - acc: 0.8580 - val_loss: 0.3164 - val_acc: 0.8893\n",
            "Epoch 10/20\n",
            "302/302 [==============================] - 1s 3ms/step - loss: 0.3798 - acc: 0.8661 - val_loss: 0.3047 - val_acc: 0.8983\n",
            "Epoch 11/20\n",
            "302/302 [==============================] - 1s 3ms/step - loss: 0.3806 - acc: 0.8669 - val_loss: 0.2983 - val_acc: 0.9010\n",
            "Epoch 12/20\n",
            "302/302 [==============================] - 1s 3ms/step - loss: 0.3634 - acc: 0.8748 - val_loss: 0.2886 - val_acc: 0.9032\n",
            "Epoch 13/20\n",
            "302/302 [==============================] - 1s 3ms/step - loss: 0.3532 - acc: 0.8782 - val_loss: 0.2891 - val_acc: 0.9053\n",
            "Epoch 14/20\n",
            "302/302 [==============================] - 1s 3ms/step - loss: 0.3508 - acc: 0.8826 - val_loss: 0.2808 - val_acc: 0.9051\n",
            "Epoch 15/20\n",
            "302/302 [==============================] - 1s 3ms/step - loss: 0.3408 - acc: 0.8847 - val_loss: 0.2765 - val_acc: 0.9069\n",
            "Epoch 16/20\n",
            "302/302 [==============================] - 1s 3ms/step - loss: 0.3385 - acc: 0.8859 - val_loss: 0.2743 - val_acc: 0.9085\n",
            "Epoch 17/20\n",
            "302/302 [==============================] - 1s 3ms/step - loss: 0.3285 - acc: 0.8917 - val_loss: 0.2695 - val_acc: 0.9095\n",
            "Epoch 18/20\n",
            "302/302 [==============================] - 1s 3ms/step - loss: 0.3265 - acc: 0.8926 - val_loss: 0.2679 - val_acc: 0.9115\n",
            "Epoch 19/20\n",
            "302/302 [==============================] - 1s 3ms/step - loss: 0.3262 - acc: 0.8916 - val_loss: 0.2715 - val_acc: 0.9057\n",
            "Epoch 20/20\n",
            "302/302 [==============================] - 1s 3ms/step - loss: 0.3131 - acc: 0.8958 - val_loss: 0.2604 - val_acc: 0.9119\n"
          ],
          "name": "stdout"
        },
        {
          "output_type": "display_data",
          "data": {
            "image/png": "[encoded data removed]",
            "text/plain": [
              "<Figure size 432x288 with 1 Axes>"
            ]
          },
          "metadata": {
            "tags": [],
            "needs_background": "light"
          }
        },
        {
          "output_type": "display_data",
          "data": {
            "image/png": "[encoded data removed]",
            "text/plain": [
              "<Figure size 432x288 with 1 Axes>"
            ]
          },
          "metadata": {
            "tags": [],
            "needs_background": "light"
          }
        }
      ]
    },
    {
      "cell_type": "markdown",
      "metadata": {
        "id": "bW8f3rOcI0K3"
      },
      "source": [
        "## Step8: Validating the trained neural network\n",
        "The following section validates the created network and creates a confusion matrix for the test dataset to have a detailed picture of the errors."
      ]
    },
    {
      "cell_type": "code",
      "metadata": {
        "scrolled": true,
        "id": "2FEgsRcTI0K4",
        "outputId": "f1a89b13-bd2d-408c-bd7e-4f28d76d83be",
        "colab": {
          "base_uri": "https://localhost:8080/",
          "height": 611
        }
      },
      "source": [
        "myHarHandler.make_confusion_matrix( harModel, TestX, TestY )"
      ],
      "execution_count": 29,
      "outputs": [
        {
          "output_type": "stream",
          "text": [
            "401/401 [==============================] - 0s 965us/step\n",
            "Accuracy for each class is given below.\n",
            "Jogging     : 96.31 %\n",
            "Stationary  : 98.8 %\n",
            "Stairs      : 68.63 %\n",
            "Walking     : 88.17 %\n"
          ],
          "name": "stdout"
        },
        {
          "output_type": "display_data",
          "data": {
            "image/png": "[encoded data removed]",
            "text/plain": [
              "<Figure size 504x504 with 2 Axes>"
            ]
          },
          "metadata": {
            "tags": [],
            "needs_background": "light"
          }
        }
      ]
    },
    {
      "cell_type": "markdown",
      "metadata": {
        "id": "F8axmo2hI0K_"
      },
      "source": [
        "## Step9: Save Neural Network"
      ]
    },
    {
      "cell_type": "code",
      "metadata": {
        "id": "z1ga2ezJI0LA"
      },
      "source": [
        "from tensorflow.keras.models import load_model\n",
        "# Save entire network to HDF5 (save everything, suggested)\n",
        "harModel.save(MODEL_TF)\n",
        "model = load_model (MODEL_TF)"
      ],
      "execution_count": 30,
      "outputs": []
    },
    {
      "cell_type": "markdown",
      "metadata": {
        "id": "oA8tnmdVI0LE"
      },
      "source": [
        "## Step10: Convert to a TensorFlow Lite model - using integer-only quantization"
      ]
    },
    {
      "cell_type": "code",
      "metadata": {
        "id": "-3OWaOQLI0LF"
      },
      "source": [
        "def representative_dataset_gen():\n",
        "    for i in range(len(TrainX)):\n",
        "      input = TrainX[i].reshape(1,24,3,1)\n",
        "      input = input.astype(np.float32)\n",
        "      yield [input]\n",
        "\n",
        "converter=tf.lite.TFLiteConverter.from_keras_model(model)\n",
        "# This enables quantization\n",
        "converter.optimizations = [tf.lite.Optimize.DEFAULT]\n",
        "# This sets the representative dataset for quantization\n",
        "converter.representative_dataset = representative_dataset_gen\n",
        "\n",
        "# This ensures that if any ops can't be quantized, the converter throws an error\n",
        "converter.target_spec.supported_ops = [tf.lite.OpsSet.TFLITE_BUILTINS_INT8]\n",
        "# For full integer quantization, though supported types defaults to int8 only, \n",
        "# we explicitly declare it for clarity.\n",
        "converter.target_spec.supported_types = [tf.int8]\n",
        "# Set the input and output tensors to uint8 (APIs added in r2.3)\n",
        "converter.inference_input_type = tf.int8  # or tf.uint8\n",
        "converter.inference_output_type = tf.int8  # or tf.uint8\n",
        "# Provide a representative dataset to ensure we quantize correctly.\n",
        "tflite_model_quant2 = converter.convert()\n",
        "\n",
        "with open(MODEL_TFLITE, 'wb') as tflite_file:\n",
        "    tflite_file.write(tflite_model_quant2)\n"
      ],
      "execution_count": 31,
      "outputs": []
    },
    {
      "cell_type": "code",
      "metadata": {
        "id": "js7KLLw2I0LI"
      },
      "source": [
        "from tensorflow.lite.python.util import convert_bytes_to_c_source\n",
        "\n",
        "source_text, header_text = convert_bytes_to_c_source(tflite_model_quant2,  \"har_model\")\n",
        "\n",
        "with  open(MODEL_TFLITE_MICRO_H,  'w')  as  file:\n",
        "    file.write(header_text)\n",
        "\n",
        "with  open(MODEL_TFLITE_MICRO_C,  'w')  as  file:\n",
        "    file.write(source_text)"
      ],
      "execution_count": 32,
      "outputs": []
    },
    {
      "cell_type": "markdown",
      "metadata": {
        "id": "AtBVzValI0LM"
      },
      "source": [
        "## Step11: Test the model after quantization"
      ]
    },
    {
      "cell_type": "code",
      "metadata": {
        "id": "cOBHcDMNI0LM",
        "outputId": "ad9eaf9e-d9ad-4925-9dce-8a9e37731ee2",
        "colab": {
          "base_uri": "https://localhost:8080/",
          "height": 476
        }
      },
      "source": [
        "from mlxtend.plotting import plot_confusion_matrix\n",
        "from sklearn.metrics import confusion_matrix\n",
        "\n",
        "# Initialize an interpreter with the model\n",
        "interpreter = tf.lite.Interpreter(MODEL_TFLITE)\n",
        "\n",
        "# Allocate memory for the model's input Tensor's\n",
        "interpreter.allocate_tensors()\n",
        "\n",
        "input_details = interpreter.get_input_details()[0]\n",
        "output_details = interpreter.get_output_details()[0]\n",
        "\n",
        "# Create arrays to store the results\n",
        "har_model_predictions = []\n",
        "\n",
        "# Inference with Tensorflow Lite model\n",
        "for i in range(len(TestX)):\n",
        "  tf_input = TestX[i].reshape(1,24,3,1)\n",
        "  tf_input = tf_input.astype(np.float32)\n",
        "\n",
        "# Manually quantize the input from float to integer\n",
        "  scale, zero_point = input_details['quantization']\n",
        "  tflite_integer_input = tf_input / scale + zero_point\n",
        "  tflite_integer_input = tflite_integer_input.astype(input_details['dtype'])\n",
        "  interpreter.set_tensor(input_details['index'], tflite_integer_input)\n",
        "\n",
        "  if (i==300):\n",
        "    sample=tflite_integer_input;\n",
        "\n",
        "  interpreter.invoke()\n",
        "\n",
        "  output_details = interpreter.get_output_details()[0]\n",
        "  tflite_integer_output = interpreter.get_tensor(output_details['index'])\n",
        "  # Manually dequantize the output from integer to float\n",
        "  scale, zero_point = output_details['quantization']\n",
        "  tflite_output = tflite_integer_output.astype(np.float32)\n",
        "  tflite_output = (tflite_output - zero_point) * scale\n",
        "\n",
        "  har_model_predictions.append(tflite_output[0])\n",
        "\n",
        "# Plot Confusion matrix\n",
        "y_label=tf.argmax(TestY, axis=1)\n",
        "y_pred=np.argmax(har_model_predictions, axis=1)\n",
        "\n",
        "  \n",
        "mat = confusion_matrix(y_label, y_pred)\n",
        "plot_confusion_matrix(conf_mat=mat, show_normed=True, figsize=(7,7))"
      ],
      "execution_count": 33,
      "outputs": [
        {
          "output_type": "execute_result",
          "data": {
            "text/plain": [
              "(<Figure size 504x504 with 1 Axes>,\n",
              " <matplotlib.axes._subplots.AxesSubplot at 0x7ff0caa29470>)"
            ]
          },
          "metadata": {
            "tags": []
          },
          "execution_count": 33
        },
        {
          "output_type": "display_data",
          "data": {
            "image/png": "[encoded data removed]",
            "text/plain": [
              "<Figure size 504x504 with 1 Axes>"
            ]
          },
          "metadata": {
            "tags": [],
            "needs_background": "light"
          }
        }
      ]
    }
  ]
}